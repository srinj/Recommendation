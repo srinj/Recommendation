{
  "nbformat": 4,
  "nbformat_minor": 0,
  "metadata": {
    "colab": {
      "name": "Recommendation Systems Colab",
      "version": "0.3.2",
      "provenance": [],
      "collapsed_sections": [
        "9EjQt_o9Xf_L"
      ],
      "toc_visible": true,
      "include_colab_link": true
    },
    "kernelspec": {
      "name": "python2",
      "display_name": "Python 2"
    },
    "accelerator": "GPU"
  },
  "cells": [
    {
      "cell_type": "markdown",
      "metadata": {
        "id": "view-in-github",
        "colab_type": "text"
      },
      "source": [
        "<a href=\"https://colab.research.google.com/github/srinj/Recommendation/blob/master/Recommendation_Systems_Colab.ipynb\" target=\"_parent\"><img src=\"https://colab.research.google.com/assets/colab-badge.svg\" alt=\"Open In Colab\"/></a>"
      ]
    },
    {
      "cell_type": "markdown",
      "metadata": {
        "id": "9EjQt_o9Xf_L",
        "colab_type": "text"
      },
      "source": [
        "#### Copyright 2018 Google LLC."
      ]
    },
    {
      "cell_type": "code",
      "metadata": {
        "id": "oXzTW-CnXf_Q",
        "colab_type": "code",
        "colab": {}
      },
      "source": [
        "# Licensed under the Apache License, Version 2.0 (the \"License\");\n",
        "# you may not use this file except in compliance with the License.\n",
        "# You may obtain a copy of the License at\n",
        "#\n",
        "# https://www.apache.org/licenses/LICENSE-2.0\n",
        "#\n",
        "# Unless required by applicable law or agreed to in writing, software\n",
        "# distributed under the License is distributed on an \"AS IS\" BASIS,\n",
        "# WITHOUT WARRANTIES OR CONDITIONS OF ANY KIND, either express or implied.\n",
        "# See the License for the specific language governing permissions and\n",
        "# limitations under the License."
      ],
      "execution_count": 0,
      "outputs": []
    },
    {
      "cell_type": "markdown",
      "metadata": {
        "colab_type": "text",
        "id": "k0IFBGCx8_im"
      },
      "source": [
        "# Recommendation Systems with TensorFlow\n",
        "\n",
        "This Colab notebook complements the course on [Recommendation Systems](https://developers.google.com/machine-learning/recommendation/). Specifically, we'll be using matrix factorization to learn user and movie embeddings.\n",
        "\n"
      ]
    },
    {
      "cell_type": "markdown",
      "metadata": {
        "colab_type": "text",
        "id": "Le0Z54X68_iq"
      },
      "source": [
        "# Introduction\n",
        "\n",
        "We will create a movie recommendation system based on the [MovieLens](https://movielens.org/) dataset available [here](http://grouplens.org/datasets/movielens/).  The data consists of movies ratings (on a scale of 1 to 5).\n",
        "\n",
        "## Outline\n",
        "  1. Exploring the MovieLens Data (10 minutes)\n",
        "  1. Preliminaries (25 minutes)\n",
        "  1. Training a matrix factorization model (15 minutes)\n",
        "  1. Inspecting the Embeddings (15 minutes)\n",
        "  1. Regularization in matrix factorization (15 minutes)\n",
        "  1. Softmax model training (30 minutes)\n",
        "\n",
        "## Setup\n",
        "\n",
        "Let's get started by importing the required packages."
      ]
    },
    {
      "cell_type": "code",
      "metadata": {
        "colab_type": "code",
        "cellView": "both",
        "id": "8vRUh2Mzo4s1",
        "outputId": "77893734-def0-462a-a2d2-363c647aa56a",
        "colab": {
          "base_uri": "https://localhost:8080/",
          "height": 507
        }
      },
      "source": [
        "# @title Imports (run this cell)\n",
        "from __future__ import print_function\n",
        "\n",
        "import numpy as np\n",
        "import pandas as pd\n",
        "import collections\n",
        "from mpl_toolkits.mplot3d import Axes3D\n",
        "from IPython import display\n",
        "from matplotlib import pyplot as plt\n",
        "import sklearn\n",
        "import sklearn.manifold\n",
        "import tensorflow as tf\n",
        "tf.logging.set_verbosity(tf.logging.ERROR)\n",
        "\n",
        "# Add some convenience functions to Pandas DataFrame.\n",
        "pd.options.display.max_rows = 10\n",
        "pd.options.display.float_format = '{:.3f}'.format\n",
        "def mask(df, key, function):\n",
        "  \"\"\"Returns a filtered dataframe, by applying function to key\"\"\"\n",
        "  return df[function(df[key])]\n",
        "\n",
        "def flatten_cols(df):\n",
        "  df.columns = [' '.join(col).strip() for col in df.columns.values]\n",
        "  return df\n",
        "\n",
        "pd.DataFrame.mask = mask\n",
        "pd.DataFrame.flatten_cols = flatten_cols\n",
        "\n",
        "# Install Altair and activate its colab renderer.\n",
        "print(\"Installing Altair...\")\n",
        "!pip install git+git://github.com/altair-viz/altair.git\n",
        "import altair as alt\n",
        "alt.data_transformers.enable('default', max_rows=None)\n",
        "alt.renderers.enable('colab')\n",
        "print(\"Done installing Altair.\")\n",
        "\n",
        "# Install spreadsheets and import authentication module.\n",
        "USER_RATINGS = False\n",
        "!pip install --upgrade -q gspread\n",
        "from google.colab import auth\n",
        "import gspread\n",
        "from oauth2client.client import GoogleCredentials"
      ],
      "execution_count": 0,
      "outputs": [
        {
          "output_type": "stream",
          "text": [
            "Installing Altair...\n",
            "Collecting git+git://github.com/altair-viz/altair.git\n",
            "  Cloning git://github.com/altair-viz/altair.git to /tmp/pip-req-build-J7rFrF\n",
            "  Running command git clone -q git://github.com/altair-viz/altair.git /tmp/pip-req-build-J7rFrF\n",
            "Requirement already satisfied: entrypoints in /usr/local/lib/python2.7/dist-packages (from altair==3.2.0.dev0) (0.3)\n",
            "Requirement already satisfied: jinja2 in /usr/local/lib/python2.7/dist-packages (from altair==3.2.0.dev0) (2.10.1)\n",
            "Requirement already satisfied: jsonschema in /usr/local/lib/python2.7/dist-packages (from altair==3.2.0.dev0) (2.6.0)\n",
            "Requirement already satisfied: numpy in /usr/local/lib/python2.7/dist-packages (from altair==3.2.0.dev0) (1.16.4)\n",
            "Requirement already satisfied: pandas in /usr/local/lib/python2.7/dist-packages (from altair==3.2.0.dev0) (0.24.2)\n",
            "Requirement already satisfied: six in /usr/local/lib/python2.7/dist-packages (from altair==3.2.0.dev0) (1.12.0)\n",
            "Requirement already satisfied: toolz in /usr/local/lib/python2.7/dist-packages (from altair==3.2.0.dev0) (0.9.0)\n",
            "Requirement already satisfied: typing>=3.6 in /usr/local/lib/python2.7/dist-packages (from altair==3.2.0.dev0) (3.7.4)\n",
            "Requirement already satisfied: configparser>=3.5; python_version == \"2.7\" in /usr/local/lib/python2.7/dist-packages (from entrypoints->altair==3.2.0.dev0) (3.7.4)\n",
            "Requirement already satisfied: MarkupSafe>=0.23 in /usr/local/lib/python2.7/dist-packages (from jinja2->altair==3.2.0.dev0) (1.1.1)\n",
            "Requirement already satisfied: functools32; python_version == \"2.7\" in /usr/local/lib/python2.7/dist-packages (from jsonschema->altair==3.2.0.dev0) (3.2.3.post2)\n",
            "Requirement already satisfied: pytz>=2011k in /usr/local/lib/python2.7/dist-packages (from pandas->altair==3.2.0.dev0) (2018.9)\n",
            "Requirement already satisfied: python-dateutil>=2.5.0 in /usr/local/lib/python2.7/dist-packages (from pandas->altair==3.2.0.dev0) (2.5.3)\n",
            "Building wheels for collected packages: altair\n",
            "  Building wheel for altair (setup.py) ... \u001b[?25l\u001b[?25hdone\n",
            "  Stored in directory: /tmp/pip-ephem-wheel-cache-22Hq6U/wheels/01/fd/91/025b6149b3949af76e93b3b3ceca5bf12cbdebc98fa46f9ec6\n",
            "Successfully built altair\n",
            "Installing collected packages: altair\n",
            "  Found existing installation: altair 3.1.0\n",
            "    Uninstalling altair-3.1.0:\n",
            "      Successfully uninstalled altair-3.1.0\n",
            "Successfully installed altair-3.2.0.dev0\n",
            "Done installing Altair.\n",
            "  Building wheel for gspread (setup.py) ... \u001b[?25l\u001b[?25hdone\n"
          ],
          "name": "stdout"
        }
      ]
    },
    {
      "cell_type": "markdown",
      "metadata": {
        "colab_type": "text",
        "id": "KhAVFaqCo4s5"
      },
      "source": [
        "We then download the MovieLens Data, and create DataFrames containing movies, users, and ratings."
      ]
    },
    {
      "cell_type": "code",
      "metadata": {
        "colab_type": "code",
        "cellView": "both",
        "id": "O3bcgduFo4s6",
        "outputId": "46b2a4f6-cbbc-42a8-ec1b-f0b2d9944ed4",
        "colab": {
          "base_uri": "https://localhost:8080/",
          "height": 118
        }
      },
      "source": [
        "# @title Load the MovieLens data (run this cell).\n",
        "\n",
        "# Download MovieLens data.\n",
        "print(\"Downloading movielens data...\")\n",
        "import urllib\n",
        "import zipfile\n",
        "\n",
        "urllib.urlretrieve(\"http://files.grouplens.org/datasets/movielens/ml-100k.zip\", \"movielens.zip\")\n",
        "zip_ref = zipfile.ZipFile('movielens.zip', \"r\")\n",
        "zip_ref.extractall()\n",
        "print(\"Done. Dataset contains:\")\n",
        "print(zip_ref.read('ml-100k/u.info'))\n",
        "\n",
        "# Load each data set (users, movies, and ratings).\n",
        "users_cols = ['user_id', 'age', 'sex', 'occupation', 'zip_code']\n",
        "users = pd.read_csv(\n",
        "    'ml-100k/u.user', sep='|', names=users_cols, encoding='latin-1')\n",
        "\n",
        "ratings_cols = ['user_id', 'movie_id', 'rating', 'unix_timestamp']\n",
        "ratings = pd.read_csv(\n",
        "    'ml-100k/u.data', sep='\\t', names=ratings_cols, encoding='latin-1')\n",
        "\n",
        "# The movies file contains a binary feature for each genre.\n",
        "genre_cols = [\n",
        "    \"genre_unknown\", \"Action\", \"Adventure\", \"Animation\", \"Children\", \"Comedy\",\n",
        "    \"Crime\", \"Documentary\", \"Drama\", \"Fantasy\", \"Film-Noir\", \"Horror\",\n",
        "    \"Musical\", \"Mystery\", \"Romance\", \"Sci-Fi\", \"Thriller\", \"War\", \"Western\"\n",
        "]\n",
        "movies_cols = [\n",
        "    'movie_id', 'title', 'release_date', \"video_release_date\", \"imdb_url\"\n",
        "] + genre_cols\n",
        "movies = pd.read_csv(\n",
        "    'ml-100k/u.item', sep='|', names=movies_cols, encoding='latin-1')\n",
        "\n",
        "# Since the ids start at 1, we shift them to start at 0.\n",
        "users[\"user_id\"] = users[\"user_id\"].apply(lambda x: str(x-1))\n",
        "movies[\"movie_id\"] = movies[\"movie_id\"].apply(lambda x: str(x-1))\n",
        "movies[\"year\"] = movies['release_date'].apply(lambda x: str(x).split('-')[-1])\n",
        "ratings[\"movie_id\"] = ratings[\"movie_id\"].apply(lambda x: str(x-1))\n",
        "ratings[\"user_id\"] = ratings[\"user_id\"].apply(lambda x: str(x-1))\n",
        "ratings[\"rating\"] = ratings[\"rating\"].apply(lambda x: float(x))\n",
        "\n",
        "# Compute the number of movies to which a genre is assigned.\n",
        "genre_occurences = movies[genre_cols].sum().to_dict()\n",
        "\n",
        "# Since some movies can belong to more than one genre, we create different\n",
        "# 'genre' columns as follows:\n",
        "# - all_genres: all the active genres of the movie.\n",
        "# - genre: randomly sampled from the active genres.\n",
        "def mark_genres(movies, genres):\n",
        "  def get_random_genre(gs):\n",
        "    active = [genre for genre, g in zip(genres, gs) if g==1]\n",
        "    if len(active) == 0:\n",
        "      return 'Other'\n",
        "    return np.random.choice(active)\n",
        "  def get_all_genres(gs):\n",
        "    active = [genre for genre, g in zip(genres, gs) if g==1]\n",
        "    if len(active) == 0:\n",
        "      return 'Other'\n",
        "    return '-'.join(active)\n",
        "  movies['genre'] = [\n",
        "      get_random_genre(gs) for gs in zip(*[movies[genre] for genre in genres])]\n",
        "  movies['all_genres'] = [\n",
        "      get_all_genres(gs) for gs in zip(*[movies[genre] for genre in genres])]\n",
        "\n",
        "mark_genres(movies, genre_cols)\n",
        "\n",
        "# Create one merged DataFrame containing all the movielens data.\n",
        "movielens = ratings.merge(movies, on='movie_id').merge(users, on='user_id')\n",
        "\n",
        "# Utility to split the data into training and test sets.\n",
        "def split_dataframe(df, holdout_fraction=0.1):\n",
        "  \"\"\"Splits a DataFrame into training and test sets.\n",
        "  Args:\n",
        "    df: a dataframe.\n",
        "    holdout_fraction: fraction of dataframe rows to use in the test set.\n",
        "  Returns:\n",
        "    train: dataframe for training\n",
        "    test: dataframe for testing\n",
        "  \"\"\"\n",
        "  test = df.sample(frac=holdout_fraction, replace=False)\n",
        "  train = df[~df.index.isin(test.index)]\n",
        "  return train, test"
      ],
      "execution_count": 0,
      "outputs": [
        {
          "output_type": "stream",
          "text": [
            "Downloading movielens data...\n",
            "Done. Dataset contains:\n",
            "943 users\n",
            "1682 items\n",
            "100000 ratings\n",
            "\n"
          ],
          "name": "stdout"
        }
      ]
    },
    {
      "cell_type": "code",
      "metadata": {
        "id": "MM8wdRFUyIxM",
        "colab_type": "code",
        "outputId": "ef3aeb00-6b4b-468a-f12b-60fbc49b0c8e",
        "colab": {
          "base_uri": "https://localhost:8080/",
          "height": 166
        }
      },
      "source": [
        "users.describe(include=[np.object])"
      ],
      "execution_count": 0,
      "outputs": [
        {
          "output_type": "execute_result",
          "data": {
            "text/html": [
              "<div>\n",
              "<style scoped>\n",
              "    .dataframe tbody tr th:only-of-type {\n",
              "        vertical-align: middle;\n",
              "    }\n",
              "\n",
              "    .dataframe tbody tr th {\n",
              "        vertical-align: top;\n",
              "    }\n",
              "\n",
              "    .dataframe thead th {\n",
              "        text-align: right;\n",
              "    }\n",
              "</style>\n",
              "<table border=\"1\" class=\"dataframe\">\n",
              "  <thead>\n",
              "    <tr style=\"text-align: right;\">\n",
              "      <th></th>\n",
              "      <th>user_id</th>\n",
              "      <th>sex</th>\n",
              "      <th>occupation</th>\n",
              "      <th>zip_code</th>\n",
              "    </tr>\n",
              "  </thead>\n",
              "  <tbody>\n",
              "    <tr>\n",
              "      <th>count</th>\n",
              "      <td>943</td>\n",
              "      <td>943</td>\n",
              "      <td>943</td>\n",
              "      <td>943</td>\n",
              "    </tr>\n",
              "    <tr>\n",
              "      <th>unique</th>\n",
              "      <td>943</td>\n",
              "      <td>2</td>\n",
              "      <td>21</td>\n",
              "      <td>795</td>\n",
              "    </tr>\n",
              "    <tr>\n",
              "      <th>top</th>\n",
              "      <td>823</td>\n",
              "      <td>M</td>\n",
              "      <td>student</td>\n",
              "      <td>55414</td>\n",
              "    </tr>\n",
              "    <tr>\n",
              "      <th>freq</th>\n",
              "      <td>1</td>\n",
              "      <td>670</td>\n",
              "      <td>196</td>\n",
              "      <td>9</td>\n",
              "    </tr>\n",
              "  </tbody>\n",
              "</table>\n",
              "</div>"
            ],
            "text/plain": [
              "       user_id  sex occupation zip_code\n",
              "count      943  943        943      943\n",
              "unique     943    2         21      795\n",
              "top        823    M    student    55414\n",
              "freq         1  670        196        9"
            ]
          },
          "metadata": {
            "tags": []
          },
          "execution_count": 14
        }
      ]
    },
    {
      "cell_type": "markdown",
      "metadata": {
        "colab_type": "text",
        "id": "bfhOILgfo4s8"
      },
      "source": [
        "# I. Exploring the Movielens Data\n",
        "Before we dive into model building, let's inspect our MovieLens dataset. It is usually helpful to understand the statistics of the dataset."
      ]
    },
    {
      "cell_type": "markdown",
      "metadata": {
        "colab_type": "text",
        "id": "EoB8Drqwo4s-"
      },
      "source": [
        "### Users\n",
        "We start by printing some basic statistics describing the numeric user features."
      ]
    },
    {
      "cell_type": "code",
      "metadata": {
        "colab_type": "code",
        "id": "k-IRqWato4s-",
        "colab": {}
      },
      "source": [
        "users.describe()"
      ],
      "execution_count": 0,
      "outputs": []
    },
    {
      "cell_type": "markdown",
      "metadata": {
        "colab_type": "text",
        "id": "h3nZ1ARho4tC"
      },
      "source": [
        "We can also print some basic statistics describing the categorical user features"
      ]
    },
    {
      "cell_type": "code",
      "metadata": {
        "colab_type": "code",
        "id": "jFGxSmTGo4tD",
        "colab": {}
      },
      "source": [
        "users.describe(include=[np.object])"
      ],
      "execution_count": 0,
      "outputs": []
    },
    {
      "cell_type": "markdown",
      "metadata": {
        "colab_type": "text",
        "id": "CH2_gW3Oo4tF"
      },
      "source": [
        "We can also create histograms to further understand the distribution of the users. We use Altair to create an interactive chart."
      ]
    },
    {
      "cell_type": "code",
      "metadata": {
        "colab_type": "code",
        "cellView": "both",
        "id": "ffkqaK_zo4tF",
        "colab": {}
      },
      "source": [
        "# @title Altair visualization code (run this cell)\n",
        "# The following functions are used to generate interactive Altair charts.\n",
        "# We will display histograms of the data, sliced by a given attribute.\n",
        "\n",
        "# Create filters to be used to slice the data.\n",
        "occupation_filter = alt.selection_multi(fields=[\"occupation\"])\n",
        "occupation_chart = alt.Chart().mark_bar().encode(\n",
        "    x=\"count()\",\n",
        "    y=alt.Y(\"occupation:N\"),\n",
        "    color=alt.condition(\n",
        "        occupation_filter,\n",
        "        alt.Color(\"occupation:N\", scale=alt.Scale(scheme='category20')),\n",
        "        alt.value(\"lightgray\")),\n",
        ").properties(width=300, height=300, selection=occupation_filter)\n",
        "\n",
        "# A function that generates a histogram of filtered data.\n",
        "def filtered_hist(field, label, filter):\n",
        "  \"\"\"Creates a layered chart of histograms.\n",
        "  The first layer (light gray) contains the histogram of the full data, and the\n",
        "  second contains the histogram of the filtered data.\n",
        "  Args:\n",
        "    field: the field for which to generate the histogram.\n",
        "    label: String label of the histogram.\n",
        "    filter: an alt.Selection object to be used to filter the data.\n",
        "  \"\"\"\n",
        "  base = alt.Chart().mark_bar().encode(\n",
        "      x=alt.X(field, bin=alt.Bin(maxbins=10), title=label),\n",
        "      y=\"count()\",\n",
        "  ).properties(\n",
        "      width=300,\n",
        "  )\n",
        "  return alt.layer(\n",
        "      base.transform_filter(filter),\n",
        "      base.encode(color=alt.value('lightgray'), opacity=alt.value(.7)),\n",
        "  ).resolve_scale(y='independent')\n"
      ],
      "execution_count": 0,
      "outputs": []
    },
    {
      "cell_type": "markdown",
      "metadata": {
        "colab_type": "text",
        "id": "D93Jn4Pao4tH"
      },
      "source": [
        "Next, we look at the distribution of ratings per user. Clicking on an occupation in the right chart will filter the data by that occupation. The corresponding histogram is shown in blue, and superimposed with the histogram for the whole data (in light gray). You can use SHIFT+click to select multiple subsets.\n",
        "\n",
        "What do you observe, and how might this affect the recommendations?"
      ]
    },
    {
      "cell_type": "code",
      "metadata": {
        "id": "Kg4LHZvyRHO8",
        "colab_type": "code",
        "outputId": "8a2e8edf-0526-4517-ef77-d3d804b7d53e",
        "colab": {
          "base_uri": "https://localhost:8080/",
          "height": 84
        }
      },
      "source": [
        "occupation_filter"
      ],
      "execution_count": 0,
      "outputs": [
        {
          "output_type": "execute_result",
          "data": {
            "text/plain": [
              "Selection('selector002', SelectionDef({\n",
              "  fields: ['occupation'],\n",
              "  type: 'multi'\n",
              "}))"
            ]
          },
          "metadata": {
            "tags": []
          },
          "execution_count": 23
        }
      ]
    },
    {
      "cell_type": "markdown",
      "metadata": {
        "id": "cmzAwTCRWhLY",
        "colab_type": "text"
      },
      "source": [
        ""
      ]
    },
    {
      "cell_type": "code",
      "metadata": {
        "colab_type": "code",
        "id": "x4ahcH2do4tI",
        "outputId": "cbfaed88-9daa-40dc-eae0-a7ed9f42b96c",
        "colab": {
          "base_uri": "https://localhost:8080/",
          "height": 390
        }
      },
      "source": [
        "users_ratings = (\n",
        "    ratings\n",
        "    .groupby('user_id', as_index=False)\n",
        "    .agg({'rating': ['count', 'mean']})\n",
        "    .flatten_cols()\n",
        "    .merge(users, on='user_id')\n",
        ")\n",
        "\n",
        "# Create a chart for the count, and one for the mean.\n",
        "alt.hconcat(\n",
        "    filtered_hist('rating count', '# ratings / user', occupation_filter),\n",
        "    filtered_hist('rating mean', 'mean user rating', occupation_filter),\n",
        "    occupation_chart,\n",
        "    data=users_ratings)"
      ],
      "execution_count": 0,
      "outputs": [
        {
          "output_type": "execute_result",
          "data": {
            "text/plain": [
              "alt.HConcatChart(...)"
            ],
            "text/html": [
              "<!DOCTYPE html>\n",
              "<html>\n",
              "<head>\n",
              "  <style>\n",
              "    .vega-actions a {\n",
              "        margin-right: 12px;\n",
              "        color: #757575;\n",
              "        font-weight: normal;\n",
              "        font-size: 13px;\n",
              "    }\n",
              "    .error {\n",
              "        color: red;\n",
              "    }\n",
              "  </style>\n",
              "  <script type=\"text/javascript\" src=\"https://cdn.jsdelivr.net/npm//vega@5\"></script>\n",
              "  <script type=\"text/javascript\" src=\"https://cdn.jsdelivr.net/npm//vega-lite@3.3.0\"></script>\n",
              "  <script type=\"text/javascript\" src=\"https://cdn.jsdelivr.net/npm//vega-embed@4\"></script>\n",
              "</head>\n",
              "<body>\n",
              "  <div id=\"altair-viz\"></div>\n",
              "  <script>\n",
              "      var spec = {\"data\": {\"name\": \"data-0a8ad5fc1bdd6eda8744332d1a98f159\"}, \"$schema\": \"https://vega.github.io/schema/vega-lite/v3.3.0.json\", \"datasets\": {\"data-0a8ad5fc1bdd6eda8744332d1a98f159\": [{\"user_id\": \"0\", \"age\": 24, \"rating mean\": 3.610294117647059, \"sex\": \"M\", \"occupation\": \"technician\", \"rating count\": 272, \"zip_code\": \"85711\"}, {\"user_id\": \"1\", \"age\": 53, \"rating mean\": 3.7096774193548385, \"sex\": \"F\", \"occupation\": \"other\", \"rating count\": 62, \"zip_code\": \"94043\"}, {\"user_id\": \"10\", \"age\": 39, \"rating mean\": 3.4640883977900554, \"sex\": \"F\", \"occupation\": \"other\", \"rating count\": 181, \"zip_code\": \"30329\"}, {\"user_id\": \"100\", \"age\": 15, \"rating mean\": 2.8955223880597014, \"sex\": \"M\", \"occupation\": \"student\", \"rating count\": 67, \"zip_code\": \"05146\"}, {\"user_id\": \"101\", \"age\": 38, \"rating mean\": 2.615740740740741, \"sex\": \"M\", \"occupation\": \"programmer\", \"rating count\": 216, \"zip_code\": \"30220\"}, {\"user_id\": \"102\", \"age\": 26, \"rating mean\": 3.6206896551724137, \"sex\": \"M\", \"occupation\": \"student\", \"rating count\": 29, \"zip_code\": \"55108\"}, {\"user_id\": \"103\", \"age\": 27, \"rating mean\": 2.6666666666666665, \"sex\": \"M\", \"occupation\": \"student\", \"rating count\": 111, \"zip_code\": \"55108\"}, {\"user_id\": \"104\", \"age\": 24, \"rating mean\": 3.391304347826087, \"sex\": \"M\", \"occupation\": \"engineer\", \"rating count\": 23, \"zip_code\": \"94043\"}, {\"user_id\": \"105\", \"age\": 61, \"rating mean\": 3.765625, \"sex\": \"M\", \"occupation\": \"retired\", \"rating count\": 64, \"zip_code\": \"55125\"}, {\"user_id\": \"106\", \"age\": 39, \"rating mean\": 3.0, \"sex\": \"M\", \"occupation\": \"scientist\", \"rating count\": 22, \"zip_code\": \"60466\"}, {\"user_id\": \"107\", \"age\": 44, \"rating mean\": 3.5757575757575757, \"sex\": \"M\", \"occupation\": \"educator\", \"rating count\": 33, \"zip_code\": \"63130\"}, {\"user_id\": \"108\", \"age\": 29, \"rating mean\": 3.4401709401709404, \"sex\": \"M\", \"occupation\": \"other\", \"rating count\": 234, \"zip_code\": \"55423\"}, {\"user_id\": \"109\", \"age\": 19, \"rating mean\": 3.045112781954887, \"sex\": \"M\", \"occupation\": \"student\", \"rating count\": 133, \"zip_code\": \"77840\"}, {\"user_id\": \"11\", \"age\": 28, \"rating mean\": 4.392156862745098, \"sex\": \"F\", \"occupation\": \"other\", \"rating count\": 51, \"zip_code\": \"06405\"}, {\"user_id\": \"110\", \"age\": 57, \"rating mean\": 3.5416666666666665, \"sex\": \"M\", \"occupation\": \"engineer\", \"rating count\": 24, \"zip_code\": \"90630\"}, {\"user_id\": \"111\", \"age\": 30, \"rating mean\": 3.6956521739130435, \"sex\": \"M\", \"occupation\": \"salesman\", \"rating count\": 46, \"zip_code\": \"60613\"}, {\"user_id\": \"112\", \"age\": 47, \"rating mean\": 3.7254901960784315, \"sex\": \"M\", \"occupation\": \"executive\", \"rating count\": 51, \"zip_code\": \"95032\"}, {\"user_id\": \"113\", \"age\": 27, \"rating mean\": 3.6041666666666665, \"sex\": \"M\", \"occupation\": \"programmer\", \"rating count\": 48, \"zip_code\": \"75013\"}, {\"user_id\": \"114\", \"age\": 31, \"rating mean\": 3.9347826086956523, \"sex\": \"M\", \"occupation\": \"engineer\", \"rating count\": 92, \"zip_code\": \"17110\"}, {\"user_id\": \"115\", \"age\": 40, \"rating mean\": 3.006993006993007, \"sex\": \"M\", \"occupation\": \"healthcare\", \"rating count\": 143, \"zip_code\": \"97232\"}, {\"user_id\": \"116\", \"age\": 20, \"rating mean\": 3.9186046511627906, \"sex\": \"M\", \"occupation\": \"student\", \"rating count\": 86, \"zip_code\": \"16125\"}, {\"user_id\": \"117\", \"age\": 21, \"rating mean\": 4.661971830985915, \"sex\": \"M\", \"occupation\": \"administrator\", \"rating count\": 71, \"zip_code\": \"90210\"}, {\"user_id\": \"118\", \"age\": 32, \"rating mean\": 3.9502762430939224, \"sex\": \"M\", \"occupation\": \"programmer\", \"rating count\": 181, \"zip_code\": \"67401\"}, {\"user_id\": \"119\", \"age\": 47, \"rating mean\": 3.576923076923077, \"sex\": \"F\", \"occupation\": \"other\", \"rating count\": 26, \"zip_code\": \"06260\"}, {\"user_id\": \"12\", \"age\": 47, \"rating mean\": 3.09748427672956, \"sex\": \"M\", \"occupation\": \"educator\", \"rating count\": 636, \"zip_code\": \"29206\"}, {\"user_id\": \"120\", \"age\": 54, \"rating mean\": 3.608108108108108, \"sex\": \"M\", \"occupation\": \"librarian\", \"rating count\": 74, \"zip_code\": \"99603\"}, {\"user_id\": \"121\", \"age\": 32, \"rating mean\": 3.9836065573770494, \"sex\": \"F\", \"occupation\": \"writer\", \"rating count\": 61, \"zip_code\": \"22206\"}, {\"user_id\": \"122\", \"age\": 48, \"rating mean\": 3.8518518518518516, \"sex\": \"F\", \"occupation\": \"artist\", \"rating count\": 54, \"zip_code\": \"20008\"}, {\"user_id\": \"123\", \"age\": 34, \"rating mean\": 3.5, \"sex\": \"M\", \"occupation\": \"student\", \"rating count\": 24, \"zip_code\": \"60615\"}, {\"user_id\": \"124\", \"age\": 30, \"rating mean\": 3.4395604395604398, \"sex\": \"M\", \"occupation\": \"lawyer\", \"rating count\": 182, \"zip_code\": \"22202\"}, {\"user_id\": \"125\", \"age\": 28, \"rating mean\": 3.533333333333333, \"sex\": \"F\", \"occupation\": \"lawyer\", \"rating count\": 45, \"zip_code\": \"20015\"}, {\"user_id\": \"126\", \"age\": 33, \"rating mean\": 4.130434782608695, \"sex\": \"M\", \"occupation\": \"none\", \"rating count\": 23, \"zip_code\": \"73439\"}, {\"user_id\": \"127\", \"age\": 24, \"rating mean\": 3.6630434782608696, \"sex\": \"F\", \"occupation\": \"marketing\", \"rating count\": 184, \"zip_code\": \"20009\"}, {\"user_id\": \"128\", \"age\": 36, \"rating mean\": 2.6, \"sex\": \"F\", \"occupation\": \"marketing\", \"rating count\": 30, \"zip_code\": \"07039\"}, {\"user_id\": \"129\", \"age\": 20, \"rating mean\": 3.9858356940509916, \"sex\": \"M\", \"occupation\": \"none\", \"rating count\": 353, \"zip_code\": \"60115\"}, {\"user_id\": \"13\", \"age\": 45, \"rating mean\": 4.091836734693878, \"sex\": \"M\", \"occupation\": \"scientist\", \"rating count\": 98, \"zip_code\": \"55106\"}, {\"user_id\": \"130\", \"age\": 59, \"rating mean\": 4.133333333333334, \"sex\": \"F\", \"occupation\": \"administrator\", \"rating count\": 30, \"zip_code\": \"15237\"}, {\"user_id\": \"131\", \"age\": 24, \"rating mean\": 3.772727272727273, \"sex\": \"M\", \"occupation\": \"other\", \"rating count\": 22, \"zip_code\": \"94612\"}, {\"user_id\": \"132\", \"age\": 53, \"rating mean\": 3.1923076923076925, \"sex\": \"M\", \"occupation\": \"engineer\", \"rating count\": 26, \"zip_code\": \"78602\"}, {\"user_id\": \"133\", \"age\": 31, \"rating mean\": 3.64, \"sex\": \"M\", \"occupation\": \"programmer\", \"rating count\": 25, \"zip_code\": \"80236\"}, {\"user_id\": \"134\", \"age\": 23, \"rating mean\": 3.381818181818182, \"sex\": \"M\", \"occupation\": \"student\", \"rating count\": 55, \"zip_code\": \"38401\"}, {\"user_id\": \"135\", \"age\": 51, \"rating mean\": 4.3428571428571425, \"sex\": \"M\", \"occupation\": \"other\", \"rating count\": 35, \"zip_code\": \"97365\"}, {\"user_id\": \"136\", \"age\": 50, \"rating mean\": 4.319148936170213, \"sex\": \"M\", \"occupation\": \"educator\", \"rating count\": 47, \"zip_code\": \"84408\"}, {\"user_id\": \"137\", \"age\": 46, \"rating mean\": 4.2745098039215685, \"sex\": \"M\", \"occupation\": \"doctor\", \"rating count\": 51, \"zip_code\": \"53211\"}, {\"user_id\": \"138\", \"age\": 20, \"rating mean\": 4.0, \"sex\": \"M\", \"occupation\": \"student\", \"rating count\": 24, \"zip_code\": \"08904\"}, {\"user_id\": \"139\", \"age\": 30, \"rating mean\": 3.4285714285714284, \"sex\": \"F\", \"occupation\": \"student\", \"rating count\": 21, \"zip_code\": \"32250\"}, {\"user_id\": \"14\", \"age\": 49, \"rating mean\": 2.875, \"sex\": \"F\", \"occupation\": \"educator\", \"rating count\": 104, \"zip_code\": \"97301\"}, {\"user_id\": \"140\", \"age\": 49, \"rating mean\": 3.4299065420560746, \"sex\": \"M\", \"occupation\": \"programmer\", \"rating count\": 107, \"zip_code\": \"36117\"}, {\"user_id\": \"141\", \"age\": 13, \"rating mean\": 3.6363636363636362, \"sex\": \"M\", \"occupation\": \"other\", \"rating count\": 33, \"zip_code\": \"48118\"}, {\"user_id\": \"142\", \"age\": 42, \"rating mean\": 3.9, \"sex\": \"M\", \"occupation\": \"technician\", \"rating count\": 20, \"zip_code\": \"08832\"}, {\"user_id\": \"143\", \"age\": 53, \"rating mean\": 3.674757281553398, \"sex\": \"M\", \"occupation\": \"programmer\", \"rating count\": 206, \"zip_code\": \"20910\"}, {\"user_id\": \"144\", \"age\": 31, \"rating mean\": 3.3354430379746836, \"sex\": \"M\", \"occupation\": \"entertainment\", \"rating count\": 316, \"zip_code\": \"V3N4P\"}, {\"user_id\": \"145\", \"age\": 45, \"rating mean\": 3.6206896551724137, \"sex\": \"M\", \"occupation\": \"artist\", \"rating count\": 29, \"zip_code\": \"83814\"}, {\"user_id\": \"146\", \"age\": 40, \"rating mean\": 4.2, \"sex\": \"F\", \"occupation\": \"librarian\", \"rating count\": 20, \"zip_code\": \"02143\"}, {\"user_id\": \"147\", \"age\": 33, \"rating mean\": 4.0, \"sex\": \"M\", \"occupation\": \"engineer\", \"rating count\": 65, \"zip_code\": \"97006\"}, {\"user_id\": \"148\", \"age\": 35, \"rating mean\": 2.888888888888889, \"sex\": \"F\", \"occupation\": \"marketing\", \"rating count\": 36, \"zip_code\": \"17325\"}, {\"user_id\": \"149\", \"age\": 20, \"rating mean\": 3.84375, \"sex\": \"F\", \"occupation\": \"artist\", \"rating count\": 32, \"zip_code\": \"02139\"}, {\"user_id\": \"15\", \"age\": 21, \"rating mean\": 4.328571428571428, \"sex\": \"M\", \"occupation\": \"entertainment\", \"rating count\": 140, \"zip_code\": \"10309\"}, {\"user_id\": \"150\", \"age\": 38, \"rating mean\": 3.996742671009772, \"sex\": \"F\", \"occupation\": \"administrator\", \"rating count\": 307, \"zip_code\": \"48103\"}, {\"user_id\": \"151\", \"age\": 33, \"rating mean\": 4.320754716981132, \"sex\": \"F\", \"occupation\": \"educator\", \"rating count\": 106, \"zip_code\": \"68767\"}, {\"user_id\": \"152\", \"age\": 25, \"rating mean\": 2.9565217391304346, \"sex\": \"M\", \"occupation\": \"student\", \"rating count\": 23, \"zip_code\": \"60641\"}, {\"user_id\": \"153\", \"age\": 25, \"rating mean\": 3.9607843137254903, \"sex\": \"M\", \"occupation\": \"student\", \"rating count\": 51, \"zip_code\": \"53703\"}, {\"user_id\": \"154\", \"age\": 32, \"rating mean\": 2.6363636363636362, \"sex\": \"F\", \"occupation\": \"other\", \"rating count\": 22, \"zip_code\": \"11217\"}, {\"user_id\": \"155\", \"age\": 25, \"rating mean\": 3.72972972972973, \"sex\": \"M\", \"occupation\": \"educator\", \"rating count\": 37, \"zip_code\": \"08360\"}, {\"user_id\": \"156\", \"age\": 57, \"rating mean\": 3.784313725490196, \"sex\": \"M\", \"occupation\": \"engineer\", \"rating count\": 51, \"zip_code\": \"70808\"}, {\"user_id\": \"157\", \"age\": 50, \"rating mean\": 3.8034682080924855, \"sex\": \"M\", \"occupation\": \"educator\", \"rating count\": 173, \"zip_code\": \"27606\"}, {\"user_id\": \"158\", \"age\": 23, \"rating mean\": 3.4299065420560746, \"sex\": \"F\", \"occupation\": \"student\", \"rating count\": 107, \"zip_code\": \"55346\"}, {\"user_id\": \"159\", \"age\": 27, \"rating mean\": 3.9166666666666665, \"sex\": \"M\", \"occupation\": \"programmer\", \"rating count\": 120, \"zip_code\": \"66215\"}, {\"user_id\": \"16\", \"age\": 30, \"rating mean\": 3.0357142857142856, \"sex\": \"M\", \"occupation\": \"programmer\", \"rating count\": 28, \"zip_code\": \"06355\"}, {\"user_id\": \"160\", \"age\": 50, \"rating mean\": 2.5517241379310347, \"sex\": \"M\", \"occupation\": \"lawyer\", \"rating count\": 58, \"zip_code\": \"55104\"}, {\"user_id\": \"161\", \"age\": 25, \"rating mean\": 3.5952380952380953, \"sex\": \"M\", \"occupation\": \"artist\", \"rating count\": 42, \"zip_code\": \"15610\"}, {\"user_id\": \"162\", \"age\": 49, \"rating mean\": 3.3043478260869565, \"sex\": \"M\", \"occupation\": \"administrator\", \"rating count\": 23, \"zip_code\": \"97212\"}, {\"user_id\": \"163\", \"age\": 47, \"rating mean\": 4.126984126984127, \"sex\": \"M\", \"occupation\": \"healthcare\", \"rating count\": 63, \"zip_code\": \"80123\"}, {\"user_id\": \"164\", \"age\": 20, \"rating mean\": 4.0, \"sex\": \"F\", \"occupation\": \"other\", \"rating count\": 30, \"zip_code\": \"53715\"}, {\"user_id\": \"165\", \"age\": 47, \"rating mean\": 3.55, \"sex\": \"M\", \"occupation\": \"educator\", \"rating count\": 20, \"zip_code\": \"55113\"}, {\"user_id\": \"166\", \"age\": 37, \"rating mean\": 3.3768115942028984, \"sex\": \"M\", \"occupation\": \"other\", \"rating count\": 69, \"zip_code\": \"L9G2B\"}, {\"user_id\": \"167\", \"age\": 48, \"rating mean\": 3.3333333333333335, \"sex\": \"M\", \"occupation\": \"other\", \"rating count\": 69, \"zip_code\": \"80127\"}, {\"user_id\": \"168\", \"age\": 52, \"rating mean\": 3.972972972972973, \"sex\": \"F\", \"occupation\": \"other\", \"rating count\": 37, \"zip_code\": \"53705\"}, {\"user_id\": \"169\", \"age\": 53, \"rating mean\": 3.772727272727273, \"sex\": \"F\", \"occupation\": \"healthcare\", \"rating count\": 22, \"zip_code\": \"30067\"}, {\"user_id\": \"17\", \"age\": 35, \"rating mean\": 3.88086642599278, \"sex\": \"F\", \"occupation\": \"other\", \"rating count\": 277, \"zip_code\": \"37212\"}, {\"user_id\": \"170\", \"age\": 48, \"rating mean\": 3.4642857142857144, \"sex\": \"F\", \"occupation\": \"educator\", \"rating count\": 28, \"zip_code\": \"78750\"}, {\"user_id\": \"171\", \"age\": 55, \"rating mean\": 3.185185185185185, \"sex\": \"M\", \"occupation\": \"marketing\", \"rating count\": 27, \"zip_code\": \"22207\"}, {\"user_id\": \"172\", \"age\": 56, \"rating mean\": 4.209302325581396, \"sex\": \"M\", \"occupation\": \"other\", \"rating count\": 43, \"zip_code\": \"22306\"}, {\"user_id\": \"173\", \"age\": 30, \"rating mean\": 3.5819209039548023, \"sex\": \"F\", \"occupation\": \"administrator\", \"rating count\": 177, \"zip_code\": \"52302\"}, {\"user_id\": \"174\", \"age\": 26, \"rating mean\": 3.736842105263158, \"sex\": \"F\", \"occupation\": \"scientist\", \"rating count\": 38, \"zip_code\": \"21911\"}, {\"user_id\": \"175\", \"age\": 28, \"rating mean\": 3.6984126984126986, \"sex\": \"M\", \"occupation\": \"scientist\", \"rating count\": 63, \"zip_code\": \"07030\"}, {\"user_id\": \"176\", \"age\": 20, \"rating mean\": 3.617391304347826, \"sex\": \"M\", \"occupation\": \"programmer\", \"rating count\": 115, \"zip_code\": \"19104\"}, {\"user_id\": \"177\", \"age\": 26, \"rating mean\": 3.681318681318681, \"sex\": \"M\", \"occupation\": \"other\", \"rating count\": 273, \"zip_code\": \"49512\"}, {\"user_id\": \"178\", \"age\": 15, \"rating mean\": 3.0476190476190474, \"sex\": \"M\", \"occupation\": \"entertainment\", \"rating count\": 42, \"zip_code\": \"20755\"}, {\"user_id\": \"179\", \"age\": 22, \"rating mean\": 3.9365079365079363, \"sex\": \"F\", \"occupation\": \"administrator\", \"rating count\": 63, \"zip_code\": \"60202\"}, {\"user_id\": \"18\", \"age\": 40, \"rating mean\": 3.55, \"sex\": \"M\", \"occupation\": \"librarian\", \"rating count\": 20, \"zip_code\": \"02138\"}, {\"user_id\": \"180\", \"age\": 26, \"rating mean\": 1.4919540229885058, \"sex\": \"M\", \"occupation\": \"executive\", \"rating count\": 435, \"zip_code\": \"21218\"}, {\"user_id\": \"181\", \"age\": 36, \"rating mean\": 3.857142857142857, \"sex\": \"M\", \"occupation\": \"programmer\", \"rating count\": 28, \"zip_code\": \"33884\"}, {\"user_id\": \"182\", \"age\": 33, \"rating mean\": 3.188679245283019, \"sex\": \"M\", \"occupation\": \"scientist\", \"rating count\": 53, \"zip_code\": \"27708\"}, {\"user_id\": \"183\", \"age\": 37, \"rating mean\": 3.6613545816733066, \"sex\": \"M\", \"occupation\": \"librarian\", \"rating count\": 251, \"zip_code\": \"76013\"}, {\"user_id\": \"184\", \"age\": 53, \"rating mean\": 4.041666666666667, \"sex\": \"F\", \"occupation\": \"librarian\", \"rating count\": 48, \"zip_code\": \"97403\"}, {\"user_id\": \"185\", \"age\": 39, \"rating mean\": 3.4130434782608696, \"sex\": \"F\", \"occupation\": \"executive\", \"rating count\": 92, \"zip_code\": \"00000\"}, {\"user_id\": \"186\", \"age\": 26, \"rating mean\": 4.071428571428571, \"sex\": \"M\", \"occupation\": \"educator\", \"rating count\": 56, \"zip_code\": \"16801\"}, {\"user_id\": \"187\", \"age\": 42, \"rating mean\": 3.767857142857143, \"sex\": \"M\", \"occupation\": \"student\", \"rating count\": 112, \"zip_code\": \"29440\"}, {\"user_id\": \"188\", \"age\": 32, \"rating mean\": 3.978609625668449, \"sex\": \"M\", \"occupation\": \"artist\", \"rating count\": 187, \"zip_code\": \"95014\"}, {\"user_id\": \"189\", \"age\": 30, \"rating mean\": 3.3220338983050848, \"sex\": \"M\", \"occupation\": \"administrator\", \"rating count\": 59, \"zip_code\": \"95938\"}, {\"user_id\": \"19\", \"age\": 42, \"rating mean\": 3.1041666666666665, \"sex\": \"F\", \"occupation\": \"homemaker\", \"rating count\": 48, \"zip_code\": \"95660\"}, {\"user_id\": \"190\", \"age\": 33, \"rating mean\": 3.6296296296296298, \"sex\": \"M\", \"occupation\": \"administrator\", \"rating count\": 27, \"zip_code\": \"95161\"}, {\"user_id\": \"191\", \"age\": 42, \"rating mean\": 3.5142857142857142, \"sex\": \"M\", \"occupation\": \"educator\", \"rating count\": 35, \"zip_code\": \"90840\"}, {\"user_id\": \"192\", \"age\": 29, \"rating mean\": 3.165289256198347, \"sex\": \"M\", \"occupation\": \"student\", \"rating count\": 121, \"zip_code\": \"49931\"}, {\"user_id\": \"193\", \"age\": 38, \"rating mean\": 2.963934426229508, \"sex\": \"M\", \"occupation\": \"administrator\", \"rating count\": 305, \"zip_code\": \"02154\"}, {\"user_id\": \"194\", \"age\": 42, \"rating mean\": 3.2916666666666665, \"sex\": \"M\", \"occupation\": \"scientist\", \"rating count\": 96, \"zip_code\": \"93555\"}, {\"user_id\": \"195\", \"age\": 49, \"rating mean\": 3.6153846153846154, \"sex\": \"M\", \"occupation\": \"writer\", \"rating count\": 39, \"zip_code\": \"55105\"}, {\"user_id\": \"196\", \"age\": 55, \"rating mean\": 3.3389830508474576, \"sex\": \"M\", \"occupation\": \"technician\", \"rating count\": 118, \"zip_code\": \"75094\"}, {\"user_id\": \"197\", \"age\": 21, \"rating mean\": 3.276243093922652, \"sex\": \"F\", \"occupation\": \"student\", \"rating count\": 181, \"zip_code\": \"55414\"}, {\"user_id\": \"198\", \"age\": 30, \"rating mean\": 2.95, \"sex\": \"M\", \"occupation\": \"writer\", \"rating count\": 40, \"zip_code\": \"17604\"}, {\"user_id\": \"199\", \"age\": 40, \"rating mean\": 4.032407407407407, \"sex\": \"M\", \"occupation\": \"programmer\", \"rating count\": 216, \"zip_code\": \"93402\"}, {\"user_id\": \"2\", \"age\": 23, \"rating mean\": 2.7962962962962963, \"sex\": \"M\", \"occupation\": \"writer\", \"rating count\": 54, \"zip_code\": \"32067\"}, {\"user_id\": \"20\", \"age\": 26, \"rating mean\": 2.670391061452514, \"sex\": \"M\", \"occupation\": \"writer\", \"rating count\": 179, \"zip_code\": \"30068\"}, {\"user_id\": \"200\", \"age\": 27, \"rating mean\": 3.0310880829015545, \"sex\": \"M\", \"occupation\": \"writer\", \"rating count\": 386, \"zip_code\": \"E2A4H\"}, {\"user_id\": \"201\", \"age\": 41, \"rating mean\": 2.8, \"sex\": \"F\", \"occupation\": \"educator\", \"rating count\": 20, \"zip_code\": \"60201\"}, {\"user_id\": \"202\", \"age\": 25, \"rating mean\": 3.4186046511627906, \"sex\": \"F\", \"occupation\": \"student\", \"rating count\": 43, \"zip_code\": \"32301\"}, {\"user_id\": \"203\", \"age\": 52, \"rating mean\": 3.4523809523809526, \"sex\": \"F\", \"occupation\": \"librarian\", \"rating count\": 42, \"zip_code\": \"10960\"}, {\"user_id\": \"204\", \"age\": 47, \"rating mean\": 2.8636363636363638, \"sex\": \"M\", \"occupation\": \"lawyer\", \"rating count\": 22, \"zip_code\": \"06371\"}, {\"user_id\": \"205\", \"age\": 14, \"rating mean\": 2.171875, \"sex\": \"F\", \"occupation\": \"student\", \"rating count\": 64, \"zip_code\": \"53115\"}, {\"user_id\": \"206\", \"age\": 39, \"rating mean\": 3.2304347826086954, \"sex\": \"M\", \"occupation\": \"marketing\", \"rating count\": 230, \"zip_code\": \"92037\"}, {\"user_id\": \"207\", \"age\": 43, \"rating mean\": 3.787878787878788, \"sex\": \"M\", \"occupation\": \"engineer\", \"rating count\": 33, \"zip_code\": \"01720\"}, {\"user_id\": \"208\", \"age\": 33, \"rating mean\": 3.1818181818181817, \"sex\": \"F\", \"occupation\": \"educator\", \"rating count\": 33, \"zip_code\": \"85710\"}, {\"user_id\": \"209\", \"age\": 39, \"rating mean\": 4.0606060606060606, \"sex\": \"M\", \"occupation\": \"engineer\", \"rating count\": 132, \"zip_code\": \"03060\"}, {\"user_id\": \"21\", \"age\": 25, \"rating mean\": 3.3515625, \"sex\": \"M\", \"occupation\": \"writer\", \"rating count\": 128, \"zip_code\": \"40206\"}, {\"user_id\": \"210\", \"age\": 66, \"rating mean\": 3.189189189189189, \"sex\": \"M\", \"occupation\": \"salesman\", \"rating count\": 37, \"zip_code\": \"32605\"}, {\"user_id\": \"211\", \"age\": 49, \"rating mean\": 3.92, \"sex\": \"F\", \"occupation\": \"educator\", \"rating count\": 25, \"zip_code\": \"61401\"}, {\"user_id\": \"212\", \"age\": 33, \"rating mean\": 4.23015873015873, \"sex\": \"M\", \"occupation\": \"executive\", \"rating count\": 126, \"zip_code\": \"55345\"}, {\"user_id\": \"213\", \"age\": 26, \"rating mean\": 3.8984375, \"sex\": \"F\", \"occupation\": \"librarian\", \"rating count\": 128, \"zip_code\": \"11231\"}, {\"user_id\": \"214\", \"age\": 35, \"rating mean\": 3.774193548387097, \"sex\": \"M\", \"occupation\": \"programmer\", \"rating count\": 93, \"zip_code\": \"63033\"}, {\"user_id\": \"215\", \"age\": 22, \"rating mean\": 3.801526717557252, \"sex\": \"M\", \"occupation\": \"engineer\", \"rating count\": 131, \"zip_code\": \"02215\"}, {\"user_id\": \"216\", \"age\": 22, \"rating mean\": 2.960526315789474, \"sex\": \"M\", \"occupation\": \"other\", \"rating count\": 76, \"zip_code\": \"11727\"}, {\"user_id\": \"217\", \"age\": 37, \"rating mean\": 3.6037735849056602, \"sex\": \"M\", \"occupation\": \"administrator\", \"rating count\": 53, \"zip_code\": \"06513\"}, {\"user_id\": \"218\", \"age\": 32, \"rating mean\": 3.7142857142857144, \"sex\": \"M\", \"occupation\": \"programmer\", \"rating count\": 28, \"zip_code\": \"43212\"}, {\"user_id\": \"219\", \"age\": 30, \"rating mean\": 3.772727272727273, \"sex\": \"M\", \"occupation\": \"librarian\", \"rating count\": 22, \"zip_code\": \"78205\"}, {\"user_id\": \"22\", \"age\": 30, \"rating mean\": 3.6357615894039736, \"sex\": \"F\", \"occupation\": \"artist\", \"rating count\": 151, \"zip_code\": \"48197\"}, {\"user_id\": \"220\", \"age\": 19, \"rating mean\": 3.6164383561643834, \"sex\": \"M\", \"occupation\": \"student\", \"rating count\": 146, \"zip_code\": \"20685\"}, {\"user_id\": \"221\", \"age\": 29, \"rating mean\": 3.049095607235142, \"sex\": \"M\", \"occupation\": \"programmer\", \"rating count\": 387, \"zip_code\": \"27502\"}, {\"user_id\": \"222\", \"age\": 19, \"rating mean\": 3.0285714285714285, \"sex\": \"F\", \"occupation\": \"student\", \"rating count\": 105, \"zip_code\": \"47906\"}, {\"user_id\": \"223\", \"age\": 31, \"rating mean\": 2.99290780141844, \"sex\": \"F\", \"occupation\": \"educator\", \"rating count\": 141, \"zip_code\": \"43512\"}, {\"user_id\": \"224\", \"age\": 51, \"rating mean\": 4.518518518518518, \"sex\": \"F\", \"occupation\": \"administrator\", \"rating count\": 27, \"zip_code\": \"58202\"}, {\"user_id\": \"225\", \"age\": 28, \"rating mean\": 3.8, \"sex\": \"M\", \"occupation\": \"student\", \"rating count\": 50, \"zip_code\": \"92103\"}, {\"user_id\": \"226\", \"age\": 46, \"rating mean\": 3.4482758620689653, \"sex\": \"M\", \"occupation\": \"executive\", \"rating count\": 58, \"zip_code\": \"60659\"}, {\"user_id\": \"227\", \"age\": 21, \"rating mean\": 3.142857142857143, \"sex\": \"F\", \"occupation\": \"student\", \"rating count\": 21, \"zip_code\": \"22003\"}, {\"user_id\": \"228\", \"age\": 29, \"rating mean\": 2.7333333333333334, \"sex\": \"F\", \"occupation\": \"librarian\", \"rating count\": 30, \"zip_code\": \"22903\"}, {\"user_id\": \"229\", \"age\": 28, \"rating mean\": 3.8496240601503757, \"sex\": \"F\", \"occupation\": \"student\", \"rating count\": 133, \"zip_code\": \"14476\"}, {\"user_id\": \"23\", \"age\": 21, \"rating mean\": 4.323529411764706, \"sex\": \"F\", \"occupation\": \"artist\", \"rating count\": 68, \"zip_code\": \"94533\"}, {\"user_id\": \"230\", \"age\": 48, \"rating mean\": 3.6666666666666665, \"sex\": \"M\", \"occupation\": \"librarian\", \"rating count\": 21, \"zip_code\": \"01080\"}, {\"user_id\": \"231\", \"age\": 45, \"rating mean\": 3.903225806451613, \"sex\": \"M\", \"occupation\": \"scientist\", \"rating count\": 93, \"zip_code\": \"99709\"}, {\"user_id\": \"232\", \"age\": 38, \"rating mean\": 4.345454545454546, \"sex\": \"M\", \"occupation\": \"engineer\", \"rating count\": 110, \"zip_code\": \"98682\"}, {\"user_id\": \"233\", \"age\": 60, \"rating mean\": 3.122916666666667, \"sex\": \"M\", \"occupation\": \"retired\", \"rating count\": 480, \"zip_code\": \"94702\"}, {\"user_id\": \"234\", \"age\": 37, \"rating mean\": 3.978723404255319, \"sex\": \"M\", \"occupation\": \"educator\", \"rating count\": 94, \"zip_code\": \"22973\"}, {\"user_id\": \"235\", \"age\": 44, \"rating mean\": 3.475806451612903, \"sex\": \"F\", \"occupation\": \"writer\", \"rating count\": 124, \"zip_code\": \"53214\"}, {\"user_id\": \"236\", \"age\": 49, \"rating mean\": 4.145833333333333, \"sex\": \"M\", \"occupation\": \"administrator\", \"rating count\": 48, \"zip_code\": \"63146\"}, {\"user_id\": \"237\", \"age\": 42, \"rating mean\": 3.2758620689655173, \"sex\": \"F\", \"occupation\": \"administrator\", \"rating count\": 29, \"zip_code\": \"44124\"}, {\"user_id\": \"238\", \"age\": 39, \"rating mean\": 4.213836477987422, \"sex\": \"M\", \"occupation\": \"artist\", \"rating count\": 159, \"zip_code\": \"95628\"}, {\"user_id\": \"239\", \"age\": 23, \"rating mean\": 3.75, \"sex\": \"F\", \"occupation\": \"educator\", \"rating count\": 24, \"zip_code\": \"20784\"}, {\"user_id\": \"24\", \"age\": 39, \"rating mean\": 4.051282051282051, \"sex\": \"M\", \"occupation\": \"engineer\", \"rating count\": 78, \"zip_code\": \"55107\"}, {\"user_id\": \"240\", \"age\": 26, \"rating mean\": 3.4347826086956523, \"sex\": \"F\", \"occupation\": \"student\", \"rating count\": 23, \"zip_code\": \"20001\"}, {\"user_id\": \"241\", \"age\": 33, \"rating mean\": 4.45, \"sex\": \"M\", \"occupation\": \"educator\", \"rating count\": 20, \"zip_code\": \"31404\"}, {\"user_id\": \"242\", \"age\": 33, \"rating mean\": 3.6419753086419755, \"sex\": \"M\", \"occupation\": \"educator\", \"rating count\": 81, \"zip_code\": \"60201\"}, {\"user_id\": \"243\", \"age\": 28, \"rating mean\": 3.6512605042016806, \"sex\": \"M\", \"occupation\": \"technician\", \"rating count\": 238, \"zip_code\": \"80525\"}, {\"user_id\": \"244\", \"age\": 22, \"rating mean\": 3.272727272727273, \"sex\": \"M\", \"occupation\": \"student\", \"rating count\": 22, \"zip_code\": \"55109\"}, {\"user_id\": \"245\", \"age\": 19, \"rating mean\": 2.928205128205128, \"sex\": \"M\", \"occupation\": \"student\", \"rating count\": 195, \"zip_code\": \"28734\"}, {\"user_id\": \"246\", \"age\": 28, \"rating mean\": 3.923076923076923, \"sex\": \"M\", \"occupation\": \"engineer\", \"rating count\": 26, \"zip_code\": \"20770\"}, {\"user_id\": \"247\", \"age\": 25, \"rating mean\": 3.5714285714285716, \"sex\": \"M\", \"occupation\": \"student\", \"rating count\": 56, \"zip_code\": \"37235\"}, {\"user_id\": \"248\", \"age\": 25, \"rating mean\": 4.105590062111801, \"sex\": \"M\", \"occupation\": \"student\", \"rating count\": 161, \"zip_code\": \"84103\"}, {\"user_id\": \"249\", \"age\": 29, \"rating mean\": 3.7868852459016393, \"sex\": \"M\", \"occupation\": \"executive\", \"rating count\": 122, \"zip_code\": \"95110\"}, {\"user_id\": \"25\", \"age\": 49, \"rating mean\": 2.94392523364486, \"sex\": \"M\", \"occupation\": \"engineer\", \"rating count\": 107, \"zip_code\": \"21044\"}, {\"user_id\": \"250\", \"age\": 28, \"rating mean\": 3.792207792207792, \"sex\": \"M\", \"occupation\": \"doctor\", \"rating count\": 77, \"zip_code\": \"85032\"}, {\"user_id\": \"251\", \"age\": 42, \"rating mean\": 4.428571428571429, \"sex\": \"M\", \"occupation\": \"engineer\", \"rating count\": 21, \"zip_code\": \"07733\"}, {\"user_id\": \"252\", \"age\": 26, \"rating mean\": 3.979381443298969, \"sex\": \"F\", \"occupation\": \"librarian\", \"rating count\": 97, \"zip_code\": \"22903\"}, {\"user_id\": \"253\", \"age\": 44, \"rating mean\": 3.050314465408805, \"sex\": \"M\", \"occupation\": \"educator\", \"rating count\": 159, \"zip_code\": \"42647\"}, {\"user_id\": \"254\", \"age\": 23, \"rating mean\": 2.5421686746987953, \"sex\": \"M\", \"occupation\": \"entertainment\", \"rating count\": 83, \"zip_code\": \"07029\"}, {\"user_id\": \"255\", \"age\": 35, \"rating mean\": 3.9903381642512077, \"sex\": \"F\", \"occupation\": \"none\", \"rating count\": 207, \"zip_code\": \"39042\"}, {\"user_id\": \"256\", \"age\": 17, \"rating mean\": 4.035087719298246, \"sex\": \"M\", \"occupation\": \"student\", \"rating count\": 57, \"zip_code\": \"77005\"}, {\"user_id\": \"257\", \"age\": 19, \"rating mean\": 3.739130434782609, \"sex\": \"F\", \"occupation\": \"student\", \"rating count\": 23, \"zip_code\": \"77801\"}, {\"user_id\": \"258\", \"age\": 21, \"rating mean\": 3.869565217391304, \"sex\": \"M\", \"occupation\": \"student\", \"rating count\": 46, \"zip_code\": \"48823\"}, {\"user_id\": \"259\", \"age\": 40, \"rating mean\": 4.041666666666667, \"sex\": \"F\", \"occupation\": \"artist\", \"rating count\": 24, \"zip_code\": \"89801\"}, {\"user_id\": \"26\", \"age\": 40, \"rating mean\": 3.24, \"sex\": \"F\", \"occupation\": \"librarian\", \"rating count\": 25, \"zip_code\": \"30030\"}, {\"user_id\": \"260\", \"age\": 28, \"rating mean\": 4.111111111111111, \"sex\": \"M\", \"occupation\": \"administrator\", \"rating count\": 27, \"zip_code\": \"85202\"}, {\"user_id\": \"261\", \"age\": 19, \"rating mean\": 3.16875, \"sex\": \"F\", \"occupation\": \"student\", \"rating count\": 160, \"zip_code\": \"78264\"}, {\"user_id\": \"262\", \"age\": 41, \"rating mean\": 4.048780487804878, \"sex\": \"M\", \"occupation\": \"programmer\", \"rating count\": 123, \"zip_code\": \"55346\"}, {\"user_id\": \"263\", \"age\": 36, \"rating mean\": 4.216666666666667, \"sex\": \"F\", \"occupation\": \"writer\", \"rating count\": 120, \"zip_code\": \"90064\"}, {\"user_id\": \"264\", \"age\": 26, \"rating mean\": 3.5652173913043477, \"sex\": \"M\", \"occupation\": \"executive\", \"rating count\": 46, \"zip_code\": \"84601\"}, {\"user_id\": \"265\", \"age\": 62, \"rating mean\": 3.260869565217391, \"sex\": \"F\", \"occupation\": \"administrator\", \"rating count\": 23, \"zip_code\": \"78756\"}, {\"user_id\": \"266\", \"age\": 23, \"rating mean\": 3.9351351351351354, \"sex\": \"M\", \"occupation\": \"engineer\", \"rating count\": 185, \"zip_code\": \"83716\"}, {\"user_id\": \"267\", \"age\": 24, \"rating mean\": 2.942073170731707, \"sex\": \"M\", \"occupation\": \"engineer\", \"rating count\": 328, \"zip_code\": \"19422\"}, {\"user_id\": \"268\", \"age\": 31, \"rating mean\": 3.0092879256965945, \"sex\": \"F\", \"occupation\": \"librarian\", \"rating count\": 323, \"zip_code\": \"43201\"}, {\"user_id\": \"269\", \"age\": 18, \"rating mean\": 4.333333333333333, \"sex\": \"F\", \"occupation\": \"student\", \"rating count\": 138, \"zip_code\": \"63119\"}, {\"user_id\": \"27\", \"age\": 32, \"rating mean\": 3.721518987341772, \"sex\": \"M\", \"occupation\": \"writer\", \"rating count\": 79, \"zip_code\": \"55369\"}, {\"user_id\": \"270\", \"age\": 51, \"rating mean\": 3.58273381294964, \"sex\": \"M\", \"occupation\": \"engineer\", \"rating count\": 278, \"zip_code\": \"22932\"}, {\"user_id\": \"271\", \"age\": 33, \"rating mean\": 4.333333333333333, \"sex\": \"M\", \"occupation\": \"scientist\", \"rating count\": 51, \"zip_code\": \"53706\"}, {\"user_id\": \"272\", \"age\": 50, \"rating mean\": 3.6363636363636362, \"sex\": \"F\", \"occupation\": \"other\", \"rating count\": 22, \"zip_code\": \"10016\"}, {\"user_id\": \"273\", \"age\": 20, \"rating mean\": 4.056338028169014, \"sex\": \"F\", \"occupation\": \"student\", \"rating count\": 71, \"zip_code\": \"55414\"}, {\"user_id\": \"274\", \"age\": 38, \"rating mean\": 3.1157894736842104, \"sex\": \"M\", \"occupation\": \"engineer\", \"rating count\": 95, \"zip_code\": \"92064\"}, {\"user_id\": \"275\", \"age\": 21, \"rating mean\": 3.465250965250965, \"sex\": \"M\", \"occupation\": \"student\", \"rating count\": 518, \"zip_code\": \"95064\"}, {\"user_id\": \"276\", \"age\": 35, \"rating mean\": 3.5, \"sex\": \"F\", \"occupation\": \"administrator\", \"rating count\": 54, \"zip_code\": \"55406\"}, {\"user_id\": \"277\", \"age\": 37, \"rating mean\": 4.260869565217392, \"sex\": \"F\", \"occupation\": \"librarian\", \"rating count\": 23, \"zip_code\": \"30033\"}, {\"user_id\": \"278\", \"age\": 33, \"rating mean\": 3.2672811059907834, \"sex\": \"M\", \"occupation\": \"programmer\", \"rating count\": 434, \"zip_code\": \"85251\"}, {\"user_id\": \"279\", \"age\": 30, \"rating mean\": 3.5775193798449614, \"sex\": \"F\", \"occupation\": \"librarian\", \"rating count\": 258, \"zip_code\": \"22903\"}, {\"user_id\": \"28\", \"age\": 41, \"rating mean\": 3.6470588235294117, \"sex\": \"M\", \"occupation\": \"programmer\", \"rating count\": 34, \"zip_code\": \"94043\"}, {\"user_id\": \"280\", \"age\": 15, \"rating mean\": 3.1923076923076925, \"sex\": \"F\", \"occupation\": \"student\", \"rating count\": 26, \"zip_code\": \"06059\"}, {\"user_id\": \"281\", \"age\": 22, \"rating mean\": 3.5, \"sex\": \"M\", \"occupation\": \"administrator\", \"rating count\": 22, \"zip_code\": \"20057\"}, {\"user_id\": \"282\", \"age\": 28, \"rating mean\": 4.132075471698113, \"sex\": \"M\", \"occupation\": \"programmer\", \"rating count\": 53, \"zip_code\": \"55305\"}, {\"user_id\": \"283\", \"age\": 40, \"rating mean\": 3.5531914893617023, \"sex\": \"M\", \"occupation\": \"executive\", \"rating count\": 47, \"zip_code\": \"92629\"}, {\"user_id\": \"284\", \"age\": 25, \"rating mean\": 3.9375, \"sex\": \"M\", \"occupation\": \"programmer\", \"rating count\": 32, \"zip_code\": \"53713\"}, {\"user_id\": \"285\", \"age\": 27, \"rating mean\": 3.7118055555555554, \"sex\": \"M\", \"occupation\": \"student\", \"rating count\": 288, \"zip_code\": \"15217\"}, {\"user_id\": \"286\", \"age\": 21, \"rating mean\": 4.112903225806452, \"sex\": \"M\", \"occupation\": \"salesman\", \"rating count\": 62, \"zip_code\": \"31211\"}, {\"user_id\": \"287\", \"age\": 34, \"rating mean\": 3.88, \"sex\": \"M\", \"occupation\": \"marketing\", \"rating count\": 75, \"zip_code\": \"23226\"}, {\"user_id\": \"288\", \"age\": 11, \"rating mean\": 2.925925925925926, \"sex\": \"M\", \"occupation\": \"none\", \"rating count\": 27, \"zip_code\": \"94619\"}, {\"user_id\": \"289\", \"age\": 40, \"rating mean\": 3.3533333333333335, \"sex\": \"M\", \"occupation\": \"engineer\", \"rating count\": 150, \"zip_code\": \"93550\"}, {\"user_id\": \"29\", \"age\": 7, \"rating mean\": 3.7674418604651163, \"sex\": \"M\", \"occupation\": \"student\", \"rating count\": 43, \"zip_code\": \"55436\"}, {\"user_id\": \"290\", \"age\": 19, \"rating mean\": 3.685810810810811, \"sex\": \"M\", \"occupation\": \"student\", \"rating count\": 296, \"zip_code\": \"44106\"}, {\"user_id\": \"291\", \"age\": 35, \"rating mean\": 4.225806451612903, \"sex\": \"F\", \"occupation\": \"programmer\", \"rating count\": 124, \"zip_code\": \"94703\"}, {\"user_id\": \"292\", \"age\": 24, \"rating mean\": 3.0309278350515463, \"sex\": \"M\", \"occupation\": \"writer\", \"rating count\": 388, \"zip_code\": \"60804\"}, {\"user_id\": \"293\", \"age\": 34, \"rating mean\": 3.466666666666667, \"sex\": \"M\", \"occupation\": \"technician\", \"rating count\": 150, \"zip_code\": \"92110\"}, {\"user_id\": \"294\", \"age\": 31, \"rating mean\": 4.239795918367347, \"sex\": \"M\", \"occupation\": \"educator\", \"rating count\": 196, \"zip_code\": \"50325\"}, {\"user_id\": \"295\", \"age\": 43, \"rating mean\": 4.1768707482993195, \"sex\": \"F\", \"occupation\": \"administrator\", \"rating count\": 147, \"zip_code\": \"16803\"}, {\"user_id\": \"296\", \"age\": 29, \"rating mean\": 3.4375, \"sex\": \"F\", \"occupation\": \"educator\", \"rating count\": 192, \"zip_code\": \"98103\"}, {\"user_id\": \"297\", \"age\": 44, \"rating mean\": 4.031496062992126, \"sex\": \"M\", \"occupation\": \"executive\", \"rating count\": 127, \"zip_code\": \"01581\"}, {\"user_id\": \"298\", \"age\": 29, \"rating mean\": 3.4642857142857144, \"sex\": \"M\", \"occupation\": \"doctor\", \"rating count\": 280, \"zip_code\": \"63108\"}, {\"user_id\": \"299\", \"age\": 26, \"rating mean\": 3.75, \"sex\": \"F\", \"occupation\": \"programmer\", \"rating count\": 20, \"zip_code\": \"55106\"}, {\"user_id\": \"3\", \"age\": 24, \"rating mean\": 4.333333333333333, \"sex\": \"M\", \"occupation\": \"technician\", \"rating count\": 24, \"zip_code\": \"43537\"}, {\"user_id\": \"30\", \"age\": 24, \"rating mean\": 3.9166666666666665, \"sex\": \"M\", \"occupation\": \"artist\", \"rating count\": 36, \"zip_code\": \"10003\"}, {\"user_id\": \"300\", \"age\": 24, \"rating mean\": 3.5272727272727273, \"sex\": \"M\", \"occupation\": \"student\", \"rating count\": 275, \"zip_code\": \"55439\"}, {\"user_id\": \"301\", \"age\": 42, \"rating mean\": 2.4285714285714284, \"sex\": \"M\", \"occupation\": \"educator\", \"rating count\": 21, \"zip_code\": \"77904\"}, {\"user_id\": \"302\", \"age\": 19, \"rating mean\": 3.365702479338843, \"sex\": \"M\", \"occupation\": \"student\", \"rating count\": 484, \"zip_code\": \"14853\"}, {\"user_id\": \"303\", \"age\": 22, \"rating mean\": 3.3846153846153846, \"sex\": \"F\", \"occupation\": \"student\", \"rating count\": 26, \"zip_code\": \"71701\"}, {\"user_id\": \"304\", \"age\": 23, \"rating mean\": 3.40990990990991, \"sex\": \"M\", \"occupation\": \"programmer\", \"rating count\": 222, \"zip_code\": \"94086\"}, {\"user_id\": \"305\", \"age\": 45, \"rating mean\": 3.78125, \"sex\": \"M\", \"occupation\": \"other\", \"rating count\": 32, \"zip_code\": \"73132\"}, {\"user_id\": \"306\", \"age\": 25, \"rating mean\": 3.794642857142857, \"sex\": \"M\", \"occupation\": \"student\", \"rating count\": 112, \"zip_code\": \"55454\"}, {\"user_id\": \"307\", \"age\": 60, \"rating mean\": 3.7581863979848866, \"sex\": \"M\", \"occupation\": \"retired\", \"rating count\": 397, \"zip_code\": \"95076\"}, {\"user_id\": \"308\", \"age\": 40, \"rating mean\": 3.5, \"sex\": \"M\", \"occupation\": \"scientist\", \"rating count\": 20, \"zip_code\": \"70802\"}, {\"user_id\": \"309\", \"age\": 37, \"rating mean\": 3.857142857142857, \"sex\": \"M\", \"occupation\": \"educator\", \"rating count\": 21, \"zip_code\": \"91711\"}, {\"user_id\": \"31\", \"age\": 28, \"rating mean\": 3.317073170731707, \"sex\": \"F\", \"occupation\": \"student\", \"rating count\": 41, \"zip_code\": \"78741\"}, {\"user_id\": \"310\", \"age\": 32, \"rating mean\": 3.795918367346939, \"sex\": \"M\", \"occupation\": \"technician\", \"rating count\": 294, \"zip_code\": \"73071\"}, {\"user_id\": \"311\", \"age\": 48, \"rating mean\": 4.381165919282512, \"sex\": \"M\", \"occupation\": \"other\", \"rating count\": 223, \"zip_code\": \"02110\"}, {\"user_id\": \"312\", \"age\": 41, \"rating mean\": 3.595419847328244, \"sex\": \"M\", \"occupation\": \"marketing\", \"rating count\": 262, \"zip_code\": \"60035\"}, {\"user_id\": \"313\", \"age\": 20, \"rating mean\": 3.6775510204081634, \"sex\": \"F\", \"occupation\": \"student\", \"rating count\": 245, \"zip_code\": \"08043\"}, {\"user_id\": \"314\", \"age\": 31, \"rating mean\": 4.011494252873563, \"sex\": \"M\", \"occupation\": \"educator\", \"rating count\": 87, \"zip_code\": \"18301\"}, {\"user_id\": \"315\", \"age\": 43, \"rating mean\": 3.36, \"sex\": \"F\", \"occupation\": \"other\", \"rating count\": 75, \"zip_code\": \"77009\"}, {\"user_id\": \"316\", \"age\": 22, \"rating mean\": 3.5454545454545454, \"sex\": \"M\", \"occupation\": \"administrator\", \"rating count\": 22, \"zip_code\": \"13210\"}, {\"user_id\": \"317\", \"age\": 65, \"rating mean\": 3.706896551724138, \"sex\": \"M\", \"occupation\": \"retired\", \"rating count\": 174, \"zip_code\": \"06518\"}, {\"user_id\": \"318\", \"age\": 38, \"rating mean\": 3.4782608695652173, \"sex\": \"M\", \"occupation\": \"programmer\", \"rating count\": 23, \"zip_code\": \"22030\"}, {\"user_id\": \"319\", \"age\": 19, \"rating mean\": 3.720779220779221, \"sex\": \"M\", \"occupation\": \"student\", \"rating count\": 154, \"zip_code\": \"24060\"}, {\"user_id\": \"32\", \"age\": 23, \"rating mean\": 3.7083333333333335, \"sex\": \"M\", \"occupation\": \"student\", \"rating count\": 24, \"zip_code\": \"27510\"}, {\"user_id\": \"320\", \"age\": 49, \"rating mean\": 3.736, \"sex\": \"F\", \"occupation\": \"educator\", \"rating count\": 125, \"zip_code\": \"55413\"}, {\"user_id\": \"321\", \"age\": 20, \"rating mean\": 4.176470588235294, \"sex\": \"M\", \"occupation\": \"student\", \"rating count\": 51, \"zip_code\": \"50613\"}, {\"user_id\": \"322\", \"age\": 21, \"rating mean\": 3.6179775280898876, \"sex\": \"M\", \"occupation\": \"student\", \"rating count\": 89, \"zip_code\": \"19149\"}, {\"user_id\": \"323\", \"age\": 21, \"rating mean\": 4.348484848484849, \"sex\": \"F\", \"occupation\": \"student\", \"rating count\": 66, \"zip_code\": \"02176\"}, {\"user_id\": \"324\", \"age\": 48, \"rating mean\": 3.408450704225352, \"sex\": \"M\", \"occupation\": \"technician\", \"rating count\": 142, \"zip_code\": \"02139\"}, {\"user_id\": \"325\", \"age\": 41, \"rating mean\": 3.3262032085561497, \"sex\": \"M\", \"occupation\": \"administrator\", \"rating count\": 187, \"zip_code\": \"15235\"}, {\"user_id\": \"326\", \"age\": 22, \"rating mean\": 3.313380281690141, \"sex\": \"M\", \"occupation\": \"student\", \"rating count\": 284, \"zip_code\": \"11101\"}, {\"user_id\": \"327\", \"age\": 51, \"rating mean\": 3.431095406360424, \"sex\": \"M\", \"occupation\": \"administrator\", \"rating count\": 283, \"zip_code\": \"06779\"}, {\"user_id\": \"328\", \"age\": 48, \"rating mean\": 3.4, \"sex\": \"M\", \"occupation\": \"educator\", \"rating count\": 65, \"zip_code\": \"01720\"}, {\"user_id\": \"329\", \"age\": 35, \"rating mean\": 4.496598639455782, \"sex\": \"F\", \"occupation\": \"educator\", \"rating count\": 147, \"zip_code\": \"33884\"}, {\"user_id\": \"33\", \"age\": 38, \"rating mean\": 4.05, \"sex\": \"F\", \"occupation\": \"administrator\", \"rating count\": 20, \"zip_code\": \"42141\"}, {\"user_id\": \"330\", \"age\": 33, \"rating mean\": 3.642857142857143, \"sex\": \"M\", \"occupation\": \"entertainment\", \"rating count\": 70, \"zip_code\": \"91344\"}, {\"user_id\": \"331\", \"age\": 20, \"rating mean\": 4.1530054644808745, \"sex\": \"M\", \"occupation\": \"student\", \"rating count\": 183, \"zip_code\": \"40504\"}, {\"user_id\": \"332\", \"age\": 47, \"rating mean\": 3.8461538461538463, \"sex\": \"M\", \"occupation\": \"other\", \"rating count\": 26, \"zip_code\": \"V0R2M\"}, {\"user_id\": \"333\", \"age\": 32, \"rating mean\": 3.5195195195195197, \"sex\": \"M\", \"occupation\": \"librarian\", \"rating count\": 333, \"zip_code\": \"30002\"}, {\"user_id\": \"334\", \"age\": 45, \"rating mean\": 3.5454545454545454, \"sex\": \"M\", \"occupation\": \"executive\", \"rating count\": 22, \"zip_code\": \"33775\"}, {\"user_id\": \"335\", \"age\": 23, \"rating mean\": 2.9615384615384617, \"sex\": \"M\", \"occupation\": \"salesman\", \"rating count\": 130, \"zip_code\": \"42101\"}, {\"user_id\": \"336\", \"age\": 37, \"rating mean\": 3.9411764705882355, \"sex\": \"M\", \"occupation\": \"scientist\", \"rating count\": 34, \"zip_code\": \"10522\"}, {\"user_id\": \"337\", \"age\": 39, \"rating mean\": 4.0, \"sex\": \"F\", \"occupation\": \"librarian\", \"rating count\": 75, \"zip_code\": \"59717\"}, {\"user_id\": \"338\", \"age\": 35, \"rating mean\": 4.003937007874016, \"sex\": \"M\", \"occupation\": \"lawyer\", \"rating count\": 254, \"zip_code\": \"37901\"}, {\"user_id\": \"339\", \"age\": 46, \"rating mean\": 4.159090909090909, \"sex\": \"M\", \"occupation\": \"engineer\", \"rating count\": 44, \"zip_code\": \"80123\"}, {\"user_id\": \"34\", \"age\": 20, \"rating mean\": 3.0, \"sex\": \"F\", \"occupation\": \"homemaker\", \"rating count\": 25, \"zip_code\": \"42459\"}, {\"user_id\": \"340\", \"age\": 17, \"rating mean\": 3.8095238095238093, \"sex\": \"F\", \"occupation\": \"student\", \"rating count\": 21, \"zip_code\": \"44405\"}, {\"user_id\": \"341\", \"age\": 25, \"rating mean\": 3.4378109452736316, \"sex\": \"F\", \"occupation\": \"other\", \"rating count\": 201, \"zip_code\": \"98006\"}, {\"user_id\": \"342\", \"age\": 43, \"rating mean\": 3.9873417721518987, \"sex\": \"M\", \"occupation\": \"engineer\", \"rating count\": 237, \"zip_code\": \"30093\"}, {\"user_id\": \"343\", \"age\": 30, \"rating mean\": 3.668421052631579, \"sex\": \"F\", \"occupation\": \"librarian\", \"rating count\": 190, \"zip_code\": \"94117\"}, {\"user_id\": \"344\", \"age\": 28, \"rating mean\": 3.646551724137931, \"sex\": \"F\", \"occupation\": \"librarian\", \"rating count\": 232, \"zip_code\": \"94143\"}, {\"user_id\": \"345\", \"age\": 34, \"rating mean\": 3.290155440414508, \"sex\": \"M\", \"occupation\": \"other\", \"rating count\": 193, \"zip_code\": \"76059\"}, {\"user_id\": \"346\", \"age\": 18, \"rating mean\": 3.5728643216080402, \"sex\": \"M\", \"occupation\": \"student\", \"rating count\": 199, \"zip_code\": \"90210\"}, {\"user_id\": \"347\", \"age\": 24, \"rating mean\": 3.896551724137931, \"sex\": \"F\", \"occupation\": \"student\", \"rating count\": 58, \"zip_code\": \"45660\"}, {\"user_id\": \"348\", \"age\": 68, \"rating mean\": 3.1951219512195124, \"sex\": \"M\", \"occupation\": \"retired\", \"rating count\": 41, \"zip_code\": \"61455\"}, {\"user_id\": \"349\", \"age\": 32, \"rating mean\": 4.32, \"sex\": \"M\", \"occupation\": \"student\", \"rating count\": 50, \"zip_code\": \"97301\"}, {\"user_id\": \"35\", \"age\": 19, \"rating mean\": 3.8, \"sex\": \"F\", \"occupation\": \"student\", \"rating count\": 20, \"zip_code\": \"93117\"}, {\"user_id\": \"350\", \"age\": 61, \"rating mean\": 4.159090909090909, \"sex\": \"M\", \"occupation\": \"educator\", \"rating count\": 44, \"zip_code\": \"49938\"}, {\"user_id\": \"351\", \"age\": 37, \"rating mean\": 3.738095238095238, \"sex\": \"F\", \"occupation\": \"programmer\", \"rating count\": 42, \"zip_code\": \"55105\"}, {\"user_id\": \"352\", \"age\": 25, \"rating mean\": 3.36, \"sex\": \"M\", \"occupation\": \"scientist\", \"rating count\": 25, \"zip_code\": \"28480\"}, {\"user_id\": \"353\", \"age\": 29, \"rating mean\": 3.742489270386266, \"sex\": \"F\", \"occupation\": \"librarian\", \"rating count\": 233, \"zip_code\": \"48197\"}, {\"user_id\": \"354\", \"age\": 25, \"rating mean\": 4.076923076923077, \"sex\": \"M\", \"occupation\": \"student\", \"rating count\": 26, \"zip_code\": \"60135\"}, {\"user_id\": \"355\", \"age\": 32, \"rating mean\": 3.5833333333333335, \"sex\": \"F\", \"occupation\": \"homemaker\", \"rating count\": 24, \"zip_code\": \"92688\"}, {\"user_id\": \"356\", \"age\": 26, \"rating mean\": 4.131578947368421, \"sex\": \"M\", \"occupation\": \"executive\", \"rating count\": 76, \"zip_code\": \"98133\"}, {\"user_id\": \"357\", \"age\": 40, \"rating mean\": 3.697674418604651, \"sex\": \"M\", \"occupation\": \"educator\", \"rating count\": 43, \"zip_code\": \"10022\"}, {\"user_id\": \"358\", \"age\": 22, \"rating mean\": 3.925925925925926, \"sex\": \"M\", \"occupation\": \"student\", \"rating count\": 27, \"zip_code\": \"61801\"}, {\"user_id\": \"359\", \"age\": 51, \"rating mean\": 3.9607843137254903, \"sex\": \"M\", \"occupation\": \"other\", \"rating count\": 102, \"zip_code\": \"98027\"}, {\"user_id\": \"36\", \"age\": 23, \"rating mean\": 3.6491228070175437, \"sex\": \"M\", \"occupation\": \"student\", \"rating count\": 57, \"zip_code\": \"55105\"}, {\"user_id\": \"360\", \"age\": 22, \"rating mean\": 3.7768595041322315, \"sex\": \"M\", \"occupation\": \"student\", \"rating count\": 121, \"zip_code\": \"44074\"}, {\"user_id\": \"361\", \"age\": 35, \"rating mean\": 3.36, \"sex\": \"F\", \"occupation\": \"homemaker\", \"rating count\": 25, \"zip_code\": \"85233\"}, {\"user_id\": \"362\", \"age\": 20, \"rating mean\": 3.054662379421222, \"sex\": \"M\", \"occupation\": \"student\", \"rating count\": 311, \"zip_code\": \"87501\"}, {\"user_id\": \"363\", \"age\": 63, \"rating mean\": 3.45, \"sex\": \"M\", \"occupation\": \"engineer\", \"rating count\": 20, \"zip_code\": \"01810\"}, {\"user_id\": \"364\", \"age\": 29, \"rating mean\": 3.3793103448275863, \"sex\": \"M\", \"occupation\": \"lawyer\", \"rating count\": 58, \"zip_code\": \"20009\"}, {\"user_id\": \"365\", \"age\": 20, \"rating mean\": 4.393939393939394, \"sex\": \"F\", \"occupation\": \"student\", \"rating count\": 33, \"zip_code\": \"50670\"}, {\"user_id\": \"366\", \"age\": 17, \"rating mean\": 4.155172413793103, \"sex\": \"M\", \"occupation\": \"student\", \"rating count\": 58, \"zip_code\": \"37411\"}, {\"user_id\": \"367\", \"age\": 18, \"rating mean\": 3.2888888888888888, \"sex\": \"M\", \"occupation\": \"student\", \"rating count\": 45, \"zip_code\": \"92113\"}, {\"user_id\": \"368\", \"age\": 24, \"rating mean\": 4.0, \"sex\": \"M\", \"occupation\": \"student\", \"rating count\": 22, \"zip_code\": \"91335\"}, {\"user_id\": \"369\", \"age\": 52, \"rating mean\": 3.6933333333333334, \"sex\": \"M\", \"occupation\": \"writer\", \"rating count\": 75, \"zip_code\": \"08534\"}, {\"user_id\": \"37\", \"age\": 28, \"rating mean\": 3.71900826446281, \"sex\": \"F\", \"occupation\": \"other\", \"rating count\": 121, \"zip_code\": \"54467\"}, {\"user_id\": \"370\", \"age\": 36, \"rating mean\": 4.098039215686274, \"sex\": \"M\", \"occupation\": \"engineer\", \"rating count\": 51, \"zip_code\": \"99206\"}, {\"user_id\": \"371\", \"age\": 25, \"rating mean\": 4.303030303030303, \"sex\": \"F\", \"occupation\": \"student\", \"rating count\": 66, \"zip_code\": \"66046\"}, {\"user_id\": \"372\", \"age\": 24, \"rating mean\": 3.7339055793991416, \"sex\": \"F\", \"occupation\": \"other\", \"rating count\": 233, \"zip_code\": \"55116\"}, {\"user_id\": \"373\", \"age\": 36, \"rating mean\": 3.31021897810219, \"sex\": \"M\", \"occupation\": \"executive\", \"rating count\": 274, \"zip_code\": \"78746\"}, {\"user_id\": \"374\", \"age\": 17, \"rating mean\": 3.6785714285714284, \"sex\": \"M\", \"occupation\": \"entertainment\", \"rating count\": 28, \"zip_code\": \"37777\"}, {\"user_id\": \"375\", \"age\": 28, \"rating mean\": 3.7333333333333334, \"sex\": \"F\", \"occupation\": \"other\", \"rating count\": 30, \"zip_code\": \"10010\"}, {\"user_id\": \"376\", \"age\": 22, \"rating mean\": 3.909090909090909, \"sex\": \"M\", \"occupation\": \"student\", \"rating count\": 33, \"zip_code\": \"18015\"}, {\"user_id\": \"377\", \"age\": 35, \"rating mean\": 3.424, \"sex\": \"M\", \"occupation\": \"student\", \"rating count\": 375, \"zip_code\": \"02859\"}, {\"user_id\": \"378\", \"age\": 44, \"rating mean\": 3.989795918367347, \"sex\": \"M\", \"occupation\": \"programmer\", \"rating count\": 196, \"zip_code\": \"98117\"}, {\"user_id\": \"379\", \"age\": 32, \"rating mean\": 3.197530864197531, \"sex\": \"M\", \"occupation\": \"engineer\", \"rating count\": 162, \"zip_code\": \"55117\"}, {\"user_id\": \"38\", \"age\": 41, \"rating mean\": 3.772727272727273, \"sex\": \"M\", \"occupation\": \"entertainment\", \"rating count\": 22, \"zip_code\": \"01040\"}, {\"user_id\": \"380\", \"age\": 33, \"rating mean\": 3.811023622047244, \"sex\": \"M\", \"occupation\": \"artist\", \"rating count\": 127, \"zip_code\": \"94608\"}, {\"user_id\": \"381\", \"age\": 45, \"rating mean\": 3.4716981132075473, \"sex\": \"M\", \"occupation\": \"engineer\", \"rating count\": 53, \"zip_code\": \"01824\"}, {\"user_id\": \"382\", \"age\": 42, \"rating mean\": 4.380281690140845, \"sex\": \"M\", \"occupation\": \"administrator\", \"rating count\": 71, \"zip_code\": \"75204\"}, {\"user_id\": \"383\", \"age\": 52, \"rating mean\": 4.136363636363637, \"sex\": \"M\", \"occupation\": \"programmer\", \"rating count\": 22, \"zip_code\": \"45218\"}, {\"user_id\": \"384\", \"age\": 36, \"rating mean\": 3.295373665480427, \"sex\": \"M\", \"occupation\": \"writer\", \"rating count\": 281, \"zip_code\": \"10003\"}, {\"user_id\": \"385\", \"age\": 36, \"rating mean\": 3.652173913043478, \"sex\": \"M\", \"occupation\": \"salesman\", \"rating count\": 23, \"zip_code\": \"43221\"}, {\"user_id\": \"386\", \"age\": 33, \"rating mean\": 3.361842105263158, \"sex\": \"M\", \"occupation\": \"entertainment\", \"rating count\": 304, \"zip_code\": \"37412\"}, {\"user_id\": \"387\", \"age\": 31, \"rating mean\": 4.173076923076923, \"sex\": \"M\", \"occupation\": \"other\", \"rating count\": 52, \"zip_code\": \"36106\"}, {\"user_id\": \"388\", \"age\": 44, \"rating mean\": 3.7047970479704797, \"sex\": \"F\", \"occupation\": \"writer\", \"rating count\": 271, \"zip_code\": \"83702\"}, {\"user_id\": \"389\", \"age\": 42, \"rating mean\": 3.838709677419355, \"sex\": \"F\", \"occupation\": \"writer\", \"rating count\": 31, \"zip_code\": \"85016\"}, {\"user_id\": \"39\", \"age\": 38, \"rating mean\": 2.8857142857142857, \"sex\": \"M\", \"occupation\": \"scientist\", \"rating count\": 35, \"zip_code\": \"27514\"}, {\"user_id\": \"390\", \"age\": 23, \"rating mean\": 3.768595041322314, \"sex\": \"M\", \"occupation\": \"student\", \"rating count\": 121, \"zip_code\": \"84604\"}, {\"user_id\": \"391\", \"age\": 52, \"rating mean\": 4.045045045045045, \"sex\": \"M\", \"occupation\": \"writer\", \"rating count\": 111, \"zip_code\": \"59801\"}, {\"user_id\": \"392\", \"age\": 19, \"rating mean\": 3.3370535714285716, \"sex\": \"M\", \"occupation\": \"student\", \"rating count\": 448, \"zip_code\": \"83686\"}, {\"user_id\": \"393\", \"age\": 25, \"rating mean\": 3.859060402684564, \"sex\": \"M\", \"occupation\": \"administrator\", \"rating count\": 149, \"zip_code\": \"96819\"}, {\"user_id\": \"394\", \"age\": 43, \"rating mean\": 3.8947368421052633, \"sex\": \"M\", \"occupation\": \"other\", \"rating count\": 57, \"zip_code\": \"44092\"}, {\"user_id\": \"395\", \"age\": 57, \"rating mean\": 3.4074074074074074, \"sex\": \"M\", \"occupation\": \"engineer\", \"rating count\": 54, \"zip_code\": \"94551\"}, {\"user_id\": \"396\", \"age\": 17, \"rating mean\": 3.7058823529411766, \"sex\": \"M\", \"occupation\": \"student\", \"rating count\": 102, \"zip_code\": \"27514\"}, {\"user_id\": \"397\", \"age\": 40, \"rating mean\": 3.7093023255813953, \"sex\": \"M\", \"occupation\": \"other\", \"rating count\": 172, \"zip_code\": \"60008\"}, {\"user_id\": \"398\", \"age\": 25, \"rating mean\": 2.93730407523511, \"sex\": \"M\", \"occupation\": \"other\", \"rating count\": 319, \"zip_code\": \"92374\"}, {\"user_id\": \"399\", \"age\": 33, \"rating mean\": 3.590909090909091, \"sex\": \"F\", \"occupation\": \"administrator\", \"rating count\": 22, \"zip_code\": \"78213\"}, {\"user_id\": \"4\", \"age\": 33, \"rating mean\": 2.874285714285714, \"sex\": \"F\", \"occupation\": \"other\", \"rating count\": 175, \"zip_code\": \"15213\"}, {\"user_id\": \"40\", \"age\": 33, \"rating mean\": 3.769230769230769, \"sex\": \"M\", \"occupation\": \"engineer\", \"rating count\": 52, \"zip_code\": \"80525\"}, {\"user_id\": \"400\", \"age\": 46, \"rating mean\": 3.1176470588235294, \"sex\": \"F\", \"occupation\": \"healthcare\", \"rating count\": 153, \"zip_code\": \"84107\"}, {\"user_id\": \"401\", \"age\": 30, \"rating mean\": 3.8970588235294117, \"sex\": \"M\", \"occupation\": \"engineer\", \"rating count\": 68, \"zip_code\": \"95129\"}, {\"user_id\": \"402\", \"age\": 37, \"rating mean\": 3.68, \"sex\": \"M\", \"occupation\": \"other\", \"rating count\": 50, \"zip_code\": \"06811\"}, {\"user_id\": \"403\", \"age\": 29, \"rating mean\": 3.25, \"sex\": \"F\", \"occupation\": \"programmer\", \"rating count\": 44, \"zip_code\": \"55108\"}, {\"user_id\": \"404\", \"age\": 22, \"rating mean\": 1.8344640434192674, \"sex\": \"F\", \"occupation\": \"healthcare\", \"rating count\": 737, \"zip_code\": \"10019\"}, {\"user_id\": \"405\", \"age\": 52, \"rating mean\": 3.5321637426900585, \"sex\": \"M\", \"occupation\": \"educator\", \"rating count\": 342, \"zip_code\": \"93109\"}, {\"user_id\": \"406\", \"age\": 29, \"rating mean\": 3.4690265486725664, \"sex\": \"M\", \"occupation\": \"engineer\", \"rating count\": 226, \"zip_code\": \"03261\"}, {\"user_id\": \"407\", \"age\": 23, \"rating mean\": 3.740740740740741, \"sex\": \"M\", \"occupation\": \"student\", \"rating count\": 27, \"zip_code\": \"61755\"}, {\"user_id\": \"408\", \"age\": 48, \"rating mean\": 3.5911330049261085, \"sex\": \"M\", \"occupation\": \"administrator\", \"rating count\": 203, \"zip_code\": \"98225\"}, {\"user_id\": \"409\", \"age\": 30, \"rating mean\": 3.0357142857142856, \"sex\": \"F\", \"occupation\": \"artist\", \"rating count\": 28, \"zip_code\": \"94025\"}, {\"user_id\": \"41\", \"age\": 30, \"rating mean\": 3.726775956284153, \"sex\": \"M\", \"occupation\": \"administrator\", \"rating count\": 183, \"zip_code\": \"17870\"}, {\"user_id\": \"410\", \"age\": 34, \"rating mean\": 3.7758620689655173, \"sex\": \"M\", \"occupation\": \"educator\", \"rating count\": 58, \"zip_code\": \"44691\"}, {\"user_id\": \"411\", \"age\": 25, \"rating mean\": 3.9411764705882355, \"sex\": \"M\", \"occupation\": \"educator\", \"rating count\": 51, \"zip_code\": \"15222\"}, {\"user_id\": \"412\", \"age\": 55, \"rating mean\": 3.66, \"sex\": \"M\", \"occupation\": \"educator\", \"rating count\": 50, \"zip_code\": \"78212\"}, {\"user_id\": \"413\", \"age\": 24, \"rating mean\": 3.88, \"sex\": \"M\", \"occupation\": \"programmer\", \"rating count\": 25, \"zip_code\": \"38115\"}, {\"user_id\": \"414\", \"age\": 39, \"rating mean\": 4.166666666666667, \"sex\": \"M\", \"occupation\": \"educator\", \"rating count\": 24, \"zip_code\": \"85711\"}, {\"user_id\": \"415\", \"age\": 20, \"rating mean\": 3.845841784989858, \"sex\": \"F\", \"occupation\": \"student\", \"rating count\": 493, \"zip_code\": \"92626\"}, {\"user_id\": \"416\", \"age\": 27, \"rating mean\": 3.2465753424657535, \"sex\": \"F\", \"occupation\": \"other\", \"rating count\": 365, \"zip_code\": \"48103\"}, {\"user_id\": \"417\", \"age\": 55, \"rating mean\": 2.9, \"sex\": \"F\", \"occupation\": \"none\", \"rating count\": 20, \"zip_code\": \"21206\"}, {\"user_id\": \"418\", \"age\": 37, \"rating mean\": 4.21875, \"sex\": \"M\", \"occupation\": \"lawyer\", \"rating count\": 32, \"zip_code\": \"43215\"}, {\"user_id\": \"419\", \"age\": 53, \"rating mean\": 4.166666666666667, \"sex\": \"M\", \"occupation\": \"educator\", \"rating count\": 36, \"zip_code\": \"02140\"}, {\"user_id\": \"42\", \"age\": 29, \"rating mean\": 3.7104072398190047, \"sex\": \"F\", \"occupation\": \"librarian\", \"rating count\": 221, \"zip_code\": \"20854\"}, {\"user_id\": \"420\", \"age\": 38, \"rating mean\": 3.8548387096774195, \"sex\": \"F\", \"occupation\": \"programmer\", \"rating count\": 62, \"zip_code\": \"55105\"}, {\"user_id\": \"421\", \"age\": 26, \"rating mean\": 3.463917525773196, \"sex\": \"M\", \"occupation\": \"entertainment\", \"rating count\": 97, \"zip_code\": \"94533\"}, {\"user_id\": \"422\", \"age\": 64, \"rating mean\": 3.578125, \"sex\": \"M\", \"occupation\": \"other\", \"rating count\": 64, \"zip_code\": \"91606\"}, {\"user_id\": \"423\", \"age\": 36, \"rating mean\": 3.3636363636363638, \"sex\": \"F\", \"occupation\": \"marketing\", \"rating count\": 44, \"zip_code\": \"55422\"}, {\"user_id\": \"424\", \"age\": 19, \"rating mean\": 2.9558823529411766, \"sex\": \"M\", \"occupation\": \"student\", \"rating count\": 204, \"zip_code\": \"58644\"}, {\"user_id\": \"425\", \"age\": 55, \"rating mean\": 3.8316831683168315, \"sex\": \"M\", \"occupation\": \"educator\", \"rating count\": 101, \"zip_code\": \"01602\"}, {\"user_id\": \"426\", \"age\": 51, \"rating mean\": 4.548387096774194, \"sex\": \"M\", \"occupation\": \"doctor\", \"rating count\": 31, \"zip_code\": \"85258\"}, {\"user_id\": \"427\", \"age\": 28, \"rating mean\": 3.9272727272727272, \"sex\": \"M\", \"occupation\": \"student\", \"rating count\": 55, \"zip_code\": \"55414\"}, {\"user_id\": \"428\", \"age\": 27, \"rating mean\": 3.393719806763285, \"sex\": \"M\", \"occupation\": \"student\", \"rating count\": 414, \"zip_code\": \"29205\"}, {\"user_id\": \"429\", \"age\": 38, \"rating mean\": 3.5538461538461537, \"sex\": \"M\", \"occupation\": \"scientist\", \"rating count\": 65, \"zip_code\": \"98199\"}, {\"user_id\": \"43\", \"age\": 26, \"rating mean\": 3.6490066225165565, \"sex\": \"M\", \"occupation\": \"technician\", \"rating count\": 151, \"zip_code\": \"46260\"}, {\"user_id\": \"430\", \"age\": 24, \"rating mean\": 3.380952380952381, \"sex\": \"M\", \"occupation\": \"marketing\", \"rating count\": 21, \"zip_code\": \"92629\"}, {\"user_id\": \"431\", \"age\": 22, \"rating mean\": 3.7096774193548385, \"sex\": \"M\", \"occupation\": \"entertainment\", \"rating count\": 62, \"zip_code\": \"50311\"}, {\"user_id\": \"432\", \"age\": 27, \"rating mean\": 3.5121951219512195, \"sex\": \"M\", \"occupation\": \"artist\", \"rating count\": 41, \"zip_code\": \"11211\"}, {\"user_id\": \"433\", \"age\": 16, \"rating mean\": 3.7045454545454546, \"sex\": \"F\", \"occupation\": \"student\", \"rating count\": 44, \"zip_code\": \"49705\"}, {\"user_id\": \"434\", \"age\": 24, \"rating mean\": 3.316622691292876, \"sex\": \"M\", \"occupation\": \"engineer\", \"rating count\": 379, \"zip_code\": \"60007\"}, {\"user_id\": \"435\", \"age\": 30, \"rating mean\": 3.7517241379310344, \"sex\": \"F\", \"occupation\": \"administrator\", \"rating count\": 145, \"zip_code\": \"17345\"}, {\"user_id\": \"436\", \"age\": 27, \"rating mean\": 3.581749049429658, \"sex\": \"F\", \"occupation\": \"other\", \"rating count\": 263, \"zip_code\": \"20009\"}, {\"user_id\": \"437\", \"age\": 51, \"rating mean\": 4.0606060606060606, \"sex\": \"F\", \"occupation\": \"administrator\", \"rating count\": 33, \"zip_code\": \"43204\"}, {\"user_id\": \"438\", \"age\": 23, \"rating mean\": 3.7096774193548385, \"sex\": \"F\", \"occupation\": \"administrator\", \"rating count\": 31, \"zip_code\": \"20817\"}, {\"user_id\": \"439\", \"age\": 30, \"rating mean\": 4.176470588235294, \"sex\": \"M\", \"occupation\": \"other\", \"rating count\": 51, \"zip_code\": \"48076\"}, {\"user_id\": \"44\", \"age\": 29, \"rating mean\": 3.6041666666666665, \"sex\": \"M\", \"occupation\": \"programmer\", \"rating count\": 48, \"zip_code\": \"50233\"}, {\"user_id\": \"440\", \"age\": 50, \"rating mean\": 3.5, \"sex\": \"M\", \"occupation\": \"technician\", \"rating count\": 20, \"zip_code\": \"55013\"}, {\"user_id\": \"441\", \"age\": 22, \"rating mean\": 3.125874125874126, \"sex\": \"M\", \"occupation\": \"student\", \"rating count\": 143, \"zip_code\": \"85282\"}, {\"user_id\": \"442\", \"age\": 35, \"rating mean\": 3.375, \"sex\": \"M\", \"occupation\": \"salesman\", \"rating count\": 24, \"zip_code\": \"33308\"}, {\"user_id\": \"443\", \"age\": 51, \"rating mean\": 3.7916666666666665, \"sex\": \"F\", \"occupation\": \"lawyer\", \"rating count\": 24, \"zip_code\": \"53202\"}, {\"user_id\": \"444\", \"age\": 21, \"rating mean\": 1.9851851851851852, \"sex\": \"M\", \"occupation\": \"writer\", \"rating count\": 135, \"zip_code\": \"92653\"}, {\"user_id\": \"445\", \"age\": 57, \"rating mean\": 2.75, \"sex\": \"M\", \"occupation\": \"educator\", \"rating count\": 36, \"zip_code\": \"60201\"}, {\"user_id\": \"446\", \"age\": 30, \"rating mean\": 3.597122302158273, \"sex\": \"M\", \"occupation\": \"administrator\", \"rating count\": 139, \"zip_code\": \"55113\"}, {\"user_id\": \"447\", \"age\": 23, \"rating mean\": 3.3421052631578947, \"sex\": \"M\", \"occupation\": \"entertainment\", \"rating count\": 38, \"zip_code\": \"10021\"}, {\"user_id\": \"448\", \"age\": 23, \"rating mean\": 3.7466666666666666, \"sex\": \"M\", \"occupation\": \"librarian\", \"rating count\": 75, \"zip_code\": \"55021\"}, {\"user_id\": \"449\", \"age\": 35, \"rating mean\": 3.8648148148148147, \"sex\": \"F\", \"occupation\": \"educator\", \"rating count\": 540, \"zip_code\": \"11758\"}, {\"user_id\": \"45\", \"age\": 27, \"rating mean\": 4.111111111111111, \"sex\": \"F\", \"occupation\": \"marketing\", \"rating count\": 27, \"zip_code\": \"46538\"}, {\"user_id\": \"450\", \"age\": 16, \"rating mean\": 2.7346938775510203, \"sex\": \"M\", \"occupation\": \"student\", \"rating count\": 98, \"zip_code\": \"48446\"}, {\"user_id\": \"451\", \"age\": 35, \"rating mean\": 3.412621359223301, \"sex\": \"M\", \"occupation\": \"administrator\", \"rating count\": 206, \"zip_code\": \"28018\"}, {\"user_id\": \"452\", \"age\": 18, \"rating mean\": 3.2884615384615383, \"sex\": \"M\", \"occupation\": \"student\", \"rating count\": 156, \"zip_code\": \"06333\"}, {\"user_id\": \"453\", \"age\": 57, \"rating mean\": 2.9788135593220337, \"sex\": \"M\", \"occupation\": \"other\", \"rating count\": 236, \"zip_code\": \"97330\"}, {\"user_id\": \"454\", \"age\": 48, \"rating mean\": 3.502645502645503, \"sex\": \"M\", \"occupation\": \"administrator\", \"rating count\": 189, \"zip_code\": \"83709\"}, {\"user_id\": \"455\", \"age\": 24, \"rating mean\": 3.456221198156682, \"sex\": \"M\", \"occupation\": \"technician\", \"rating count\": 217, \"zip_code\": \"31820\"}, {\"user_id\": \"456\", \"age\": 33, \"rating mean\": 4.025270758122744, \"sex\": \"F\", \"occupation\": \"salesman\", \"rating count\": 277, \"zip_code\": \"30011\"}, {\"user_id\": \"457\", \"age\": 47, \"rating mean\": 3.6885245901639343, \"sex\": \"M\", \"occupation\": \"technician\", \"rating count\": 183, \"zip_code\": \"Y1A6B\"}, {\"user_id\": \"458\", \"age\": 22, \"rating mean\": 3.3813559322033897, \"sex\": \"M\", \"occupation\": \"student\", \"rating count\": 118, \"zip_code\": \"29201\"}, {\"user_id\": \"459\", \"age\": 44, \"rating mean\": 3.411764705882353, \"sex\": \"F\", \"occupation\": \"other\", \"rating count\": 68, \"zip_code\": \"60630\"}, {\"user_id\": \"46\", \"age\": 53, \"rating mean\": 3.64, \"sex\": \"M\", \"occupation\": \"marketing\", \"rating count\": 25, \"zip_code\": \"07102\"}, {\"user_id\": \"460\", \"age\": 15, \"rating mean\": 3.0, \"sex\": \"M\", \"occupation\": \"student\", \"rating count\": 23, \"zip_code\": \"98102\"}, {\"user_id\": \"461\", \"age\": 19, \"rating mean\": 4.0, \"sex\": \"F\", \"occupation\": \"student\", \"rating count\": 33, \"zip_code\": \"02918\"}, {\"user_id\": \"462\", \"age\": 48, \"rating mean\": 2.8646616541353382, \"sex\": \"F\", \"occupation\": \"healthcare\", \"rating count\": 133, \"zip_code\": \"75218\"}, {\"user_id\": \"463\", \"age\": 60, \"rating mean\": 4.037735849056604, \"sex\": \"M\", \"occupation\": \"writer\", \"rating count\": 53, \"zip_code\": \"94583\"}, {\"user_id\": \"464\", \"age\": 32, \"rating mean\": 3.4375, \"sex\": \"M\", \"occupation\": \"other\", \"rating count\": 80, \"zip_code\": \"05001\"}, {\"user_id\": \"465\", \"age\": 22, \"rating mean\": 3.4653465346534653, \"sex\": \"M\", \"occupation\": \"student\", \"rating count\": 101, \"zip_code\": \"90804\"}, {\"user_id\": \"466\", \"age\": 29, \"rating mean\": 3.6818181818181817, \"sex\": \"M\", \"occupation\": \"engineer\", \"rating count\": 44, \"zip_code\": \"91201\"}, {\"user_id\": \"467\", \"age\": 28, \"rating mean\": 3.993006993006993, \"sex\": \"M\", \"occupation\": \"engineer\", \"rating count\": 143, \"zip_code\": \"02341\"}, {\"user_id\": \"468\", \"age\": 60, \"rating mean\": 4.534883720930233, \"sex\": \"M\", \"occupation\": \"educator\", \"rating count\": 43, \"zip_code\": \"78628\"}, {\"user_id\": \"469\", \"age\": 24, \"rating mean\": 3.5789473684210527, \"sex\": \"M\", \"occupation\": \"programmer\", \"rating count\": 57, \"zip_code\": \"10021\"}, {\"user_id\": \"47\", \"age\": 45, \"rating mean\": 3.787878787878788, \"sex\": \"M\", \"occupation\": \"administrator\", \"rating count\": 66, \"zip_code\": \"12550\"}, {\"user_id\": \"470\", \"age\": 10, \"rating mean\": 3.3870967741935485, \"sex\": \"M\", \"occupation\": \"student\", \"rating count\": 31, \"zip_code\": \"77459\"}, {\"user_id\": \"471\", \"age\": 24, \"rating mean\": 4.228136882129277, \"sex\": \"M\", \"occupation\": \"student\", \"rating count\": 263, \"zip_code\": \"87544\"}, {\"user_id\": \"472\", \"age\": 29, \"rating mean\": 3.914285714285714, \"sex\": \"M\", \"occupation\": \"student\", \"rating count\": 35, \"zip_code\": \"94708\"}, {\"user_id\": \"473\", \"age\": 51, \"rating mean\": 4.08256880733945, \"sex\": \"M\", \"occupation\": \"executive\", \"rating count\": 327, \"zip_code\": \"93711\"}, {\"user_id\": \"474\", \"age\": 30, \"rating mean\": 3.6, \"sex\": \"M\", \"occupation\": \"programmer\", \"rating count\": 20, \"zip_code\": \"75230\"}, {\"user_id\": \"475\", \"age\": 28, \"rating mean\": 3.3734939759036147, \"sex\": \"M\", \"occupation\": \"student\", \"rating count\": 83, \"zip_code\": \"60440\"}, {\"user_id\": \"476\", \"age\": 23, \"rating mean\": 4.457142857142857, \"sex\": \"F\", \"occupation\": \"student\", \"rating count\": 35, \"zip_code\": \"02125\"}, {\"user_id\": \"477\", \"age\": 29, \"rating mean\": 3.415929203539823, \"sex\": \"M\", \"occupation\": \"other\", \"rating count\": 113, \"zip_code\": \"10019\"}, {\"user_id\": \"478\", \"age\": 30, \"rating mean\": 3.4207920792079207, \"sex\": \"M\", \"occupation\": \"educator\", \"rating count\": 202, \"zip_code\": \"55409\"}, {\"user_id\": \"479\", \"age\": 57, \"rating mean\": 3.7333333333333334, \"sex\": \"M\", \"occupation\": \"retired\", \"rating count\": 60, \"zip_code\": \"98257\"}, {\"user_id\": \"48\", \"age\": 23, \"rating mean\": 2.683720930232558, \"sex\": \"F\", \"occupation\": \"student\", \"rating count\": 215, \"zip_code\": \"76111\"}, {\"user_id\": \"480\", \"age\": 73, \"rating mean\": 3.982142857142857, \"sex\": \"M\", \"occupation\": \"retired\", \"rating count\": 56, \"zip_code\": \"37771\"}, {\"user_id\": \"481\", \"age\": 18, \"rating mean\": 3.423076923076923, \"sex\": \"F\", \"occupation\": \"student\", \"rating count\": 26, \"zip_code\": \"40256\"}, {\"user_id\": \"482\", \"age\": 29, \"rating mean\": 3.0508474576271185, \"sex\": \"M\", \"occupation\": \"scientist\", \"rating count\": 59, \"zip_code\": \"43212\"}, {\"user_id\": \"483\", \"age\": 27, \"rating mean\": 3.9928057553956835, \"sex\": \"M\", \"occupation\": \"student\", \"rating count\": 139, \"zip_code\": \"21208\"}, {\"user_id\": \"484\", \"age\": 44, \"rating mean\": 3.0384615384615383, \"sex\": \"F\", \"occupation\": \"educator\", \"rating count\": 26, \"zip_code\": \"95821\"}, {\"user_id\": \"485\", \"age\": 39, \"rating mean\": 3.2222222222222223, \"sex\": \"M\", \"occupation\": \"educator\", \"rating count\": 189, \"zip_code\": \"93101\"}, {\"user_id\": \"486\", \"age\": 22, \"rating mean\": 3.645021645021645, \"sex\": \"M\", \"occupation\": \"engineer\", \"rating count\": 231, \"zip_code\": \"92121\"}, {\"user_id\": \"487\", \"age\": 48, \"rating mean\": 3.357142857142857, \"sex\": \"M\", \"occupation\": \"technician\", \"rating count\": 154, \"zip_code\": \"21012\"}, {\"user_id\": \"488\", \"age\": 55, \"rating mean\": 3.7247706422018347, \"sex\": \"M\", \"occupation\": \"other\", \"rating count\": 109, \"zip_code\": \"45218\"}, {\"user_id\": \"489\", \"age\": 29, \"rating mean\": 2.789473684210526, \"sex\": \"F\", \"occupation\": \"artist\", \"rating count\": 57, \"zip_code\": \"V5A2B\"}, {\"user_id\": \"49\", \"age\": 21, \"rating mean\": 3.5416666666666665, \"sex\": \"M\", \"occupation\": \"writer\", \"rating count\": 24, \"zip_code\": \"52245\"}, {\"user_id\": \"490\", \"age\": 43, \"rating mean\": 3.8484848484848486, \"sex\": \"F\", \"occupation\": \"writer\", \"rating count\": 33, \"zip_code\": \"53711\"}, {\"user_id\": \"491\", \"age\": 57, \"rating mean\": 3.5272727272727273, \"sex\": \"M\", \"occupation\": \"educator\", \"rating count\": 55, \"zip_code\": \"94618\"}, {\"user_id\": \"492\", \"age\": 22, \"rating mean\": 3.7555555555555555, \"sex\": \"M\", \"occupation\": \"engineer\", \"rating count\": 135, \"zip_code\": \"60090\"}, {\"user_id\": \"493\", \"age\": 38, \"rating mean\": 3.872340425531915, \"sex\": \"F\", \"occupation\": \"administrator\", \"rating count\": 47, \"zip_code\": \"49428\"}, {\"user_id\": \"494\", \"age\": 29, \"rating mean\": 3.9530516431924885, \"sex\": \"M\", \"occupation\": \"engineer\", \"rating count\": 213, \"zip_code\": \"03052\"}, {\"user_id\": \"495\", \"age\": 21, \"rating mean\": 3.0310077519379846, \"sex\": \"F\", \"occupation\": \"student\", \"rating count\": 129, \"zip_code\": \"55414\"}, {\"user_id\": \"496\", \"age\": 20, \"rating mean\": 3.1792114695340503, \"sex\": \"M\", \"occupation\": \"student\", \"rating count\": 279, \"zip_code\": \"50112\"}, {\"user_id\": \"497\", \"age\": 26, \"rating mean\": 3.2885906040268456, \"sex\": \"M\", \"occupation\": \"writer\", \"rating count\": 149, \"zip_code\": \"55408\"}, {\"user_id\": \"498\", \"age\": 42, \"rating mean\": 3.8627450980392157, \"sex\": \"M\", \"occupation\": \"programmer\", \"rating count\": 102, \"zip_code\": \"75006\"}, {\"user_id\": \"499\", \"age\": 28, \"rating mean\": 3.3422222222222224, \"sex\": \"M\", \"occupation\": \"administrator\", \"rating count\": 225, \"zip_code\": \"94305\"}, {\"user_id\": \"5\", \"age\": 42, \"rating mean\": 3.6350710900473935, \"sex\": \"M\", \"occupation\": \"executive\", \"rating count\": 211, \"zip_code\": \"98101\"}, {\"user_id\": \"50\", \"age\": 28, \"rating mean\": 3.5652173913043477, \"sex\": \"M\", \"occupation\": \"educator\", \"rating count\": 23, \"zip_code\": \"16509\"}, {\"user_id\": \"500\", \"age\": 22, \"rating mean\": 3.767123287671233, \"sex\": \"M\", \"occupation\": \"student\", \"rating count\": 73, \"zip_code\": \"10025\"}, {\"user_id\": \"501\", \"age\": 22, \"rating mean\": 3.108108108108108, \"sex\": \"M\", \"occupation\": \"student\", \"rating count\": 37, \"zip_code\": \"23092\"}, {\"user_id\": \"502\", \"age\": 50, \"rating mean\": 4.01875, \"sex\": \"F\", \"occupation\": \"writer\", \"rating count\": 160, \"zip_code\": \"27514\"}, {\"user_id\": \"503\", \"age\": 40, \"rating mean\": 3.6215139442231075, \"sex\": \"F\", \"occupation\": \"writer\", \"rating count\": 251, \"zip_code\": \"92115\"}, {\"user_id\": \"504\", \"age\": 27, \"rating mean\": 3.3660714285714284, \"sex\": \"F\", \"occupation\": \"other\", \"rating count\": 112, \"zip_code\": \"20657\"}, {\"user_id\": \"505\", \"age\": 46, \"rating mean\": 3.6735537190082646, \"sex\": \"M\", \"occupation\": \"programmer\", \"rating count\": 242, \"zip_code\": \"03869\"}, {\"user_id\": \"506\", \"age\": 18, \"rating mean\": 4.724137931034483, \"sex\": \"F\", \"occupation\": \"writer\", \"rating count\": 58, \"zip_code\": \"28450\"}, {\"user_id\": \"507\", \"age\": 27, \"rating mean\": 3.8275862068965516, \"sex\": \"M\", \"occupation\": \"marketing\", \"rating count\": 87, \"zip_code\": \"19382\"}, {\"user_id\": \"508\", \"age\": 23, \"rating mean\": 2.515151515151515, \"sex\": \"M\", \"occupation\": \"administrator\", \"rating count\": 33, \"zip_code\": \"10011\"}, {\"user_id\": \"509\", \"age\": 34, \"rating mean\": 2.7666666666666666, \"sex\": \"M\", \"occupation\": \"other\", \"rating count\": 30, \"zip_code\": \"98038\"}, {\"user_id\": \"51\", \"age\": 18, \"rating mean\": 4.267857142857143, \"sex\": \"F\", \"occupation\": \"student\", \"rating count\": 56, \"zip_code\": \"55105\"}, {\"user_id\": \"510\", \"age\": 22, \"rating mean\": 3.75, \"sex\": \"M\", \"occupation\": \"student\", \"rating count\": 24, \"zip_code\": \"21250\"}, {\"user_id\": \"511\", \"age\": 29, \"rating mean\": 4.333333333333333, \"sex\": \"M\", \"occupation\": \"other\", \"rating count\": 21, \"zip_code\": \"20090\"}, {\"user_id\": \"512\", \"age\": 43, \"rating mean\": 4.363636363636363, \"sex\": \"M\", \"occupation\": \"administrator\", \"rating count\": 22, \"zip_code\": \"26241\"}, {\"user_id\": \"513\", \"age\": 27, \"rating mean\": 3.8402061855670104, \"sex\": \"M\", \"occupation\": \"programmer\", \"rating count\": 194, \"zip_code\": \"20707\"}, {\"user_id\": \"514\", \"age\": 53, \"rating mean\": 3.0, \"sex\": \"M\", \"occupation\": \"marketing\", \"rating count\": 40, \"zip_code\": \"49508\"}, {\"user_id\": \"515\", \"age\": 53, \"rating mean\": 4.095238095238095, \"sex\": \"F\", \"occupation\": \"librarian\", \"rating count\": 21, \"zip_code\": \"10021\"}, {\"user_id\": \"516\", \"age\": 24, \"rating mean\": 3.2972972972972974, \"sex\": \"M\", \"occupation\": \"student\", \"rating count\": 37, \"zip_code\": \"55454\"}, {\"user_id\": \"517\", \"age\": 49, \"rating mean\": 3.643835616438356, \"sex\": \"F\", \"occupation\": \"writer\", \"rating count\": 73, \"zip_code\": \"99709\"}, {\"user_id\": \"518\", \"age\": 22, \"rating mean\": 4.122448979591836, \"sex\": \"M\", \"occupation\": \"other\", \"rating count\": 49, \"zip_code\": \"55320\"}, {\"user_id\": \"519\", \"age\": 62, \"rating mean\": 3.4347826086956523, \"sex\": \"M\", \"occupation\": \"healthcare\", \"rating count\": 23, \"zip_code\": \"12603\"}, {\"user_id\": \"52\", \"age\": 26, \"rating mean\": 3.8214285714285716, \"sex\": \"M\", \"occupation\": \"programmer\", \"rating count\": 28, \"zip_code\": \"55414\"}, {\"user_id\": \"520\", \"age\": 19, \"rating mean\": 3.14, \"sex\": \"M\", \"occupation\": \"student\", \"rating count\": 150, \"zip_code\": \"02146\"}, {\"user_id\": \"521\", \"age\": 36, \"rating mean\": 4.333333333333333, \"sex\": \"M\", \"occupation\": \"engineer\", \"rating count\": 30, \"zip_code\": \"55443\"}, {\"user_id\": \"522\", \"age\": 50, \"rating mean\": 4.36, \"sex\": \"F\", \"occupation\": \"administrator\", \"rating count\": 100, \"zip_code\": \"04102\"}, {\"user_id\": \"523\", \"age\": 56, \"rating mean\": 3.4934640522875817, \"sex\": \"M\", \"occupation\": \"educator\", \"rating count\": 306, \"zip_code\": \"02159\"}, {\"user_id\": \"524\", \"age\": 27, \"rating mean\": 3.2962962962962963, \"sex\": \"F\", \"occupation\": \"administrator\", \"rating count\": 54, \"zip_code\": \"19711\"}, {\"user_id\": \"525\", \"age\": 30, \"rating mean\": 3.235294117647059, \"sex\": \"M\", \"occupation\": \"marketing\", \"rating count\": 68, \"zip_code\": \"97124\"}, {\"user_id\": \"526\", \"age\": 33, \"rating mean\": 3.832116788321168, \"sex\": \"M\", \"occupation\": \"librarian\", \"rating count\": 137, \"zip_code\": \"12180\"}, {\"user_id\": \"527\", \"age\": 18, \"rating mean\": 3.7169811320754715, \"sex\": \"M\", \"occupation\": \"student\", \"rating count\": 53, \"zip_code\": \"55104\"}, {\"user_id\": \"528\", \"age\": 47, \"rating mean\": 3.604651162790698, \"sex\": \"F\", \"occupation\": \"administrator\", \"rating count\": 43, \"zip_code\": \"44224\"}, {\"user_id\": \"529\", \"age\": 29, \"rating mean\": 3.888888888888889, \"sex\": \"M\", \"occupation\": \"engineer\", \"rating count\": 45, \"zip_code\": \"94040\"}, {\"user_id\": \"53\", \"age\": 22, \"rating mean\": 3.6923076923076925, \"sex\": \"M\", \"occupation\": \"executive\", \"rating count\": 65, \"zip_code\": \"66315\"}, {\"user_id\": \"530\", \"age\": 30, \"rating mean\": 3.2333333333333334, \"sex\": \"F\", \"occupation\": \"salesman\", \"rating count\": 30, \"zip_code\": \"97408\"}, {\"user_id\": \"531\", \"age\": 20, \"rating mean\": 4.12043795620438, \"sex\": \"M\", \"occupation\": \"student\", \"rating count\": 274, \"zip_code\": \"92705\"}, {\"user_id\": \"532\", \"age\": 43, \"rating mean\": 3.3846153846153846, \"sex\": \"M\", \"occupation\": \"librarian\", \"rating count\": 260, \"zip_code\": \"02324\"}, {\"user_id\": \"533\", \"age\": 20, \"rating mean\": 4.075, \"sex\": \"M\", \"occupation\": \"student\", \"rating count\": 80, \"zip_code\": \"05464\"}, {\"user_id\": \"534\", \"age\": 45, \"rating mean\": 3.9357798165137616, \"sex\": \"F\", \"occupation\": \"educator\", \"rating count\": 218, \"zip_code\": \"80302\"}, {\"user_id\": \"535\", \"age\": 38, \"rating mean\": 3.871165644171779, \"sex\": \"M\", \"occupation\": \"engineer\", \"rating count\": 163, \"zip_code\": \"30078\"}, {\"user_id\": \"536\", \"age\": 36, \"rating mean\": 2.8653061224489798, \"sex\": \"M\", \"occupation\": \"engineer\", \"rating count\": 490, \"zip_code\": \"22902\"}, {\"user_id\": \"537\", \"age\": 31, \"rating mean\": 3.617283950617284, \"sex\": \"M\", \"occupation\": \"scientist\", \"rating count\": 81, \"zip_code\": \"21010\"}, {\"user_id\": \"538\", \"age\": 53, \"rating mean\": 3.982142857142857, \"sex\": \"F\", \"occupation\": \"administrator\", \"rating count\": 56, \"zip_code\": \"80303\"}, {\"user_id\": \"539\", \"age\": 28, \"rating mean\": 3.7142857142857144, \"sex\": \"M\", \"occupation\": \"engineer\", \"rating count\": 63, \"zip_code\": \"91201\"}, {\"user_id\": \"54\", \"age\": 37, \"rating mean\": 3.2857142857142856, \"sex\": \"M\", \"occupation\": \"programmer\", \"rating count\": 21, \"zip_code\": \"01331\"}, {\"user_id\": \"540\", \"age\": 19, \"rating mean\": 3.6240601503759398, \"sex\": \"F\", \"occupation\": \"student\", \"rating count\": 133, \"zip_code\": \"84302\"}, {\"user_id\": \"541\", \"age\": 21, \"rating mean\": 3.488888888888889, \"sex\": \"M\", \"occupation\": \"student\", \"rating count\": 135, \"zip_code\": \"60515\"}, {\"user_id\": \"542\", \"age\": 33, \"rating mean\": 3.532994923857868, \"sex\": \"M\", \"occupation\": \"scientist\", \"rating count\": 197, \"zip_code\": \"95123\"}, {\"user_id\": \"543\", \"age\": 44, \"rating mean\": 2.806451612903226, \"sex\": \"F\", \"occupation\": \"other\", \"rating count\": 31, \"zip_code\": \"29464\"}, {\"user_id\": \"544\", \"age\": 27, \"rating mean\": 3.506172839506173, \"sex\": \"M\", \"occupation\": \"technician\", \"rating count\": 162, \"zip_code\": \"08052\"}, {\"user_id\": \"545\", \"age\": 36, \"rating mean\": 3.8983050847457625, \"sex\": \"M\", \"occupation\": \"executive\", \"rating count\": 59, \"zip_code\": \"22911\"}, {\"user_id\": \"546\", \"age\": 50, \"rating mean\": 3.652173913043478, \"sex\": \"M\", \"occupation\": \"educator\", \"rating count\": 23, \"zip_code\": \"14534\"}, {\"user_id\": \"547\", \"age\": 51, \"rating mean\": 3.670967741935484, \"sex\": \"M\", \"occupation\": \"writer\", \"rating count\": 155, \"zip_code\": \"95468\"}, {\"user_id\": \"548\", \"age\": 42, \"rating mean\": 3.72, \"sex\": \"M\", \"occupation\": \"scientist\", \"rating count\": 25, \"zip_code\": \"45680\"}, {\"user_id\": \"549\", \"age\": 16, \"rating mean\": 3.675, \"sex\": \"F\", \"occupation\": \"student\", \"rating count\": 40, \"zip_code\": \"95453\"}, {\"user_id\": \"55\", \"age\": 25, \"rating mean\": 3.641711229946524, \"sex\": \"M\", \"occupation\": \"librarian\", \"rating count\": 187, \"zip_code\": \"46260\"}, {\"user_id\": \"550\", \"age\": 25, \"rating mean\": 3.802395209580838, \"sex\": \"M\", \"occupation\": \"programmer\", \"rating count\": 334, \"zip_code\": \"55414\"}, {\"user_id\": \"551\", \"age\": 45, \"rating mean\": 3.0952380952380953, \"sex\": \"M\", \"occupation\": \"other\", \"rating count\": 84, \"zip_code\": \"68147\"}, {\"user_id\": \"552\", \"age\": 58, \"rating mean\": 4.17, \"sex\": \"M\", \"occupation\": \"educator\", \"rating count\": 100, \"zip_code\": \"62901\"}, {\"user_id\": \"553\", \"age\": 32, \"rating mean\": 3.5701754385964914, \"sex\": \"M\", \"occupation\": \"scientist\", \"rating count\": 114, \"zip_code\": \"62901\"}, {\"user_id\": \"554\", \"age\": 29, \"rating mean\": 4.019230769230769, \"sex\": \"F\", \"occupation\": \"educator\", \"rating count\": 52, \"zip_code\": \"23227\"}, {\"user_id\": \"555\", \"age\": 35, \"rating mean\": 4.204545454545454, \"sex\": \"F\", \"occupation\": \"educator\", \"rating count\": 44, \"zip_code\": \"30606\"}, {\"user_id\": \"556\", \"age\": 30, \"rating mean\": 3.7547169811320753, \"sex\": \"F\", \"occupation\": \"writer\", \"rating count\": 53, \"zip_code\": \"11217\"}, {\"user_id\": \"557\", \"age\": 56, \"rating mean\": 4.2, \"sex\": \"F\", \"occupation\": \"writer\", \"rating count\": 20, \"zip_code\": \"63132\"}, {\"user_id\": \"558\", \"age\": 69, \"rating mean\": 3.5789473684210527, \"sex\": \"M\", \"occupation\": \"executive\", \"rating count\": 76, \"zip_code\": \"10022\"}, {\"user_id\": \"559\", \"age\": 32, \"rating mean\": 3.396039603960396, \"sex\": \"M\", \"occupation\": \"student\", \"rating count\": 101, \"zip_code\": \"10003\"}, {\"user_id\": \"56\", \"age\": 16, \"rating mean\": 3.5, \"sex\": \"M\", \"occupation\": \"none\", \"rating count\": 106, \"zip_code\": \"84010\"}, {\"user_id\": \"560\", \"age\": 23, \"rating mean\": 3.0252100840336134, \"sex\": \"M\", \"occupation\": \"engineer\", \"rating count\": 357, \"zip_code\": \"60005\"}, {\"user_id\": \"561\", \"age\": 54, \"rating mean\": 3.5416666666666665, \"sex\": \"F\", \"occupation\": \"administrator\", \"rating count\": 72, \"zip_code\": \"20879\"}, {\"user_id\": \"562\", \"age\": 39, \"rating mean\": 3.7666666666666666, \"sex\": \"F\", \"occupation\": \"librarian\", \"rating count\": 30, \"zip_code\": \"32707\"}, {\"user_id\": \"563\", \"age\": 65, \"rating mean\": 3.411764705882353, \"sex\": \"M\", \"occupation\": \"retired\", \"rating count\": 34, \"zip_code\": \"94591\"}, {\"user_id\": \"564\", \"age\": 40, \"rating mean\": 4.542857142857143, \"sex\": \"M\", \"occupation\": \"student\", \"rating count\": 35, \"zip_code\": \"55422\"}, {\"user_id\": \"565\", \"age\": 20, \"rating mean\": 3.442953020134228, \"sex\": \"M\", \"occupation\": \"student\", \"rating count\": 149, \"zip_code\": \"14627\"}, {\"user_id\": \"566\", \"age\": 24, \"rating mean\": 3.9548387096774196, \"sex\": \"M\", \"occupation\": \"entertainment\", \"rating count\": 155, \"zip_code\": \"10003\"}, {\"user_id\": \"567\", \"age\": 39, \"rating mean\": 3.3703703703703702, \"sex\": \"M\", \"occupation\": \"educator\", \"rating count\": 81, \"zip_code\": \"01915\"}, {\"user_id\": \"568\", \"age\": 34, \"rating mean\": 3.4857142857142858, \"sex\": \"M\", \"occupation\": \"educator\", \"rating count\": 70, \"zip_code\": \"91903\"}, {\"user_id\": \"569\", \"age\": 26, \"rating mean\": 2.6818181818181817, \"sex\": \"M\", \"occupation\": \"educator\", \"rating count\": 22, \"zip_code\": \"14627\"}, {\"user_id\": \"57\", \"age\": 27, \"rating mean\": 3.8376623376623376, \"sex\": \"M\", \"occupation\": \"programmer\", \"rating count\": 154, \"zip_code\": \"52246\"}, {\"user_id\": \"570\", \"age\": 34, \"rating mean\": 3.45, \"sex\": \"M\", \"occupation\": \"artist\", \"rating count\": 20, \"zip_code\": \"01945\"}, {\"user_id\": \"571\", \"age\": 51, \"rating mean\": 3.25, \"sex\": \"M\", \"occupation\": \"educator\", \"rating count\": 20, \"zip_code\": \"20003\"}, {\"user_id\": \"572\", \"age\": 68, \"rating mean\": 3.7450980392156863, \"sex\": \"M\", \"occupation\": \"retired\", \"rating count\": 51, \"zip_code\": \"48911\"}, {\"user_id\": \"573\", \"age\": 56, \"rating mean\": 3.5217391304347827, \"sex\": \"M\", \"occupation\": \"educator\", \"rating count\": 46, \"zip_code\": \"53188\"}, {\"user_id\": \"574\", \"age\": 33, \"rating mean\": 3.1538461538461537, \"sex\": \"M\", \"occupation\": \"marketing\", \"rating count\": 26, \"zip_code\": \"46032\"}, {\"user_id\": \"575\", \"age\": 48, \"rating mean\": 3.5277777777777777, \"sex\": \"M\", \"occupation\": \"executive\", \"rating count\": 36, \"zip_code\": \"98281\"}, {\"user_id\": \"576\", \"age\": 36, \"rating mean\": 3.8031914893617023, \"sex\": \"F\", \"occupation\": \"student\", \"rating count\": 188, \"zip_code\": \"77845\"}, {\"user_id\": \"577\", \"age\": 31, \"rating mean\": 2.6666666666666665, \"sex\": \"M\", \"occupation\": \"administrator\", \"rating count\": 24, \"zip_code\": \"M7A1A\"}, {\"user_id\": \"578\", \"age\": 32, \"rating mean\": 3.472972972972973, \"sex\": \"M\", \"occupation\": \"educator\", \"rating count\": 74, \"zip_code\": \"48103\"}, {\"user_id\": \"579\", \"age\": 16, \"rating mean\": 3.5531914893617023, \"sex\": \"M\", \"occupation\": \"student\", \"rating count\": 47, \"zip_code\": \"17961\"}, {\"user_id\": \"58\", \"age\": 49, \"rating mean\": 3.9345549738219896, \"sex\": \"M\", \"occupation\": \"educator\", \"rating count\": 382, \"zip_code\": \"08403\"}, {\"user_id\": \"580\", \"age\": 37, \"rating mean\": 4.035714285714286, \"sex\": \"M\", \"occupation\": \"other\", \"rating count\": 28, \"zip_code\": \"94131\"}, {\"user_id\": \"581\", \"age\": 17, \"rating mean\": 3.274193548387097, \"sex\": \"M\", \"occupation\": \"student\", \"rating count\": 62, \"zip_code\": \"93003\"}, {\"user_id\": \"582\", \"age\": 44, \"rating mean\": 4.444444444444445, \"sex\": \"M\", \"occupation\": \"engineer\", \"rating count\": 27, \"zip_code\": \"29631\"}, {\"user_id\": \"583\", \"age\": 25, \"rating mean\": 3.5416666666666665, \"sex\": \"M\", \"occupation\": \"student\", \"rating count\": 24, \"zip_code\": \"27511\"}, {\"user_id\": \"584\", \"age\": 69, \"rating mean\": 3.7375, \"sex\": \"M\", \"occupation\": \"librarian\", \"rating count\": 80, \"zip_code\": \"98501\"}, {\"user_id\": \"585\", \"age\": 20, \"rating mean\": 3.325301204819277, \"sex\": \"M\", \"occupation\": \"student\", \"rating count\": 166, \"zip_code\": \"79508\"}, {\"user_id\": \"586\", \"age\": 26, \"rating mean\": 2.9693877551020407, \"sex\": \"M\", \"occupation\": \"other\", \"rating count\": 98, \"zip_code\": \"14216\"}, {\"user_id\": \"587\", \"age\": 18, \"rating mean\": 3.7422222222222223, \"sex\": \"F\", \"occupation\": \"student\", \"rating count\": 225, \"zip_code\": \"93063\"}, {\"user_id\": \"588\", \"age\": 21, \"rating mean\": 3.441860465116279, \"sex\": \"M\", \"occupation\": \"lawyer\", \"rating count\": 43, \"zip_code\": \"90034\"}, {\"user_id\": \"589\", \"age\": 50, \"rating mean\": 3.5, \"sex\": \"M\", \"occupation\": \"educator\", \"rating count\": 48, \"zip_code\": \"82435\"}, {\"user_id\": \"59\", \"age\": 50, \"rating mean\": 4.086538461538462, \"sex\": \"M\", \"occupation\": \"healthcare\", \"rating count\": 208, \"zip_code\": \"06472\"}, {\"user_id\": \"590\", \"age\": 57, \"rating mean\": 3.6547619047619047, \"sex\": \"F\", \"occupation\": \"librarian\", \"rating count\": 84, \"zip_code\": \"92093\"}, {\"user_id\": \"591\", \"age\": 18, \"rating mean\": 3.813888888888889, \"sex\": \"M\", \"occupation\": \"student\", \"rating count\": 360, \"zip_code\": \"97520\"}, {\"user_id\": \"592\", \"age\": 31, \"rating mean\": 3.608974358974359, \"sex\": \"F\", \"occupation\": \"educator\", \"rating count\": 156, \"zip_code\": \"68767\"}, {\"user_id\": \"593\", \"age\": 46, \"rating mean\": 3.48, \"sex\": \"M\", \"occupation\": \"educator\", \"rating count\": 25, \"zip_code\": \"M4J2K\"}, {\"user_id\": \"594\", \"age\": 25, \"rating mean\": 3.1979166666666665, \"sex\": \"M\", \"occupation\": \"programmer\", \"rating count\": 96, \"zip_code\": \"31909\"}, {\"user_id\": \"595\", \"age\": 20, \"rating mean\": 3.6, \"sex\": \"M\", \"occupation\": \"artist\", \"rating count\": 20, \"zip_code\": \"77073\"}, {\"user_id\": \"596\", \"age\": 23, \"rating mean\": 3.6341463414634148, \"sex\": \"M\", \"occupation\": \"other\", \"rating count\": 41, \"zip_code\": \"84116\"}, {\"user_id\": \"597\", \"age\": 40, \"rating mean\": 3.68, \"sex\": \"F\", \"occupation\": \"marketing\", \"rating count\": 25, \"zip_code\": \"43085\"}, {\"user_id\": \"598\", \"age\": 22, \"rating mean\": 3.893617021276596, \"sex\": \"F\", \"occupation\": \"student\", \"rating count\": 47, \"zip_code\": \"R3T5K\"}, {\"user_id\": \"599\", \"age\": 34, \"rating mean\": 3.5842696629213484, \"sex\": \"M\", \"occupation\": \"programmer\", \"rating count\": 89, \"zip_code\": \"02320\"}, {\"user_id\": \"6\", \"age\": 57, \"rating mean\": 3.965260545905707, \"sex\": \"M\", \"occupation\": \"administrator\", \"rating count\": 403, \"zip_code\": \"91344\"}, {\"user_id\": \"60\", \"age\": 36, \"rating mean\": 2.9523809523809526, \"sex\": \"M\", \"occupation\": \"engineer\", \"rating count\": 21, \"zip_code\": \"30040\"}, {\"user_id\": \"600\", \"age\": 19, \"rating mean\": 3.081081081081081, \"sex\": \"F\", \"occupation\": \"artist\", \"rating count\": 148, \"zip_code\": \"99687\"}, {\"user_id\": \"601\", \"age\": 47, \"rating mean\": 3.793103448275862, \"sex\": \"F\", \"occupation\": \"other\", \"rating count\": 29, \"zip_code\": \"34656\"}, {\"user_id\": \"602\", \"age\": 21, \"rating mean\": 3.7872340425531914, \"sex\": \"M\", \"occupation\": \"programmer\", \"rating count\": 47, \"zip_code\": \"47905\"}, {\"user_id\": \"603\", \"age\": 39, \"rating mean\": 3.2962962962962963, \"sex\": \"M\", \"occupation\": \"educator\", \"rating count\": 27, \"zip_code\": \"11787\"}, {\"user_id\": \"604\", \"age\": 33, \"rating mean\": 3.7555555555555555, \"sex\": \"M\", \"occupation\": \"engineer\", \"rating count\": 90, \"zip_code\": \"33716\"}, {\"user_id\": \"605\", \"age\": 28, \"rating mean\": 3.9661016949152543, \"sex\": \"M\", \"occupation\": \"programmer\", \"rating count\": 236, \"zip_code\": \"63044\"}, {\"user_id\": \"606\", \"age\": 49, \"rating mean\": 3.8378378378378377, \"sex\": \"F\", \"occupation\": \"healthcare\", \"rating count\": 37, \"zip_code\": \"02154\"}, {\"user_id\": \"607\", \"age\": 22, \"rating mean\": 3.6748466257668713, \"sex\": \"M\", \"occupation\": \"other\", \"rating count\": 163, \"zip_code\": \"10003\"}, {\"user_id\": \"608\", \"age\": 13, \"rating mean\": 2.392857142857143, \"sex\": \"F\", \"occupation\": \"student\", \"rating count\": 28, \"zip_code\": \"55106\"}, {\"user_id\": \"609\", \"age\": 22, \"rating mean\": 3.7333333333333334, \"sex\": \"M\", \"occupation\": \"student\", \"rating count\": 75, \"zip_code\": \"21227\"}, {\"user_id\": \"61\", \"age\": 27, \"rating mean\": 3.3017241379310347, \"sex\": \"F\", \"occupation\": \"administrator\", \"rating count\": 232, \"zip_code\": \"97214\"}, {\"user_id\": \"610\", \"age\": 46, \"rating mean\": 3.8333333333333335, \"sex\": \"M\", \"occupation\": \"librarian\", \"rating count\": 42, \"zip_code\": \"77008\"}, {\"user_id\": \"611\", \"age\": 36, \"rating mean\": 3.3703703703703702, \"sex\": \"M\", \"occupation\": \"educator\", \"rating count\": 27, \"zip_code\": \"79070\"}, {\"user_id\": \"612\", \"age\": 37, \"rating mean\": 4.321428571428571, \"sex\": \"F\", \"occupation\": \"marketing\", \"rating count\": 28, \"zip_code\": \"29678\"}, {\"user_id\": \"613\", \"age\": 54, \"rating mean\": 3.128205128205128, \"sex\": \"M\", \"occupation\": \"educator\", \"rating count\": 39, \"zip_code\": \"80227\"}, {\"user_id\": \"614\", \"age\": 38, \"rating mean\": 3.8640776699029127, \"sex\": \"M\", \"occupation\": \"educator\", \"rating count\": 103, \"zip_code\": \"27705\"}, {\"user_id\": \"615\", \"age\": 55, \"rating mean\": 3.627906976744186, \"sex\": \"M\", \"occupation\": \"scientist\", \"rating count\": 43, \"zip_code\": \"50613\"}, {\"user_id\": \"616\", \"age\": 27, \"rating mean\": 2.6203703703703702, \"sex\": \"F\", \"occupation\": \"writer\", \"rating count\": 108, \"zip_code\": \"11201\"}, {\"user_id\": \"617\", \"age\": 15, \"rating mean\": 3.287037037037037, \"sex\": \"F\", \"occupation\": \"student\", \"rating count\": 216, \"zip_code\": \"44212\"}, {\"user_id\": \"618\", \"age\": 17, \"rating mean\": 3.50561797752809, \"sex\": \"M\", \"occupation\": \"student\", \"rating count\": 89, \"zip_code\": \"44134\"}, {\"user_id\": \"619\", \"age\": 18, \"rating mean\": 3.827272727272727, \"sex\": \"F\", \"occupation\": \"writer\", \"rating count\": 110, \"zip_code\": \"81648\"}, {\"user_id\": \"62\", \"age\": 31, \"rating mean\": 3.118279569892473, \"sex\": \"M\", \"occupation\": \"marketing\", \"rating count\": 93, \"zip_code\": \"75240\"}, {\"user_id\": \"620\", \"age\": 17, \"rating mean\": 3.5497076023391814, \"sex\": \"M\", \"occupation\": \"student\", \"rating count\": 171, \"zip_code\": \"60402\"}, {\"user_id\": \"621\", \"age\": 25, \"rating mean\": 3.3903508771929824, \"sex\": \"M\", \"occupation\": \"programmer\", \"rating count\": 228, \"zip_code\": \"14850\"}, {\"user_id\": \"622\", \"age\": 50, \"rating mean\": 3.7333333333333334, \"sex\": \"F\", \"occupation\": \"educator\", \"rating count\": 45, \"zip_code\": \"60187\"}, {\"user_id\": \"623\", \"age\": 19, \"rating mean\": 3.5319148936170213, \"sex\": \"M\", \"occupation\": \"student\", \"rating count\": 141, \"zip_code\": \"30067\"}, {\"user_id\": \"624\", \"age\": 27, \"rating mean\": 3.4339622641509435, \"sex\": \"M\", \"occupation\": \"programmer\", \"rating count\": 106, \"zip_code\": \"20723\"}, {\"user_id\": \"625\", \"age\": 23, \"rating mean\": 2.34375, \"sex\": \"M\", \"occupation\": \"scientist\", \"rating count\": 32, \"zip_code\": \"19807\"}, {\"user_id\": \"626\", \"age\": 24, \"rating mean\": 3.292817679558011, \"sex\": \"M\", \"occupation\": \"engineer\", \"rating count\": 181, \"zip_code\": \"08034\"}, {\"user_id\": \"627\", \"age\": 13, \"rating mean\": 4.703703703703703, \"sex\": \"M\", \"occupation\": \"none\", \"rating count\": 27, \"zip_code\": \"94306\"}, {\"user_id\": \"628\", \"age\": 46, \"rating mean\": 4.082644628099174, \"sex\": \"F\", \"occupation\": \"other\", \"rating count\": 121, \"zip_code\": \"44224\"}, {\"user_id\": \"629\", \"age\": 26, \"rating mean\": 3.324074074074074, \"sex\": \"F\", \"occupation\": \"healthcare\", \"rating count\": 108, \"zip_code\": \"55408\"}, {\"user_id\": \"63\", \"age\": 32, \"rating mean\": 3.585, \"sex\": \"M\", \"occupation\": \"educator\", \"rating count\": 200, \"zip_code\": \"43202\"}, {\"user_id\": \"630\", \"age\": 18, \"rating mean\": 3.1, \"sex\": \"F\", \"occupation\": \"student\", \"rating count\": 20, \"zip_code\": \"38866\"}, {\"user_id\": \"631\", \"age\": 18, \"rating mean\": 3.6610169491525424, \"sex\": \"M\", \"occupation\": \"student\", \"rating count\": 118, \"zip_code\": \"55454\"}, {\"user_id\": \"632\", \"age\": 35, \"rating mean\": 3.310344827586207, \"sex\": \"M\", \"occupation\": \"programmer\", \"rating count\": 58, \"zip_code\": \"55414\"}, {\"user_id\": \"633\", \"age\": 39, \"rating mean\": 3.3703703703703702, \"sex\": \"M\", \"occupation\": \"engineer\", \"rating count\": 135, \"zip_code\": \"T8H1N\"}, {\"user_id\": \"634\", \"age\": 22, \"rating mean\": 3.264705882352941, \"sex\": \"M\", \"occupation\": \"other\", \"rating count\": 34, \"zip_code\": \"23237\"}, {\"user_id\": \"635\", \"age\": 47, \"rating mean\": 4.45, \"sex\": \"M\", \"occupation\": \"educator\", \"rating count\": 20, \"zip_code\": \"48043\"}, {\"user_id\": \"636\", \"age\": 30, \"rating mean\": 2.4903846153846154, \"sex\": \"M\", \"occupation\": \"other\", \"rating count\": 104, \"zip_code\": \"74101\"}, {\"user_id\": \"637\", \"age\": 45, \"rating mean\": 3.537313432835821, \"sex\": \"M\", \"occupation\": \"engineer\", \"rating count\": 67, \"zip_code\": \"01940\"}, {\"user_id\": \"638\", \"age\": 42, \"rating mean\": 2.9594594594594597, \"sex\": \"F\", \"occupation\": \"librarian\", \"rating count\": 148, \"zip_code\": \"12065\"}, {\"user_id\": \"639\", \"age\": 20, \"rating mean\": 4.229357798165138, \"sex\": \"M\", \"occupation\": \"student\", \"rating count\": 109, \"zip_code\": \"61801\"}, {\"user_id\": \"64\", \"age\": 51, \"rating mean\": 3.9375, \"sex\": \"F\", \"occupation\": \"educator\", \"rating count\": 80, \"zip_code\": \"48118\"}, {\"user_id\": \"640\", \"age\": 24, \"rating mean\": 4.125, \"sex\": \"M\", \"occupation\": \"student\", \"rating count\": 40, \"zip_code\": \"60626\"}, {\"user_id\": \"641\", \"age\": 18, \"rating mean\": 3.6226415094339623, \"sex\": \"F\", \"occupation\": \"student\", \"rating count\": 318, \"zip_code\": \"95521\"}, {\"user_id\": \"642\", \"age\": 39, \"rating mean\": 3.737864077669903, \"sex\": \"M\", \"occupation\": \"scientist\", \"rating count\": 206, \"zip_code\": \"55122\"}, {\"user_id\": \"643\", \"age\": 51, \"rating mean\": 4.0, \"sex\": \"M\", \"occupation\": \"retired\", \"rating count\": 42, \"zip_code\": \"63645\"}, {\"user_id\": \"644\", \"age\": 27, \"rating mean\": 3.959016393442623, \"sex\": \"M\", \"occupation\": \"programmer\", \"rating count\": 122, \"zip_code\": \"53211\"}, {\"user_id\": \"645\", \"age\": 17, \"rating mean\": 2.9473684210526314, \"sex\": \"F\", \"occupation\": \"student\", \"rating count\": 38, \"zip_code\": \"51250\"}, {\"user_id\": \"646\", \"age\": 40, \"rating mean\": 3.8275862068965516, \"sex\": \"M\", \"occupation\": \"educator\", \"rating count\": 58, \"zip_code\": \"45810\"}, {\"user_id\": \"647\", \"age\": 43, \"rating mean\": 3.259259259259259, \"sex\": \"M\", \"occupation\": \"engineer\", \"rating count\": 297, \"zip_code\": \"91351\"}, {\"user_id\": \"648\", \"age\": 20, \"rating mean\": 3.7916666666666665, \"sex\": \"M\", \"occupation\": \"student\", \"rating count\": 24, \"zip_code\": \"39762\"}, {\"user_id\": \"649\", \"age\": 42, \"rating mean\": 3.1543408360128615, \"sex\": \"M\", \"occupation\": \"engineer\", \"rating count\": 311, \"zip_code\": \"83814\"}, {\"user_id\": \"65\", \"age\": 23, \"rating mean\": 3.473684210526316, \"sex\": \"M\", \"occupation\": \"student\", \"rating count\": 38, \"zip_code\": \"80521\"}, {\"user_id\": \"650\", \"age\": 65, \"rating mean\": 3.2857142857142856, \"sex\": \"M\", \"occupation\": \"retired\", \"rating count\": 21, \"zip_code\": \"02903\"}, {\"user_id\": \"651\", \"age\": 35, \"rating mean\": 3.1363636363636362, \"sex\": \"M\", \"occupation\": \"other\", \"rating count\": 22, \"zip_code\": \"22911\"}, {\"user_id\": \"652\", \"age\": 31, \"rating mean\": 2.6925795053003534, \"sex\": \"M\", \"occupation\": \"executive\", \"rating count\": 283, \"zip_code\": \"55105\"}, {\"user_id\": \"653\", \"age\": 27, \"rating mean\": 3.687074829931973, \"sex\": \"F\", \"occupation\": \"student\", \"rating count\": 147, \"zip_code\": \"78739\"}, {\"user_id\": \"654\", \"age\": 50, \"rating mean\": 2.908029197080292, \"sex\": \"F\", \"occupation\": \"healthcare\", \"rating count\": 685, \"zip_code\": \"60657\"}, {\"user_id\": \"655\", \"age\": 48, \"rating mean\": 2.5416666666666665, \"sex\": \"M\", \"occupation\": \"educator\", \"rating count\": 24, \"zip_code\": \"10314\"}, {\"user_id\": \"656\", \"age\": 26, \"rating mean\": 3.2413793103448274, \"sex\": \"F\", \"occupation\": \"none\", \"rating count\": 29, \"zip_code\": \"78704\"}, {\"user_id\": \"657\", \"age\": 33, \"rating mean\": 3.732394366197183, \"sex\": \"M\", \"occupation\": \"programmer\", \"rating count\": 71, \"zip_code\": \"92626\"}, {\"user_id\": \"658\", \"age\": 31, \"rating mean\": 3.7905759162303663, \"sex\": \"M\", \"occupation\": \"educator\", \"rating count\": 191, \"zip_code\": \"54248\"}, {\"user_id\": \"659\", \"age\": 26, \"rating mean\": 2.5848214285714284, \"sex\": \"M\", \"occupation\": \"student\", \"rating count\": 224, \"zip_code\": \"77380\"}, {\"user_id\": \"66\", \"age\": 17, \"rating mean\": 3.7666666666666666, \"sex\": \"M\", \"occupation\": \"student\", \"rating count\": 30, \"zip_code\": \"60402\"}, {\"user_id\": \"660\", \"age\": 28, \"rating mean\": 3.9173553719008263, \"sex\": \"M\", \"occupation\": \"programmer\", \"rating count\": 121, \"zip_code\": \"98121\"}, {\"user_id\": \"661\", \"age\": 55, \"rating mean\": 3.869565217391304, \"sex\": \"M\", \"occupation\": \"librarian\", \"rating count\": 23, \"zip_code\": \"19102\"}, {\"user_id\": \"662\", \"age\": 26, \"rating mean\": 3.5316455696202533, \"sex\": \"M\", \"occupation\": \"other\", \"rating count\": 158, \"zip_code\": \"19341\"}, {\"user_id\": \"663\", \"age\": 30, \"rating mean\": 3.746987951807229, \"sex\": \"M\", \"occupation\": \"engineer\", \"rating count\": 166, \"zip_code\": \"94115\"}, {\"user_id\": \"664\", \"age\": 25, \"rating mean\": 3.4788732394366195, \"sex\": \"M\", \"occupation\": \"administrator\", \"rating count\": 142, \"zip_code\": \"55412\"}, {\"user_id\": \"665\", \"age\": 44, \"rating mean\": 3.6653061224489796, \"sex\": \"M\", \"occupation\": \"administrator\", \"rating count\": 245, \"zip_code\": \"61820\"}, {\"user_id\": \"666\", \"age\": 35, \"rating mean\": 3.9574468085106385, \"sex\": \"M\", \"occupation\": \"librarian\", \"rating count\": 47, \"zip_code\": \"01970\"}, {\"user_id\": \"667\", \"age\": 29, \"rating mean\": 3.5217391304347827, \"sex\": \"F\", \"occupation\": \"writer\", \"rating count\": 46, \"zip_code\": \"10016\"}, {\"user_id\": \"668\", \"age\": 37, \"rating mean\": 3.38, \"sex\": \"M\", \"occupation\": \"other\", \"rating count\": 100, \"zip_code\": \"20009\"}, {\"user_id\": \"669\", \"age\": 30, \"rating mean\": 3.847826086956522, \"sex\": \"M\", \"occupation\": \"technician\", \"rating count\": 46, \"zip_code\": \"21114\"}, {\"user_id\": \"67\", \"age\": 19, \"rating mean\": 3.0294117647058822, \"sex\": \"M\", \"occupation\": \"student\", \"rating count\": 34, \"zip_code\": \"22904\"}, {\"user_id\": \"670\", \"age\": 21, \"rating mean\": 3.5806451612903225, \"sex\": \"M\", \"occupation\": \"programmer\", \"rating count\": 124, \"zip_code\": \"91919\"}, {\"user_id\": \"671\", \"age\": 54, \"rating mean\": 3.2413793103448274, \"sex\": \"F\", \"occupation\": \"administrator\", \"rating count\": 29, \"zip_code\": \"90095\"}, {\"user_id\": \"672\", \"age\": 51, \"rating mean\": 3.8857142857142857, \"sex\": \"M\", \"occupation\": \"educator\", \"rating count\": 35, \"zip_code\": \"22906\"}, {\"user_id\": \"673\", \"age\": 13, \"rating mean\": 3.658536585365854, \"sex\": \"F\", \"occupation\": \"student\", \"rating count\": 41, \"zip_code\": \"55337\"}, {\"user_id\": \"674\", \"age\": 34, \"rating mean\": 3.7058823529411766, \"sex\": \"M\", \"occupation\": \"other\", \"rating count\": 34, \"zip_code\": \"28814\"}, {\"user_id\": \"675\", \"age\": 30, \"rating mean\": 3.5844155844155843, \"sex\": \"M\", \"occupation\": \"programmer\", \"rating count\": 77, \"zip_code\": \"32712\"}, {\"user_id\": \"676\", \"age\": 20, \"rating mean\": 3.5918367346938775, \"sex\": \"M\", \"occupation\": \"other\", \"rating count\": 49, \"zip_code\": \"99835\"}, {\"user_id\": \"677\", \"age\": 50, \"rating mean\": 3.4285714285714284, \"sex\": \"M\", \"occupation\": \"educator\", \"rating count\": 28, \"zip_code\": \"61462\"}, {\"user_id\": \"678\", \"age\": 20, \"rating mean\": 3.661290322580645, \"sex\": \"F\", \"occupation\": \"student\", \"rating count\": 62, \"zip_code\": \"54302\"}, {\"user_id\": \"679\", \"age\": 33, \"rating mean\": 4.0, \"sex\": \"M\", \"occupation\": \"lawyer\", \"rating count\": 38, \"zip_code\": \"90405\"}, {\"user_id\": \"68\", \"age\": 24, \"rating mean\": 3.8461538461538463, \"sex\": \"M\", \"occupation\": \"engineer\", \"rating count\": 65, \"zip_code\": \"55337\"}, {\"user_id\": \"680\", \"age\": 44, \"rating mean\": 3.227272727272727, \"sex\": \"F\", \"occupation\": \"marketing\", \"rating count\": 22, \"zip_code\": \"97208\"}, {\"user_id\": \"681\", \"age\": 23, \"rating mean\": 3.137844611528822, \"sex\": \"M\", \"occupation\": \"programmer\", \"rating count\": 399, \"zip_code\": \"55128\"}, {\"user_id\": \"682\", \"age\": 42, \"rating mean\": 3.2266666666666666, \"sex\": \"M\", \"occupation\": \"librarian\", \"rating count\": 75, \"zip_code\": \"23509\"}, {\"user_id\": \"683\", \"age\": 28, \"rating mean\": 3.488372093023256, \"sex\": \"M\", \"occupation\": \"student\", \"rating count\": 86, \"zip_code\": \"55414\"}, {\"user_id\": \"684\", \"age\": 32, \"rating mean\": 2.05, \"sex\": \"F\", \"occupation\": \"librarian\", \"rating count\": 20, \"zip_code\": \"55409\"}, {\"user_id\": \"685\", \"age\": 32, \"rating mean\": 4.563380281690141, \"sex\": \"M\", \"occupation\": \"educator\", \"rating count\": 71, \"zip_code\": \"26506\"}, {\"user_id\": \"686\", \"age\": 31, \"rating mean\": 3.4761904761904763, \"sex\": \"F\", \"occupation\": \"healthcare\", \"rating count\": 21, \"zip_code\": \"27713\"}, {\"user_id\": \"687\", \"age\": 37, \"rating mean\": 4.833333333333333, \"sex\": \"F\", \"occupation\": \"administrator\", \"rating count\": 24, \"zip_code\": \"60476\"}, {\"user_id\": \"688\", \"age\": 25, \"rating mean\": 3.8333333333333335, \"sex\": \"M\", \"occupation\": \"other\", \"rating count\": 36, \"zip_code\": \"45439\"}, {\"user_id\": \"689\", \"age\": 35, \"rating mean\": 3.1478260869565218, \"sex\": \"M\", \"occupation\": \"salesman\", \"rating count\": 115, \"zip_code\": \"63304\"}, {\"user_id\": \"69\", \"age\": 27, \"rating mean\": 3.4656488549618323, \"sex\": \"M\", \"occupation\": \"engineer\", \"rating count\": 131, \"zip_code\": \"60067\"}, {\"user_id\": \"690\", \"age\": 34, \"rating mean\": 4.21875, \"sex\": \"M\", \"occupation\": \"educator\", \"rating count\": 32, \"zip_code\": \"60089\"}, {\"user_id\": \"691\", \"age\": 34, \"rating mean\": 3.275, \"sex\": \"M\", \"occupation\": \"engineer\", \"rating count\": 40, \"zip_code\": \"18053\"}, {\"user_id\": \"692\", \"age\": 43, \"rating mean\": 3.1363636363636362, \"sex\": \"F\", \"occupation\": \"healthcare\", \"rating count\": 154, \"zip_code\": \"85210\"}, {\"user_id\": \"693\", \"age\": 60, \"rating mean\": 4.1528662420382165, \"sex\": \"M\", \"occupation\": \"programmer\", \"rating count\": 157, \"zip_code\": \"06365\"}, {\"user_id\": \"694\", \"age\": 26, \"rating mean\": 3.289473684210526, \"sex\": \"M\", \"occupation\": \"writer\", \"rating count\": 38, \"zip_code\": \"38115\"}, {\"user_id\": \"695\", \"age\": 55, \"rating mean\": 3.9310344827586206, \"sex\": \"M\", \"occupation\": \"other\", \"rating count\": 29, \"zip_code\": \"94920\"}, {\"user_id\": \"696\", \"age\": 25, \"rating mean\": 3.7142857142857144, \"sex\": \"M\", \"occupation\": \"other\", \"rating count\": 105, \"zip_code\": \"77042\"}, {\"user_id\": \"697\", \"age\": 28, \"rating mean\": 2.84251968503937, \"sex\": \"F\", \"occupation\": \"programmer\", \"rating count\": 127, \"zip_code\": \"06906\"}, {\"user_id\": \"698\", \"age\": 44, \"rating mean\": 3.1476510067114094, \"sex\": \"M\", \"occupation\": \"other\", \"rating count\": 149, \"zip_code\": \"96754\"}, {\"user_id\": \"699\", \"age\": 17, \"rating mean\": 3.6666666666666665, \"sex\": \"M\", \"occupation\": \"student\", \"rating count\": 21, \"zip_code\": \"76309\"}, {\"user_id\": \"7\", \"age\": 36, \"rating mean\": 3.7966101694915255, \"sex\": \"M\", \"occupation\": \"administrator\", \"rating count\": 59, \"zip_code\": \"05201\"}, {\"user_id\": \"70\", \"age\": 39, \"rating mean\": 3.789473684210526, \"sex\": \"M\", \"occupation\": \"scientist\", \"rating count\": 38, \"zip_code\": \"98034\"}, {\"user_id\": \"700\", \"age\": 51, \"rating mean\": 4.212121212121212, \"sex\": \"F\", \"occupation\": \"librarian\", \"rating count\": 33, \"zip_code\": \"56321\"}, {\"user_id\": \"701\", \"age\": 37, \"rating mean\": 2.4516129032258065, \"sex\": \"M\", \"occupation\": \"other\", \"rating count\": 31, \"zip_code\": \"89104\"}, {\"user_id\": \"702\", \"age\": 26, \"rating mean\": 3.5319148936170213, \"sex\": \"M\", \"occupation\": \"educator\", \"rating count\": 47, \"zip_code\": \"49512\"}, {\"user_id\": \"703\", \"age\": 51, \"rating mean\": 3.7777777777777777, \"sex\": \"F\", \"occupation\": \"librarian\", \"rating count\": 90, \"zip_code\": \"91105\"}, {\"user_id\": \"704\", \"age\": 21, \"rating mean\": 3.710526315789474, \"sex\": \"F\", \"occupation\": \"student\", \"rating count\": 114, \"zip_code\": \"54494\"}, {\"user_id\": \"705\", \"age\": 23, \"rating mean\": 3.310344827586207, \"sex\": \"M\", \"occupation\": \"student\", \"rating count\": 29, \"zip_code\": \"55454\"}, {\"user_id\": \"706\", \"age\": 56, \"rating mean\": 3.4957627118644066, \"sex\": \"F\", \"occupation\": \"librarian\", \"rating count\": 236, \"zip_code\": \"19146\"}, {\"user_id\": \"707\", \"age\": 26, \"rating mean\": 3.2, \"sex\": \"F\", \"occupation\": \"homemaker\", \"rating count\": 105, \"zip_code\": \"96349\"}, {\"user_id\": \"708\", \"age\": 21, \"rating mean\": 3.572463768115942, \"sex\": \"M\", \"occupation\": \"other\", \"rating count\": 138, \"zip_code\": \"N4T1A\"}, {\"user_id\": \"709\", \"age\": 19, \"rating mean\": 3.697674418604651, \"sex\": \"M\", \"occupation\": \"student\", \"rating count\": 86, \"zip_code\": \"92020\"}, {\"user_id\": \"71\", \"age\": 48, \"rating mean\": 3.8175182481751824, \"sex\": \"F\", \"occupation\": \"administrator\", \"rating count\": 137, \"zip_code\": \"73034\"}, {\"user_id\": \"710\", \"age\": 22, \"rating mean\": 3.8597285067873304, \"sex\": \"F\", \"occupation\": \"student\", \"rating count\": 221, \"zip_code\": \"15203\"}, {\"user_id\": \"711\", \"age\": 22, \"rating mean\": 3.765432098765432, \"sex\": \"F\", \"occupation\": \"student\", \"rating count\": 162, \"zip_code\": \"54901\"}, {\"user_id\": \"712\", \"age\": 42, \"rating mean\": 2.966666666666667, \"sex\": \"F\", \"occupation\": \"other\", \"rating count\": 30, \"zip_code\": \"07204\"}, {\"user_id\": \"713\", \"age\": 26, \"rating mean\": 3.522727272727273, \"sex\": \"M\", \"occupation\": \"engineer\", \"rating count\": 44, \"zip_code\": \"55343\"}, {\"user_id\": \"714\", \"age\": 21, \"rating mean\": 3.3832335329341316, \"sex\": \"M\", \"occupation\": \"technician\", \"rating count\": 167, \"zip_code\": \"91206\"}, {\"user_id\": \"715\", \"age\": 36, \"rating mean\": 3.8884758364312266, \"sex\": \"F\", \"occupation\": \"administrator\", \"rating count\": 269, \"zip_code\": \"44265\"}, {\"user_id\": \"716\", \"age\": 24, \"rating mean\": 3.7096774193548385, \"sex\": \"M\", \"occupation\": \"technician\", \"rating count\": 93, \"zip_code\": \"84105\"}, {\"user_id\": \"717\", \"age\": 42, \"rating mean\": 3.6923076923076925, \"sex\": \"M\", \"occupation\": \"technician\", \"rating count\": 39, \"zip_code\": \"64118\"}, {\"user_id\": \"718\", \"age\": 37, \"rating mean\": 3.1044776119402986, \"sex\": \"F\", \"occupation\": \"other\", \"rating count\": 67, \"zip_code\": \"V0R2H\"}, {\"user_id\": \"719\", \"age\": 49, \"rating mean\": 3.966666666666667, \"sex\": \"F\", \"occupation\": \"administrator\", \"rating count\": 30, \"zip_code\": \"16506\"}, {\"user_id\": \"72\", \"age\": 24, \"rating mean\": 3.727272727272727, \"sex\": \"M\", \"occupation\": \"student\", \"rating count\": 66, \"zip_code\": \"41850\"}, {\"user_id\": \"720\", \"age\": 24, \"rating mean\": 3.5357142857142856, \"sex\": \"F\", \"occupation\": \"entertainment\", \"rating count\": 168, \"zip_code\": \"11238\"}, {\"user_id\": \"721\", \"age\": 50, \"rating mean\": 3.619047619047619, \"sex\": \"F\", \"occupation\": \"homemaker\", \"rating count\": 42, \"zip_code\": \"17331\"}, {\"user_id\": \"722\", \"age\": 26, \"rating mean\": 3.272727272727273, \"sex\": \"M\", \"occupation\": \"executive\", \"rating count\": 22, \"zip_code\": \"94403\"}, {\"user_id\": \"723\", \"age\": 31, \"rating mean\": 2.164705882352941, \"sex\": \"M\", \"occupation\": \"executive\", \"rating count\": 85, \"zip_code\": \"40243\"}, {\"user_id\": \"724\", \"age\": 21, \"rating mean\": 3.8, \"sex\": \"M\", \"occupation\": \"student\", \"rating count\": 25, \"zip_code\": \"91711\"}, {\"user_id\": \"725\", \"age\": 25, \"rating mean\": 3.0, \"sex\": \"F\", \"occupation\": \"administrator\", \"rating count\": 24, \"zip_code\": \"80538\"}, {\"user_id\": \"726\", \"age\": 25, \"rating mean\": 3.0372670807453415, \"sex\": \"M\", \"occupation\": \"student\", \"rating count\": 322, \"zip_code\": \"78741\"}, {\"user_id\": \"727\", \"age\": 58, \"rating mean\": 3.576923076923077, \"sex\": \"M\", \"occupation\": \"executive\", \"rating count\": 26, \"zip_code\": \"94306\"}, {\"user_id\": \"728\", \"age\": 19, \"rating mean\": 2.857142857142857, \"sex\": \"M\", \"occupation\": \"student\", \"rating count\": 21, \"zip_code\": \"56567\"}, {\"user_id\": \"729\", \"age\": 31, \"rating mean\": 3.236842105263158, \"sex\": \"F\", \"occupation\": \"scientist\", \"rating count\": 38, \"zip_code\": \"32114\"}, {\"user_id\": \"73\", \"age\": 39, \"rating mean\": 3.641025641025641, \"sex\": \"M\", \"occupation\": \"scientist\", \"rating count\": 39, \"zip_code\": \"T8H1N\"}, {\"user_id\": \"730\", \"age\": 41, \"rating mean\": 3.3855421686746987, \"sex\": \"F\", \"occupation\": \"educator\", \"rating count\": 83, \"zip_code\": \"70403\"}, {\"user_id\": \"731\", \"age\": 28, \"rating mean\": 3.7, \"sex\": \"F\", \"occupation\": \"other\", \"rating count\": 20, \"zip_code\": \"98405\"}, {\"user_id\": \"732\", \"age\": 44, \"rating mean\": 3.02803738317757, \"sex\": \"F\", \"occupation\": \"other\", \"rating count\": 107, \"zip_code\": \"60630\"}, {\"user_id\": \"733\", \"age\": 25, \"rating mean\": 3.609375, \"sex\": \"F\", \"occupation\": \"other\", \"rating count\": 64, \"zip_code\": \"63108\"}, {\"user_id\": \"734\", \"age\": 29, \"rating mean\": 3.3207547169811322, \"sex\": \"F\", \"occupation\": \"healthcare\", \"rating count\": 53, \"zip_code\": \"85719\"}, {\"user_id\": \"735\", \"age\": 48, \"rating mean\": 3.0, \"sex\": \"F\", \"occupation\": \"writer\", \"rating count\": 24, \"zip_code\": \"94618\"}, {\"user_id\": \"736\", \"age\": 30, \"rating mean\": 3.9696969696969697, \"sex\": \"M\", \"occupation\": \"programmer\", \"rating count\": 33, \"zip_code\": \"98072\"}, {\"user_id\": \"737\", \"age\": 35, \"rating mean\": 3.675675675675676, \"sex\": \"M\", \"occupation\": \"technician\", \"rating count\": 148, \"zip_code\": \"95403\"}, {\"user_id\": \"738\", \"age\": 35, \"rating mean\": 3.6, \"sex\": \"M\", \"occupation\": \"technician\", \"rating count\": 35, \"zip_code\": \"73162\"}, {\"user_id\": \"739\", \"age\": 25, \"rating mean\": 3.4, \"sex\": \"F\", \"occupation\": \"educator\", \"rating count\": 20, \"zip_code\": \"22206\"}, {\"user_id\": \"74\", \"age\": 24, \"rating mean\": 3.278481012658228, \"sex\": \"M\", \"occupation\": \"entertainment\", \"rating count\": 79, \"zip_code\": \"08816\"}, {\"user_id\": \"740\", \"age\": 25, \"rating mean\": 3.4615384615384617, \"sex\": \"M\", \"occupation\": \"writer\", \"rating count\": 104, \"zip_code\": \"63108\"}, {\"user_id\": \"741\", \"age\": 35, \"rating mean\": 3.4615384615384617, \"sex\": \"M\", \"occupation\": \"student\", \"rating count\": 26, \"zip_code\": \"29210\"}, {\"user_id\": \"742\", \"age\": 31, \"rating mean\": 3.6857142857142855, \"sex\": \"M\", \"occupation\": \"programmer\", \"rating count\": 35, \"zip_code\": \"92660\"}, {\"user_id\": \"743\", \"age\": 35, \"rating mean\": 3.8518518518518516, \"sex\": \"M\", \"occupation\": \"marketing\", \"rating count\": 27, \"zip_code\": \"47024\"}, {\"user_id\": \"744\", \"age\": 42, \"rating mean\": 3.1, \"sex\": \"M\", \"occupation\": \"writer\", \"rating count\": 60, \"zip_code\": \"55113\"}, {\"user_id\": \"745\", \"age\": 25, \"rating mean\": 3.6417910447761193, \"sex\": \"M\", \"occupation\": \"engineer\", \"rating count\": 67, \"zip_code\": \"19047\"}, {\"user_id\": \"746\", \"age\": 19, \"rating mean\": 4.054607508532423, \"sex\": \"M\", \"occupation\": \"other\", \"rating count\": 293, \"zip_code\": \"93612\"}, {\"user_id\": \"747\", \"age\": 28, \"rating mean\": 3.7222222222222223, \"sex\": \"M\", \"occupation\": \"administrator\", \"rating count\": 108, \"zip_code\": \"94720\"}, {\"user_id\": \"748\", \"age\": 33, \"rating mean\": 3.622950819672131, \"sex\": \"M\", \"occupation\": \"other\", \"rating count\": 305, \"zip_code\": \"80919\"}, {\"user_id\": \"749\", \"age\": 28, \"rating mean\": 3.090909090909091, \"sex\": \"M\", \"occupation\": \"administrator\", \"rating count\": 33, \"zip_code\": \"32303\"}, {\"user_id\": \"75\", \"age\": 20, \"rating mean\": 3.5609756097560976, \"sex\": \"M\", \"occupation\": \"student\", \"rating count\": 82, \"zip_code\": \"02215\"}, {\"user_id\": \"750\", \"age\": 24, \"rating mean\": 3.5416666666666665, \"sex\": \"F\", \"occupation\": \"other\", \"rating count\": 168, \"zip_code\": \"90034\"}, {\"user_id\": \"751\", \"age\": 60, \"rating mean\": 3.2054794520547945, \"sex\": \"M\", \"occupation\": \"retired\", \"rating count\": 73, \"zip_code\": \"21201\"}, {\"user_id\": \"752\", \"age\": 56, \"rating mean\": 3.5964912280701755, \"sex\": \"M\", \"occupation\": \"salesman\", \"rating count\": 57, \"zip_code\": \"91206\"}, {\"user_id\": \"753\", \"age\": 59, \"rating mean\": 3.3823529411764706, \"sex\": \"F\", \"occupation\": \"librarian\", \"rating count\": 34, \"zip_code\": \"62901\"}, {\"user_id\": \"754\", \"age\": 44, \"rating mean\": 3.1052631578947367, \"sex\": \"F\", \"occupation\": \"educator\", \"rating count\": 38, \"zip_code\": \"97007\"}, {\"user_id\": \"755\", \"age\": 30, \"rating mean\": 3.1926605504587156, \"sex\": \"F\", \"occupation\": \"none\", \"rating count\": 109, \"zip_code\": \"90247\"}, {\"user_id\": \"756\", \"age\": 26, \"rating mean\": 3.3674698795180724, \"sex\": \"M\", \"occupation\": \"student\", \"rating count\": 166, \"zip_code\": \"55104\"}, {\"user_id\": \"757\", \"age\": 27, \"rating mean\": 3.876750700280112, \"sex\": \"M\", \"occupation\": \"student\", \"rating count\": 357, \"zip_code\": \"53706\"}, {\"user_id\": \"758\", \"age\": 20, \"rating mean\": 4.0625, \"sex\": \"F\", \"occupation\": \"student\", \"rating count\": 32, \"zip_code\": \"68503\"}, {\"user_id\": \"759\", \"age\": 35, \"rating mean\": 3.2439024390243905, \"sex\": \"F\", \"occupation\": \"other\", \"rating count\": 41, \"zip_code\": \"14211\"}, {\"user_id\": \"76\", \"age\": 30, \"rating mean\": 3.611111111111111, \"sex\": \"M\", \"occupation\": \"technician\", \"rating count\": 72, \"zip_code\": \"29379\"}, {\"user_id\": \"760\", \"age\": 17, \"rating mean\": 2.8484848484848486, \"sex\": \"M\", \"occupation\": \"student\", \"rating count\": 66, \"zip_code\": \"97302\"}, {\"user_id\": \"761\", \"age\": 32, \"rating mean\": 3.0476190476190474, \"sex\": \"M\", \"occupation\": \"administrator\", \"rating count\": 21, \"zip_code\": \"95050\"}, {\"user_id\": \"762\", \"age\": 27, \"rating mean\": 3.7829457364341086, \"sex\": \"M\", \"occupation\": \"scientist\", \"rating count\": 129, \"zip_code\": \"02113\"}, {\"user_id\": \"763\", \"age\": 27, \"rating mean\": 3.688073394495413, \"sex\": \"F\", \"occupation\": \"educator\", \"rating count\": 109, \"zip_code\": \"62903\"}, {\"user_id\": \"764\", \"age\": 31, \"rating mean\": 4.086956521739131, \"sex\": \"M\", \"occupation\": \"student\", \"rating count\": 23, \"zip_code\": \"33066\"}, {\"user_id\": \"765\", \"age\": 42, \"rating mean\": 3.354285714285714, \"sex\": \"M\", \"occupation\": \"other\", \"rating count\": 175, \"zip_code\": \"10960\"}, {\"user_id\": \"766\", \"age\": 70, \"rating mean\": 4.4324324324324325, \"sex\": \"M\", \"occupation\": \"engineer\", \"rating count\": 37, \"zip_code\": \"00000\"}, {\"user_id\": \"767\", \"age\": 29, \"rating mean\": 3.265625, \"sex\": \"M\", \"occupation\": \"administrator\", \"rating count\": 64, \"zip_code\": \"12866\"}, {\"user_id\": \"768\", \"age\": 39, \"rating mean\": 3.0689655172413794, \"sex\": \"M\", \"occupation\": \"executive\", \"rating count\": 29, \"zip_code\": \"06927\"}, {\"user_id\": \"769\", \"age\": 28, \"rating mean\": 4.296875, \"sex\": \"M\", \"occupation\": \"student\", \"rating count\": 64, \"zip_code\": \"14216\"}, {\"user_id\": \"77\", \"age\": 26, \"rating mean\": 3.380952380952381, \"sex\": \"M\", \"occupation\": \"administrator\", \"rating count\": 21, \"zip_code\": \"61801\"}, {\"user_id\": \"770\", \"age\": 26, \"rating mean\": 3.7142857142857144, \"sex\": \"M\", \"occupation\": \"student\", \"rating count\": 70, \"zip_code\": \"15232\"}, {\"user_id\": \"771\", \"age\": 50, \"rating mean\": 4.0, \"sex\": \"M\", \"occupation\": \"writer\", \"rating count\": 33, \"zip_code\": \"27105\"}, {\"user_id\": \"772\", \"age\": 20, \"rating mean\": 3.279503105590062, \"sex\": \"M\", \"occupation\": \"student\", \"rating count\": 161, \"zip_code\": \"55414\"}, {\"user_id\": \"773\", \"age\": 30, \"rating mean\": 2.0580357142857144, \"sex\": \"M\", \"occupation\": \"student\", \"rating count\": 224, \"zip_code\": \"80027\"}, {\"user_id\": \"774\", \"age\": 46, \"rating mean\": 3.7857142857142856, \"sex\": \"M\", \"occupation\": \"executive\", \"rating count\": 28, \"zip_code\": \"90036\"}, {\"user_id\": \"775\", \"age\": 30, \"rating mean\": 3.466666666666667, \"sex\": \"M\", \"occupation\": \"librarian\", \"rating count\": 105, \"zip_code\": \"51157\"}, {\"user_id\": \"776\", \"age\": 63, \"rating mean\": 4.055555555555555, \"sex\": \"M\", \"occupation\": \"programmer\", \"rating count\": 36, \"zip_code\": \"01810\"}, {\"user_id\": \"777\", \"age\": 34, \"rating mean\": 2.953846153846154, \"sex\": \"M\", \"occupation\": \"student\", \"rating count\": 65, \"zip_code\": \"01960\"}, {\"user_id\": \"778\", \"age\": 31, \"rating mean\": 3.918918918918919, \"sex\": \"M\", \"occupation\": \"student\", \"rating count\": 37, \"zip_code\": \"K7L5J\"}, {\"user_id\": \"779\", \"age\": 49, \"rating mean\": 3.8727272727272726, \"sex\": \"M\", \"occupation\": \"programmer\", \"rating count\": 55, \"zip_code\": \"94560\"}, {\"user_id\": \"78\", \"age\": 39, \"rating mean\": 4.0, \"sex\": \"F\", \"occupation\": \"administrator\", \"rating count\": 55, \"zip_code\": \"03755\"}, {\"user_id\": \"780\", \"age\": 20, \"rating mean\": 3.7857142857142856, \"sex\": \"M\", \"occupation\": \"student\", \"rating count\": 42, \"zip_code\": \"48825\"}, {\"user_id\": \"781\", \"age\": 21, \"rating mean\": 2.788793103448276, \"sex\": \"F\", \"occupation\": \"artist\", \"rating count\": 232, \"zip_code\": \"33205\"}, {\"user_id\": \"782\", \"age\": 30, \"rating mean\": 3.8666666666666667, \"sex\": \"M\", \"occupation\": \"marketing\", \"rating count\": 30, \"zip_code\": \"77081\"}, {\"user_id\": \"783\", \"age\": 47, \"rating mean\": 3.8461538461538463, \"sex\": \"M\", \"occupation\": \"administrator\", \"rating count\": 39, \"zip_code\": \"91040\"}, {\"user_id\": \"784\", \"age\": 32, \"rating mean\": 3.7037037037037037, \"sex\": \"M\", \"occupation\": \"engineer\", \"rating count\": 27, \"zip_code\": \"23322\"}, {\"user_id\": \"785\", \"age\": 36, \"rating mean\": 3.871794871794872, \"sex\": \"F\", \"occupation\": \"engineer\", \"rating count\": 117, \"zip_code\": \"01754\"}, {\"user_id\": \"786\", \"age\": 18, \"rating mean\": 3.1403508771929824, \"sex\": \"F\", \"occupation\": \"student\", \"rating count\": 57, \"zip_code\": \"98620\"}, {\"user_id\": \"787\", \"age\": 51, \"rating mean\": 3.3413654618473894, \"sex\": \"M\", \"occupation\": \"administrator\", \"rating count\": 249, \"zip_code\": \"05779\"}, {\"user_id\": \"788\", \"age\": 29, \"rating mean\": 3.6666666666666665, \"sex\": \"M\", \"occupation\": \"other\", \"rating count\": 33, \"zip_code\": \"55420\"}, {\"user_id\": \"789\", \"age\": 27, \"rating mean\": 3.017316017316017, \"sex\": \"M\", \"occupation\": \"technician\", \"rating count\": 231, \"zip_code\": \"80913\"}, {\"user_id\": \"79\", \"age\": 34, \"rating mean\": 3.7586206896551726, \"sex\": \"F\", \"occupation\": \"administrator\", \"rating count\": 29, \"zip_code\": \"52241\"}, {\"user_id\": \"790\", \"age\": 31, \"rating mean\": 3.8, \"sex\": \"M\", \"occupation\": \"educator\", \"rating count\": 25, \"zip_code\": \"20064\"}, {\"user_id\": \"791\", \"age\": 40, \"rating mean\": 3.127659574468085, \"sex\": \"M\", \"occupation\": \"programmer\", \"rating count\": 47, \"zip_code\": \"12205\"}, {\"user_id\": \"792\", \"age\": 22, \"rating mean\": 3.5090909090909093, \"sex\": \"M\", \"occupation\": \"student\", \"rating count\": 55, \"zip_code\": \"85281\"}, {\"user_id\": \"793\", \"age\": 32, \"rating mean\": 4.3076923076923075, \"sex\": \"M\", \"occupation\": \"educator\", \"rating count\": 39, \"zip_code\": \"57197\"}, {\"user_id\": \"794\", \"age\": 30, \"rating mean\": 3.1320754716981134, \"sex\": \"M\", \"occupation\": \"programmer\", \"rating count\": 159, \"zip_code\": \"08610\"}, {\"user_id\": \"795\", \"age\": 32, \"rating mean\": 3.600558659217877, \"sex\": \"F\", \"occupation\": \"writer\", \"rating count\": 358, \"zip_code\": \"33755\"}, {\"user_id\": \"796\", \"age\": 44, \"rating mean\": 2.6538461538461537, \"sex\": \"F\", \"occupation\": \"other\", \"rating count\": 26, \"zip_code\": \"62522\"}, {\"user_id\": \"797\", \"age\": 40, \"rating mean\": 3.3263598326359833, \"sex\": \"F\", \"occupation\": \"writer\", \"rating count\": 239, \"zip_code\": \"64131\"}, {\"user_id\": \"798\", \"age\": 49, \"rating mean\": 4.0, \"sex\": \"F\", \"occupation\": \"administrator\", \"rating count\": 24, \"zip_code\": \"19716\"}, {\"user_id\": \"799\", \"age\": 25, \"rating mean\": 3.75, \"sex\": \"M\", \"occupation\": \"programmer\", \"rating count\": 28, \"zip_code\": \"55337\"}, {\"user_id\": \"8\", \"age\": 29, \"rating mean\": 4.2727272727272725, \"sex\": \"M\", \"occupation\": \"student\", \"rating count\": 22, \"zip_code\": \"01002\"}, {\"user_id\": \"80\", \"age\": 21, \"rating mean\": 3.293103448275862, \"sex\": \"M\", \"occupation\": \"student\", \"rating count\": 58, \"zip_code\": \"21218\"}, {\"user_id\": \"800\", \"age\": 22, \"rating mean\": 4.038461538461538, \"sex\": \"M\", \"occupation\": \"writer\", \"rating count\": 26, \"zip_code\": \"92154\"}, {\"user_id\": \"801\", \"age\": 35, \"rating mean\": 3.493333333333333, \"sex\": \"M\", \"occupation\": \"administrator\", \"rating count\": 75, \"zip_code\": \"34105\"}, {\"user_id\": \"802\", \"age\": 70, \"rating mean\": 3.090909090909091, \"sex\": \"M\", \"occupation\": \"administrator\", \"rating count\": 33, \"zip_code\": \"78212\"}, {\"user_id\": \"803\", \"age\": 39, \"rating mean\": 3.6656626506024095, \"sex\": \"M\", \"occupation\": \"educator\", \"rating count\": 332, \"zip_code\": \"61820\"}, {\"user_id\": \"804\", \"age\": 27, \"rating mean\": 3.347985347985348, \"sex\": \"F\", \"occupation\": \"other\", \"rating count\": 273, \"zip_code\": \"20009\"}, {\"user_id\": \"805\", \"age\": 27, \"rating mean\": 3.642857142857143, \"sex\": \"M\", \"occupation\": \"marketing\", \"rating count\": 140, \"zip_code\": \"11217\"}, {\"user_id\": \"806\", \"age\": 41, \"rating mean\": 3.892156862745098, \"sex\": \"F\", \"occupation\": \"healthcare\", \"rating count\": 204, \"zip_code\": \"93555\"}, {\"user_id\": \"807\", \"age\": 45, \"rating mean\": 4.130434782608695, \"sex\": \"M\", \"occupation\": \"salesman\", \"rating count\": 23, \"zip_code\": \"90016\"}, {\"user_id\": \"808\", \"age\": 50, \"rating mean\": 3.45, \"sex\": \"F\", \"occupation\": \"marketing\", \"rating count\": 20, \"zip_code\": \"30803\"}, {\"user_id\": \"809\", \"age\": 55, \"rating mean\": 4.423076923076923, \"sex\": \"F\", \"occupation\": \"other\", \"rating count\": 26, \"zip_code\": \"80526\"}, {\"user_id\": \"81\", \"age\": 50, \"rating mean\": 3.0714285714285716, \"sex\": \"M\", \"occupation\": \"programmer\", \"rating count\": 168, \"zip_code\": \"22902\"}, {\"user_id\": \"810\", \"age\": 40, \"rating mean\": 4.142857142857143, \"sex\": \"F\", \"occupation\": \"educator\", \"rating count\": 21, \"zip_code\": \"73013\"}, {\"user_id\": \"811\", \"age\": 22, \"rating mean\": 3.5, \"sex\": \"M\", \"occupation\": \"technician\", \"rating count\": 20, \"zip_code\": \"76234\"}, {\"user_id\": \"812\", \"age\": 14, \"rating mean\": 2.793103448275862, \"sex\": \"F\", \"occupation\": \"student\", \"rating count\": 29, \"zip_code\": \"02136\"}, {\"user_id\": \"813\", \"age\": 30, \"rating mean\": 2.9714285714285715, \"sex\": \"M\", \"occupation\": \"other\", \"rating count\": 35, \"zip_code\": \"12345\"}, {\"user_id\": \"814\", \"age\": 32, \"rating mean\": 3.7431693989071038, \"sex\": \"M\", \"occupation\": \"other\", \"rating count\": 183, \"zip_code\": \"28806\"}, {\"user_id\": \"815\", \"age\": 34, \"rating mean\": 3.84, \"sex\": \"M\", \"occupation\": \"other\", \"rating count\": 25, \"zip_code\": \"20755\"}, {\"user_id\": \"816\", \"age\": 19, \"rating mean\": 3.361111111111111, \"sex\": \"M\", \"occupation\": \"student\", \"rating count\": 36, \"zip_code\": \"60152\"}, {\"user_id\": \"817\", \"age\": 28, \"rating mean\": 3.4761904761904763, \"sex\": \"M\", \"occupation\": \"librarian\", \"rating count\": 21, \"zip_code\": \"27514\"}, {\"user_id\": \"818\", \"age\": 59, \"rating mean\": 4.071428571428571, \"sex\": \"M\", \"occupation\": \"administrator\", \"rating count\": 28, \"zip_code\": \"40205\"}, {\"user_id\": \"819\", \"age\": 22, \"rating mean\": 3.0, \"sex\": \"M\", \"occupation\": \"student\", \"rating count\": 21, \"zip_code\": \"37725\"}, {\"user_id\": \"82\", \"age\": 40, \"rating mean\": 3.4193548387096775, \"sex\": \"M\", \"occupation\": \"other\", \"rating count\": 155, \"zip_code\": \"44133\"}, {\"user_id\": \"820\", \"age\": 37, \"rating mean\": 4.338709677419355, \"sex\": \"M\", \"occupation\": \"engineer\", \"rating count\": 62, \"zip_code\": \"77845\"}, {\"user_id\": \"821\", \"age\": 29, \"rating mean\": 3.12, \"sex\": \"F\", \"occupation\": \"librarian\", \"rating count\": 25, \"zip_code\": \"53144\"}, {\"user_id\": \"822\", \"age\": 27, \"rating mean\": 4.005405405405406, \"sex\": \"M\", \"occupation\": \"artist\", \"rating count\": 185, \"zip_code\": \"50322\"}, {\"user_id\": \"823\", \"age\": 31, \"rating mean\": 2.6, \"sex\": \"M\", \"occupation\": \"other\", \"rating count\": 20, \"zip_code\": \"15017\"}, {\"user_id\": \"824\", \"age\": 44, \"rating mean\": 3.613793103448276, \"sex\": \"M\", \"occupation\": \"engineer\", \"rating count\": 145, \"zip_code\": \"05452\"}, {\"user_id\": \"825\", \"age\": 28, \"rating mean\": 3.8260869565217392, \"sex\": \"M\", \"occupation\": \"artist\", \"rating count\": 115, \"zip_code\": \"77048\"}, {\"user_id\": \"826\", \"age\": 23, \"rating mean\": 3.25, \"sex\": \"F\", \"occupation\": \"engineer\", \"rating count\": 28, \"zip_code\": \"80228\"}, {\"user_id\": \"827\", \"age\": 28, \"rating mean\": 3.1153846153846154, \"sex\": \"M\", \"occupation\": \"librarian\", \"rating count\": 104, \"zip_code\": \"85282\"}, {\"user_id\": \"828\", \"age\": 48, \"rating mean\": 3.546875, \"sex\": \"M\", \"occupation\": \"writer\", \"rating count\": 64, \"zip_code\": \"80209\"}, {\"user_id\": \"829\", \"age\": 46, \"rating mean\": 3.7452830188679247, \"sex\": \"M\", \"occupation\": \"programmer\", \"rating count\": 106, \"zip_code\": \"53066\"}, {\"user_id\": \"83\", \"age\": 32, \"rating mean\": 3.8529411764705883, \"sex\": \"M\", \"occupation\": \"executive\", \"rating count\": 68, \"zip_code\": \"55369\"}, {\"user_id\": \"830\", \"age\": 21, \"rating mean\": 3.5205479452054793, \"sex\": \"M\", \"occupation\": \"other\", \"rating count\": 73, \"zip_code\": \"33765\"}, {\"user_id\": \"831\", \"age\": 24, \"rating mean\": 2.96, \"sex\": \"M\", \"occupation\": \"technician\", \"rating count\": 25, \"zip_code\": \"77042\"}, {\"user_id\": \"832\", \"age\": 34, \"rating mean\": 3.056179775280899, \"sex\": \"M\", \"occupation\": \"writer\", \"rating count\": 267, \"zip_code\": \"90019\"}, {\"user_id\": \"833\", \"age\": 26, \"rating mean\": 3.925925925925926, \"sex\": \"M\", \"occupation\": \"other\", \"rating count\": 54, \"zip_code\": \"64153\"}, {\"user_id\": \"834\", \"age\": 44, \"rating mean\": 4.147058823529412, \"sex\": \"F\", \"occupation\": \"executive\", \"rating count\": 102, \"zip_code\": \"11577\"}, {\"user_id\": \"835\", \"age\": 44, \"rating mean\": 3.86, \"sex\": \"M\", \"occupation\": \"artist\", \"rating count\": 50, \"zip_code\": \"10018\"}, {\"user_id\": \"836\", \"age\": 36, \"rating mean\": 3.0434782608695654, \"sex\": \"F\", \"occupation\": \"artist\", \"rating count\": 46, \"zip_code\": \"55409\"}, {\"user_id\": \"837\", \"age\": 23, \"rating mean\": 4.118279569892473, \"sex\": \"M\", \"occupation\": \"student\", \"rating count\": 93, \"zip_code\": \"01375\"}, {\"user_id\": \"838\", \"age\": 38, \"rating mean\": 3.192982456140351, \"sex\": \"F\", \"occupation\": \"entertainment\", \"rating count\": 57, \"zip_code\": \"90814\"}, {\"user_id\": \"839\", \"age\": 39, \"rating mean\": 4.137055837563452, \"sex\": \"M\", \"occupation\": \"artist\", \"rating count\": 197, \"zip_code\": \"55406\"}, {\"user_id\": \"84\", \"age\": 51, \"rating mean\": 3.5381944444444446, \"sex\": \"M\", \"occupation\": \"educator\", \"rating count\": 288, \"zip_code\": \"20003\"}, {\"user_id\": \"840\", \"age\": 45, \"rating mean\": 3.903225806451613, \"sex\": \"M\", \"occupation\": \"doctor\", \"rating count\": 31, \"zip_code\": \"47401\"}, {\"user_id\": \"841\", \"age\": 40, \"rating mean\": 3.740740740740741, \"sex\": \"M\", \"occupation\": \"writer\", \"rating count\": 27, \"zip_code\": \"93055\"}, {\"user_id\": \"842\", \"age\": 35, \"rating mean\": 2.735294117647059, \"sex\": \"M\", \"occupation\": \"librarian\", \"rating count\": 204, \"zip_code\": \"44212\"}, {\"user_id\": \"843\", \"age\": 22, \"rating mean\": 3.506172839506173, \"sex\": \"M\", \"occupation\": \"engineer\", \"rating count\": 81, \"zip_code\": \"95662\"}, {\"user_id\": \"844\", \"age\": 64, \"rating mean\": 3.129032258064516, \"sex\": \"M\", \"occupation\": \"doctor\", \"rating count\": 31, \"zip_code\": \"97405\"}, {\"user_id\": \"845\", \"age\": 27, \"rating mean\": 3.740740740740741, \"sex\": \"M\", \"occupation\": \"lawyer\", \"rating count\": 405, \"zip_code\": \"47130\"}, {\"user_id\": \"846\", \"age\": 29, \"rating mean\": 3.0342465753424657, \"sex\": \"M\", \"occupation\": \"student\", \"rating count\": 146, \"zip_code\": \"55417\"}, {\"user_id\": \"847\", \"age\": 46, \"rating mean\": 4.286666666666667, \"sex\": \"M\", \"occupation\": \"engineer\", \"rating count\": 150, \"zip_code\": \"02146\"}, {\"user_id\": \"848\", \"age\": 15, \"rating mean\": 4.869565217391305, \"sex\": \"F\", \"occupation\": \"student\", \"rating count\": 23, \"zip_code\": \"25652\"}, {\"user_id\": \"849\", \"age\": 34, \"rating mean\": 4.529411764705882, \"sex\": \"M\", \"occupation\": \"technician\", \"rating count\": 51, \"zip_code\": \"78390\"}, {\"user_id\": \"85\", \"age\": 26, \"rating mean\": 3.5217391304347827, \"sex\": \"M\", \"occupation\": \"administrator\", \"rating count\": 23, \"zip_code\": \"46005\"}, {\"user_id\": \"850\", \"age\": 18, \"rating mean\": 3.45933014354067, \"sex\": \"M\", \"occupation\": \"other\", \"rating count\": 209, \"zip_code\": \"29646\"}, {\"user_id\": \"851\", \"age\": 46, \"rating mean\": 3.4693877551020407, \"sex\": \"M\", \"occupation\": \"administrator\", \"rating count\": 49, \"zip_code\": \"94086\"}, {\"user_id\": \"852\", \"age\": 49, \"rating mean\": 2.975609756097561, \"sex\": \"M\", \"occupation\": \"writer\", \"rating count\": 41, \"zip_code\": \"40515\"}, {\"user_id\": \"853\", \"age\": 29, \"rating mean\": 3.2119815668202767, \"sex\": \"F\", \"occupation\": \"student\", \"rating count\": 217, \"zip_code\": \"55408\"}, {\"user_id\": \"854\", \"age\": 53, \"rating mean\": 3.347826086956522, \"sex\": \"M\", \"occupation\": \"librarian\", \"rating count\": 23, \"zip_code\": \"04988\"}, {\"user_id\": \"855\", \"age\": 43, \"rating mean\": 3.423076923076923, \"sex\": \"F\", \"occupation\": \"marketing\", \"rating count\": 26, \"zip_code\": \"97215\"}, {\"user_id\": \"856\", \"age\": 35, \"rating mean\": 3.272727272727273, \"sex\": \"F\", \"occupation\": \"administrator\", \"rating count\": 22, \"zip_code\": \"V1G4L\"}, {\"user_id\": \"857\", \"age\": 63, \"rating mean\": 3.4285714285714284, \"sex\": \"M\", \"occupation\": \"educator\", \"rating count\": 21, \"zip_code\": \"09645\"}, {\"user_id\": \"858\", \"age\": 18, \"rating mean\": 3.8461538461538463, \"sex\": \"F\", \"occupation\": \"other\", \"rating count\": 39, \"zip_code\": \"06492\"}, {\"user_id\": \"859\", \"age\": 70, \"rating mean\": 3.23943661971831, \"sex\": \"F\", \"occupation\": \"retired\", \"rating count\": 71, \"zip_code\": \"48322\"}, {\"user_id\": \"86\", \"age\": 47, \"rating mean\": 3.7914691943127963, \"sex\": \"M\", \"occupation\": \"administrator\", \"rating count\": 211, \"zip_code\": \"89503\"}, {\"user_id\": \"860\", \"age\": 38, \"rating mean\": 4.0, \"sex\": \"F\", \"occupation\": \"student\", \"rating count\": 43, \"zip_code\": \"14085\"}, {\"user_id\": \"861\", \"age\": 25, \"rating mean\": 4.363636363636363, \"sex\": \"M\", \"occupation\": \"executive\", \"rating count\": 165, \"zip_code\": \"13820\"}, {\"user_id\": \"862\", \"age\": 17, \"rating mean\": 3.121495327102804, \"sex\": \"M\", \"occupation\": \"student\", \"rating count\": 107, \"zip_code\": \"60089\"}, {\"user_id\": \"863\", \"age\": 27, \"rating mean\": 3.82312925170068, \"sex\": \"M\", \"occupation\": \"programmer\", \"rating count\": 294, \"zip_code\": \"63021\"}, {\"user_id\": \"864\", \"age\": 25, \"rating mean\": 2.287878787878788, \"sex\": \"M\", \"occupation\": \"artist\", \"rating count\": 66, \"zip_code\": \"11231\"}, {\"user_id\": \"865\", \"age\": 45, \"rating mean\": 2.7, \"sex\": \"M\", \"occupation\": \"other\", \"rating count\": 20, \"zip_code\": \"60302\"}, {\"user_id\": \"866\", \"age\": 24, \"rating mean\": 4.2631578947368425, \"sex\": \"M\", \"occupation\": \"scientist\", \"rating count\": 95, \"zip_code\": \"92507\"}, {\"user_id\": \"867\", \"age\": 21, \"rating mean\": 2.951923076923077, \"sex\": \"M\", \"occupation\": \"programmer\", \"rating count\": 208, \"zip_code\": \"55303\"}, {\"user_id\": \"868\", \"age\": 30, \"rating mean\": 2.872340425531915, \"sex\": \"M\", \"occupation\": \"student\", \"rating count\": 47, \"zip_code\": \"10025\"}, {\"user_id\": \"869\", \"age\": 22, \"rating mean\": 3.453531598513011, \"sex\": \"M\", \"occupation\": \"student\", \"rating count\": 269, \"zip_code\": \"65203\"}, {\"user_id\": \"87\", \"age\": 49, \"rating mean\": 3.9523809523809526, \"sex\": \"F\", \"occupation\": \"librarian\", \"rating count\": 21, \"zip_code\": \"11701\"}, {\"user_id\": \"870\", \"age\": 31, \"rating mean\": 3.4956521739130433, \"sex\": \"M\", \"occupation\": \"executive\", \"rating count\": 115, \"zip_code\": \"44648\"}, {\"user_id\": \"871\", \"age\": 19, \"rating mean\": 3.380281690140845, \"sex\": \"F\", \"occupation\": \"student\", \"rating count\": 71, \"zip_code\": \"74078\"}, {\"user_id\": \"872\", \"age\": 48, \"rating mean\": 2.9, \"sex\": \"F\", \"occupation\": \"administrator\", \"rating count\": 20, \"zip_code\": \"33763\"}, {\"user_id\": \"873\", \"age\": 36, \"rating mean\": 3.823529411764706, \"sex\": \"M\", \"occupation\": \"scientist\", \"rating count\": 34, \"zip_code\": \"37076\"}, {\"user_id\": \"874\", \"age\": 24, \"rating mean\": 4.191011235955056, \"sex\": \"F\", \"occupation\": \"student\", \"rating count\": 89, \"zip_code\": \"35802\"}, {\"user_id\": \"875\", \"age\": 41, \"rating mean\": 4.190476190476191, \"sex\": \"M\", \"occupation\": \"other\", \"rating count\": 21, \"zip_code\": \"20902\"}, {\"user_id\": \"876\", \"age\": 30, \"rating mean\": 3.8271604938271606, \"sex\": \"M\", \"occupation\": \"other\", \"rating count\": 81, \"zip_code\": \"77504\"}, {\"user_id\": \"877\", \"age\": 50, \"rating mean\": 3.2686567164179103, \"sex\": \"F\", \"occupation\": \"educator\", \"rating count\": 134, \"zip_code\": \"98027\"}, {\"user_id\": \"878\", \"age\": 33, \"rating mean\": 3.689655172413793, \"sex\": \"F\", \"occupation\": \"administrator\", \"rating count\": 29, \"zip_code\": \"55337\"}, {\"user_id\": \"879\", \"age\": 13, \"rating mean\": 3.426630434782609, \"sex\": \"M\", \"occupation\": \"student\", \"rating count\": 368, \"zip_code\": \"83702\"}, {\"user_id\": \"88\", \"age\": 43, \"rating mean\": 4.0394736842105265, \"sex\": \"F\", \"occupation\": \"administrator\", \"rating count\": 76, \"zip_code\": \"68106\"}, {\"user_id\": \"880\", \"age\": 39, \"rating mean\": 3.3204633204633205, \"sex\": \"M\", \"occupation\": \"marketing\", \"rating count\": 259, \"zip_code\": \"43017\"}, {\"user_id\": \"881\", \"age\": 35, \"rating mean\": 4.0510948905109485, \"sex\": \"M\", \"occupation\": \"engineer\", \"rating count\": 137, \"zip_code\": \"40503\"}, {\"user_id\": \"882\", \"age\": 49, \"rating mean\": 3.925373134328358, \"sex\": \"M\", \"occupation\": \"librarian\", \"rating count\": 268, \"zip_code\": \"50266\"}, {\"user_id\": \"883\", \"age\": 44, \"rating mean\": 3.7209302325581395, \"sex\": \"M\", \"occupation\": \"engineer\", \"rating count\": 43, \"zip_code\": \"55337\"}, {\"user_id\": \"884\", \"age\": 30, \"rating mean\": 3.3137254901960786, \"sex\": \"F\", \"occupation\": \"other\", \"rating count\": 102, \"zip_code\": \"95316\"}, {\"user_id\": \"885\", \"age\": 20, \"rating mean\": 3.3625, \"sex\": \"M\", \"occupation\": \"student\", \"rating count\": 240, \"zip_code\": \"61820\"}, {\"user_id\": \"886\", \"age\": 14, \"rating mean\": 3.9239766081871346, \"sex\": \"F\", \"occupation\": \"student\", \"rating count\": 171, \"zip_code\": \"27249\"}, {\"user_id\": \"887\", \"age\": 41, \"rating mean\": 4.3, \"sex\": \"M\", \"occupation\": \"scientist\", \"rating count\": 20, \"zip_code\": \"17036\"}, {\"user_id\": \"888\", \"age\": 24, \"rating mean\": 3.4355828220858897, \"sex\": \"M\", \"occupation\": \"technician\", \"rating count\": 326, \"zip_code\": \"78704\"}, {\"user_id\": \"889\", \"age\": 32, \"rating mean\": 3.857142857142857, \"sex\": \"M\", \"occupation\": \"student\", \"rating count\": 119, \"zip_code\": \"97301\"}, {\"user_id\": \"89\", \"age\": 60, \"rating mean\": 4.223333333333334, \"sex\": \"M\", \"occupation\": \"educator\", \"rating count\": 300, \"zip_code\": \"78155\"}, {\"user_id\": \"890\", \"age\": 51, \"rating mean\": 4.127659574468085, \"sex\": \"F\", \"occupation\": \"administrator\", \"rating count\": 47, \"zip_code\": \"03062\"}, {\"user_id\": \"891\", \"age\": 36, \"rating mean\": 4.0, \"sex\": \"M\", \"occupation\": \"other\", \"rating count\": 226, \"zip_code\": \"45243\"}, {\"user_id\": \"892\", \"age\": 25, \"rating mean\": 3.4237288135593222, \"sex\": \"M\", \"occupation\": \"student\", \"rating count\": 59, \"zip_code\": \"95823\"}, {\"user_id\": \"893\", \"age\": 47, \"rating mean\": 3.636734693877551, \"sex\": \"M\", \"occupation\": \"educator\", \"rating count\": 245, \"zip_code\": \"74075\"}, {\"user_id\": \"894\", \"age\": 31, \"rating mean\": 3.75, \"sex\": \"F\", \"occupation\": \"librarian\", \"rating count\": 20, \"zip_code\": \"32301\"}, {\"user_id\": \"895\", \"age\": 28, \"rating mean\": 2.9806629834254146, \"sex\": \"M\", \"occupation\": \"writer\", \"rating count\": 362, \"zip_code\": \"91505\"}, {\"user_id\": \"896\", \"age\": 30, \"rating mean\": 3.962162162162162, \"sex\": \"M\", \"occupation\": \"other\", \"rating count\": 185, \"zip_code\": \"33484\"}, {\"user_id\": \"897\", \"age\": 23, \"rating mean\": 3.5, \"sex\": \"M\", \"occupation\": \"homemaker\", \"rating count\": 30, \"zip_code\": \"61755\"}, {\"user_id\": \"898\", \"age\": 32, \"rating mean\": 3.525925925925926, \"sex\": \"M\", \"occupation\": \"other\", \"rating count\": 135, \"zip_code\": \"55116\"}, {\"user_id\": \"899\", \"age\": 60, \"rating mean\": 2.5555555555555554, \"sex\": \"M\", \"occupation\": \"retired\", \"rating count\": 45, \"zip_code\": \"18505\"}, {\"user_id\": \"9\", \"age\": 53, \"rating mean\": 4.206521739130435, \"sex\": \"M\", \"occupation\": \"lawyer\", \"rating count\": 184, \"zip_code\": \"90703\"}, {\"user_id\": \"90\", \"age\": 55, \"rating mean\": 3.8877551020408165, \"sex\": \"M\", \"occupation\": \"marketing\", \"rating count\": 98, \"zip_code\": \"01913\"}, {\"user_id\": \"900\", \"age\": 38, \"rating mean\": 3.8548387096774195, \"sex\": \"M\", \"occupation\": \"executive\", \"rating count\": 124, \"zip_code\": \"L1V3W\"}, {\"user_id\": \"901\", \"age\": 45, \"rating mean\": 3.4489795918367347, \"sex\": \"F\", \"occupation\": \"artist\", \"rating count\": 49, \"zip_code\": \"97203\"}, {\"user_id\": \"902\", \"age\": 28, \"rating mean\": 3.8529411764705883, \"sex\": \"M\", \"occupation\": \"educator\", \"rating count\": 136, \"zip_code\": \"20850\"}, {\"user_id\": \"903\", \"age\": 17, \"rating mean\": 3.74468085106383, \"sex\": \"F\", \"occupation\": \"student\", \"rating count\": 47, \"zip_code\": \"61073\"}, {\"user_id\": \"904\", \"age\": 27, \"rating mean\": 3.275, \"sex\": \"M\", \"occupation\": \"other\", \"rating count\": 40, \"zip_code\": \"30350\"}, {\"user_id\": \"905\", \"age\": 45, \"rating mean\": 3.8048780487804876, \"sex\": \"M\", \"occupation\": \"librarian\", \"rating count\": 41, \"zip_code\": \"70124\"}, {\"user_id\": \"906\", \"age\": 25, \"rating mean\": 4.571428571428571, \"sex\": \"F\", \"occupation\": \"other\", \"rating count\": 147, \"zip_code\": \"80526\"}, {\"user_id\": \"907\", \"age\": 44, \"rating mean\": 3.554054054054054, \"sex\": \"F\", \"occupation\": \"librarian\", \"rating count\": 74, \"zip_code\": \"68504\"}, {\"user_id\": \"908\", \"age\": 50, \"rating mean\": 4.346153846153846, \"sex\": \"F\", \"occupation\": \"educator\", \"rating count\": 26, \"zip_code\": \"53171\"}, {\"user_id\": \"909\", \"age\": 28, \"rating mean\": 3.1666666666666665, \"sex\": \"M\", \"occupation\": \"healthcare\", \"rating count\": 60, \"zip_code\": \"29301\"}, {\"user_id\": \"91\", \"age\": 32, \"rating mean\": 3.2448453608247423, \"sex\": \"M\", \"occupation\": \"entertainment\", \"rating count\": 388, \"zip_code\": \"80525\"}, {\"user_id\": \"910\", \"age\": 37, \"rating mean\": 3.806122448979592, \"sex\": \"F\", \"occupation\": \"writer\", \"rating count\": 98, \"zip_code\": \"53210\"}, {\"user_id\": \"911\", \"age\": 51, \"rating mean\": 3.811320754716981, \"sex\": \"M\", \"occupation\": \"other\", \"rating count\": 53, \"zip_code\": \"06512\"}, {\"user_id\": \"912\", \"age\": 27, \"rating mean\": 3.522727272727273, \"sex\": \"M\", \"occupation\": \"student\", \"rating count\": 132, \"zip_code\": \"76201\"}, {\"user_id\": \"913\", \"age\": 44, \"rating mean\": 3.0869565217391304, \"sex\": \"F\", \"occupation\": \"other\", \"rating count\": 23, \"zip_code\": \"08105\"}, {\"user_id\": \"914\", \"age\": 50, \"rating mean\": 3.1153846153846154, \"sex\": \"M\", \"occupation\": \"entertainment\", \"rating count\": 26, \"zip_code\": \"60614\"}, {\"user_id\": \"915\", \"age\": 27, \"rating mean\": 3.365930599369085, \"sex\": \"M\", \"occupation\": \"engineer\", \"rating count\": 317, \"zip_code\": \"N2L5N\"}, {\"user_id\": \"916\", \"age\": 22, \"rating mean\": 3.5428571428571427, \"sex\": \"F\", \"occupation\": \"student\", \"rating count\": 35, \"zip_code\": \"20006\"}, {\"user_id\": \"917\", \"age\": 40, \"rating mean\": 3.349514563106796, \"sex\": \"M\", \"occupation\": \"scientist\", \"rating count\": 103, \"zip_code\": \"70116\"}, {\"user_id\": \"918\", \"age\": 25, \"rating mean\": 3.4700460829493087, \"sex\": \"M\", \"occupation\": \"other\", \"rating count\": 217, \"zip_code\": \"14216\"}, {\"user_id\": \"919\", \"age\": 30, \"rating mean\": 3.230769230769231, \"sex\": \"F\", \"occupation\": \"artist\", \"rating count\": 26, \"zip_code\": \"90008\"}, {\"user_id\": \"92\", \"age\": 48, \"rating mean\": 3.35, \"sex\": \"M\", \"occupation\": \"executive\", \"rating count\": 20, \"zip_code\": \"23112\"}, {\"user_id\": \"920\", \"age\": 20, \"rating mean\": 3.272727272727273, \"sex\": \"F\", \"occupation\": \"student\", \"rating count\": 110, \"zip_code\": \"98801\"}, {\"user_id\": \"921\", \"age\": 29, \"rating mean\": 3.37007874015748, \"sex\": \"F\", \"occupation\": \"administrator\", \"rating count\": 127, \"zip_code\": \"21114\"}, {\"user_id\": \"922\", \"age\": 21, \"rating mean\": 4.148648648648648, \"sex\": \"M\", \"occupation\": \"student\", \"rating count\": 74, \"zip_code\": \"E2E3R\"}, {\"user_id\": \"923\", \"age\": 29, \"rating mean\": 3.7560975609756095, \"sex\": \"M\", \"occupation\": \"other\", \"rating count\": 82, \"zip_code\": \"11753\"}, {\"user_id\": \"924\", \"age\": 18, \"rating mean\": 3.125, \"sex\": \"F\", \"occupation\": \"salesman\", \"rating count\": 32, \"zip_code\": \"49036\"}, {\"user_id\": \"925\", \"age\": 49, \"rating mean\": 3.3, \"sex\": \"M\", \"occupation\": \"entertainment\", \"rating count\": 20, \"zip_code\": \"01701\"}, {\"user_id\": \"926\", \"age\": 23, \"rating mean\": 3.691666666666667, \"sex\": \"M\", \"occupation\": \"programmer\", \"rating count\": 120, \"zip_code\": \"55428\"}, {\"user_id\": \"927\", \"age\": 21, \"rating mean\": 4.6875, \"sex\": \"M\", \"occupation\": \"student\", \"rating count\": 32, \"zip_code\": \"55408\"}, {\"user_id\": \"928\", \"age\": 44, \"rating mean\": 3.693877551020408, \"sex\": \"M\", \"occupation\": \"scientist\", \"rating count\": 49, \"zip_code\": \"53711\"}, {\"user_id\": \"929\", \"age\": 28, \"rating mean\": 2.9682539682539684, \"sex\": \"F\", \"occupation\": \"scientist\", \"rating count\": 63, \"zip_code\": \"07310\"}, {\"user_id\": \"93\", \"age\": 26, \"rating mean\": 3.6575, \"sex\": \"M\", \"occupation\": \"student\", \"rating count\": 400, \"zip_code\": \"71457\"}, {\"user_id\": \"930\", \"age\": 60, \"rating mean\": 3.721311475409836, \"sex\": \"M\", \"occupation\": \"educator\", \"rating count\": 61, \"zip_code\": \"33556\"}, {\"user_id\": \"931\", \"age\": 58, \"rating mean\": 3.966804979253112, \"sex\": \"M\", \"occupation\": \"educator\", \"rating count\": 241, \"zip_code\": \"06437\"}, {\"user_id\": \"932\", \"age\": 28, \"rating mean\": 2.6467391304347827, \"sex\": \"M\", \"occupation\": \"student\", \"rating count\": 184, \"zip_code\": \"48105\"}, {\"user_id\": \"933\", \"age\": 61, \"rating mean\": 3.7011494252873565, \"sex\": \"M\", \"occupation\": \"engineer\", \"rating count\": 174, \"zip_code\": \"22902\"}, {\"user_id\": \"934\", \"age\": 42, \"rating mean\": 3.923076923076923, \"sex\": \"M\", \"occupation\": \"doctor\", \"rating count\": 39, \"zip_code\": \"66221\"}, {\"user_id\": \"935\", \"age\": 24, \"rating mean\": 3.7464788732394365, \"sex\": \"M\", \"occupation\": \"other\", \"rating count\": 142, \"zip_code\": \"32789\"}, {\"user_id\": \"936\", \"age\": 48, \"rating mean\": 3.375, \"sex\": \"M\", \"occupation\": \"educator\", \"rating count\": 40, \"zip_code\": \"98072\"}, {\"user_id\": \"937\", \"age\": 38, \"rating mean\": 3.2685185185185186, \"sex\": \"F\", \"occupation\": \"technician\", \"rating count\": 108, \"zip_code\": \"55038\"}, {\"user_id\": \"938\", \"age\": 26, \"rating mean\": 4.26530612244898, \"sex\": \"F\", \"occupation\": \"student\", \"rating count\": 49, \"zip_code\": \"33319\"}, {\"user_id\": \"939\", \"age\": 32, \"rating mean\": 3.457943925233645, \"sex\": \"M\", \"occupation\": \"administrator\", \"rating count\": 107, \"zip_code\": \"02215\"}, {\"user_id\": \"94\", \"age\": 31, \"rating mean\": 3.41726618705036, \"sex\": \"M\", \"occupation\": \"administrator\", \"rating count\": 278, \"zip_code\": \"10707\"}, {\"user_id\": \"940\", \"age\": 20, \"rating mean\": 4.045454545454546, \"sex\": \"M\", \"occupation\": \"student\", \"rating count\": 22, \"zip_code\": \"97229\"}, {\"user_id\": \"941\", \"age\": 48, \"rating mean\": 4.265822784810126, \"sex\": \"F\", \"occupation\": \"librarian\", \"rating count\": 79, \"zip_code\": \"78209\"}, {\"user_id\": \"942\", \"age\": 22, \"rating mean\": 3.4107142857142856, \"sex\": \"M\", \"occupation\": \"student\", \"rating count\": 168, \"zip_code\": \"77841\"}, {\"user_id\": \"95\", \"age\": 25, \"rating mean\": 4.267857142857143, \"sex\": \"F\", \"occupation\": \"artist\", \"rating count\": 56, \"zip_code\": \"75206\"}, {\"user_id\": \"96\", \"age\": 43, \"rating mean\": 4.158730158730159, \"sex\": \"M\", \"occupation\": \"artist\", \"rating count\": 63, \"zip_code\": \"98006\"}, {\"user_id\": \"97\", \"age\": 49, \"rating mean\": 3.5925925925925926, \"sex\": \"F\", \"occupation\": \"executive\", \"rating count\": 27, \"zip_code\": \"90291\"}, {\"user_id\": \"98\", \"age\": 20, \"rating mean\": 3.551470588235294, \"sex\": \"M\", \"occupation\": \"student\", \"rating count\": 136, \"zip_code\": \"63129\"}, {\"user_id\": \"99\", \"age\": 36, \"rating mean\": 3.0677966101694913, \"sex\": \"M\", \"occupation\": \"executive\", \"rating count\": 59, \"zip_code\": \"90254\"}]}, \"config\": {\"view\": {\"width\": 400, \"height\": 300}, \"mark\": {\"tooltip\": null}}, \"hconcat\": [{\"layer\": [{\"width\": 300, \"mark\": \"bar\", \"transform\": [{\"filter\": {\"selection\": \"selector002\"}}], \"encoding\": {\"y\": {\"aggregate\": \"count\", \"type\": \"quantitative\"}, \"x\": {\"bin\": {\"maxbins\": 10}, \"field\": \"rating count\", \"type\": \"quantitative\", \"title\": \"# ratings / user\"}}}, {\"width\": 300, \"mark\": \"bar\", \"encoding\": {\"color\": {\"value\": \"lightgray\"}, \"opacity\": {\"value\": 0.7}, \"y\": {\"aggregate\": \"count\", \"type\": \"quantitative\"}, \"x\": {\"bin\": {\"maxbins\": 10}, \"field\": \"rating count\", \"type\": \"quantitative\", \"title\": \"# ratings / user\"}}}], \"resolve\": {\"scale\": {\"y\": \"independent\"}}}, {\"layer\": [{\"width\": 300, \"mark\": \"bar\", \"transform\": [{\"filter\": {\"selection\": \"selector002\"}}], \"encoding\": {\"y\": {\"aggregate\": \"count\", \"type\": \"quantitative\"}, \"x\": {\"bin\": {\"maxbins\": 10}, \"field\": \"rating mean\", \"type\": \"quantitative\", \"title\": \"mean user rating\"}}}, {\"width\": 300, \"mark\": \"bar\", \"encoding\": {\"color\": {\"value\": \"lightgray\"}, \"opacity\": {\"value\": 0.7}, \"y\": {\"aggregate\": \"count\", \"type\": \"quantitative\"}, \"x\": {\"bin\": {\"maxbins\": 10}, \"field\": \"rating mean\", \"type\": \"quantitative\", \"title\": \"mean user rating\"}}}], \"resolve\": {\"scale\": {\"y\": \"independent\"}}}, {\"height\": 300, \"mark\": \"bar\", \"selection\": {\"selector002\": {\"fields\": [\"occupation\"], \"type\": \"multi\"}}, \"width\": 300, \"encoding\": {\"color\": {\"value\": \"lightgray\", \"condition\": {\"field\": \"occupation\", \"selection\": \"selector002\", \"type\": \"nominal\", \"scale\": {\"scheme\": \"category20\"}}}, \"y\": {\"field\": \"occupation\", \"type\": \"nominal\"}, \"x\": {\"aggregate\": \"count\", \"type\": \"quantitative\"}}}]};\n",
              "      var embedOpt = {\"mode\": \"vega-lite\"};\n",
              "\n",
              "      function showError(el, error){\n",
              "          el.innerHTML = ('<div class=\"error\" style=\"color:red;\">'\n",
              "                          + '<p>JavaScript Error: ' + error.message + '</p>'\n",
              "                          + \"<p>This usually means there's a typo in your chart specification. \"\n",
              "                          + \"See the javascript console for the full traceback.</p>\"\n",
              "                          + '</div>');\n",
              "          throw error;\n",
              "      }\n",
              "      const el = document.getElementById('altair-viz');\n",
              "      vegaEmbed(\"#altair-viz\", spec, embedOpt)\n",
              "        .catch(error => showError(el, error));\n",
              "\n",
              "  </script>\n",
              "</body>\n",
              "</html>"
            ]
          },
          "metadata": {
            "tags": []
          },
          "execution_count": 22
        }
      ]
    },
    {
      "cell_type": "markdown",
      "metadata": {
        "colab_type": "text",
        "id": "pmC6wykPo4tK"
      },
      "source": [
        "### Movies\n",
        "\n",
        "It is also useful to look at information about the movies and their ratings."
      ]
    },
    {
      "cell_type": "code",
      "metadata": {
        "colab_type": "code",
        "id": "tCdPQRsso4tL",
        "colab": {}
      },
      "source": [
        "movies_ratings = movies.merge(\n",
        "    ratings\n",
        "    .groupby('movie_id', as_index=False)\n",
        "    .agg({'rating': ['count', 'mean']})\n",
        "    .flatten_cols(),\n",
        "    on='movie_id')\n",
        "\n",
        "genre_filter = alt.selection_multi(fields=['genre'])\n",
        "genre_chart = alt.Chart().mark_bar().encode(\n",
        "    x=\"count()\",\n",
        "    y=alt.Y('genre'),\n",
        "    color=alt.condition(\n",
        "        genre_filter,\n",
        "        alt.Color(\"genre:N\"),\n",
        "        alt.value('lightgray'))\n",
        ").properties(height=300, selection=genre_filter)"
      ],
      "execution_count": 0,
      "outputs": []
    },
    {
      "cell_type": "code",
      "metadata": {
        "id": "LLzCskfgTb1t",
        "colab_type": "code",
        "outputId": "5bdab687-dc33-40d3-8a0f-9544a3eb131a",
        "colab": {
          "base_uri": "https://localhost:8080/",
          "height": 84
        }
      },
      "source": [
        ""
      ],
      "execution_count": 0,
      "outputs": [
        {
          "output_type": "execute_result",
          "data": {
            "text/plain": [
              "Selection('selector003', SelectionDef({\n",
              "  fields: ['genre'],\n",
              "  type: 'multi'\n",
              "}))"
            ]
          },
          "metadata": {
            "tags": []
          },
          "execution_count": 27
        }
      ]
    },
    {
      "cell_type": "code",
      "metadata": {
        "colab_type": "code",
        "id": "NH9QQNr6o4tO",
        "outputId": "e14fe790-aec8-4210-a1d0-2781ab2b6967",
        "colab": {
          "base_uri": "https://localhost:8080/",
          "height": 343
        }
      },
      "source": [
        "(movies_ratings[['title', 'rating count', 'rating mean']]\n",
        " .sort_values('rating count', ascending=False)\n",
        " .head(10))"
      ],
      "execution_count": 0,
      "outputs": [
        {
          "output_type": "execute_result",
          "data": {
            "text/html": [
              "<div>\n",
              "<style scoped>\n",
              "    .dataframe tbody tr th:only-of-type {\n",
              "        vertical-align: middle;\n",
              "    }\n",
              "\n",
              "    .dataframe tbody tr th {\n",
              "        vertical-align: top;\n",
              "    }\n",
              "\n",
              "    .dataframe thead th {\n",
              "        text-align: right;\n",
              "    }\n",
              "</style>\n",
              "<table border=\"1\" class=\"dataframe\">\n",
              "  <thead>\n",
              "    <tr style=\"text-align: right;\">\n",
              "      <th></th>\n",
              "      <th>title</th>\n",
              "      <th>rating count</th>\n",
              "      <th>rating mean</th>\n",
              "    </tr>\n",
              "  </thead>\n",
              "  <tbody>\n",
              "    <tr>\n",
              "      <th>49</th>\n",
              "      <td>Star Wars (1977)</td>\n",
              "      <td>583</td>\n",
              "      <td>4.358</td>\n",
              "    </tr>\n",
              "    <tr>\n",
              "      <th>257</th>\n",
              "      <td>Contact (1997)</td>\n",
              "      <td>509</td>\n",
              "      <td>3.804</td>\n",
              "    </tr>\n",
              "    <tr>\n",
              "      <th>99</th>\n",
              "      <td>Fargo (1996)</td>\n",
              "      <td>508</td>\n",
              "      <td>4.156</td>\n",
              "    </tr>\n",
              "    <tr>\n",
              "      <th>180</th>\n",
              "      <td>Return of the Jedi (1983)</td>\n",
              "      <td>507</td>\n",
              "      <td>4.008</td>\n",
              "    </tr>\n",
              "    <tr>\n",
              "      <th>293</th>\n",
              "      <td>Liar Liar (1997)</td>\n",
              "      <td>485</td>\n",
              "      <td>3.157</td>\n",
              "    </tr>\n",
              "    <tr>\n",
              "      <th>285</th>\n",
              "      <td>English Patient, The (1996)</td>\n",
              "      <td>481</td>\n",
              "      <td>3.657</td>\n",
              "    </tr>\n",
              "    <tr>\n",
              "      <th>287</th>\n",
              "      <td>Scream (1996)</td>\n",
              "      <td>478</td>\n",
              "      <td>3.441</td>\n",
              "    </tr>\n",
              "    <tr>\n",
              "      <th>0</th>\n",
              "      <td>Toy Story (1995)</td>\n",
              "      <td>452</td>\n",
              "      <td>3.878</td>\n",
              "    </tr>\n",
              "    <tr>\n",
              "      <th>299</th>\n",
              "      <td>Air Force One (1997)</td>\n",
              "      <td>431</td>\n",
              "      <td>3.631</td>\n",
              "    </tr>\n",
              "    <tr>\n",
              "      <th>120</th>\n",
              "      <td>Independence Day (ID4) (1996)</td>\n",
              "      <td>429</td>\n",
              "      <td>3.438</td>\n",
              "    </tr>\n",
              "  </tbody>\n",
              "</table>\n",
              "</div>"
            ],
            "text/plain": [
              "                             title  rating count  rating mean\n",
              "49                Star Wars (1977)           583        4.358\n",
              "257                 Contact (1997)           509        3.804\n",
              "99                    Fargo (1996)           508        4.156\n",
              "180      Return of the Jedi (1983)           507        4.008\n",
              "293               Liar Liar (1997)           485        3.157\n",
              "285    English Patient, The (1996)           481        3.657\n",
              "287                  Scream (1996)           478        3.441\n",
              "0                 Toy Story (1995)           452        3.878\n",
              "299           Air Force One (1997)           431        3.631\n",
              "120  Independence Day (ID4) (1996)           429        3.438"
            ]
          },
          "metadata": {
            "tags": []
          },
          "execution_count": 28
        }
      ]
    },
    {
      "cell_type": "code",
      "metadata": {
        "colab_type": "code",
        "id": "xNb5Lz1oo4tP",
        "outputId": "ee206d16-05ab-46d8-f182-5ceba352343a",
        "colab": {
          "base_uri": "https://localhost:8080/",
          "height": 343
        }
      },
      "source": [
        "(movies_ratings[['title', 'rating count', 'rating mean']]\n",
        " .mask('rating count', lambda x: x > 20)\n",
        " .sort_values('rating mean', ascending=False)\n",
        " .head(10))"
      ],
      "execution_count": 0,
      "outputs": [
        {
          "output_type": "execute_result",
          "data": {
            "text/html": [
              "<div>\n",
              "<style scoped>\n",
              "    .dataframe tbody tr th:only-of-type {\n",
              "        vertical-align: middle;\n",
              "    }\n",
              "\n",
              "    .dataframe tbody tr th {\n",
              "        vertical-align: top;\n",
              "    }\n",
              "\n",
              "    .dataframe thead th {\n",
              "        text-align: right;\n",
              "    }\n",
              "</style>\n",
              "<table border=\"1\" class=\"dataframe\">\n",
              "  <thead>\n",
              "    <tr style=\"text-align: right;\">\n",
              "      <th></th>\n",
              "      <th>title</th>\n",
              "      <th>rating count</th>\n",
              "      <th>rating mean</th>\n",
              "    </tr>\n",
              "  </thead>\n",
              "  <tbody>\n",
              "    <tr>\n",
              "      <th>407</th>\n",
              "      <td>Close Shave, A (1995)</td>\n",
              "      <td>112</td>\n",
              "      <td>4.491</td>\n",
              "    </tr>\n",
              "    <tr>\n",
              "      <th>317</th>\n",
              "      <td>Schindler's List (1993)</td>\n",
              "      <td>298</td>\n",
              "      <td>4.466</td>\n",
              "    </tr>\n",
              "    <tr>\n",
              "      <th>168</th>\n",
              "      <td>Wrong Trousers, The (1993)</td>\n",
              "      <td>118</td>\n",
              "      <td>4.466</td>\n",
              "    </tr>\n",
              "    <tr>\n",
              "      <th>482</th>\n",
              "      <td>Casablanca (1942)</td>\n",
              "      <td>243</td>\n",
              "      <td>4.457</td>\n",
              "    </tr>\n",
              "    <tr>\n",
              "      <th>113</th>\n",
              "      <td>Wallace &amp; Gromit: The Best of Aardman Animatio...</td>\n",
              "      <td>67</td>\n",
              "      <td>4.448</td>\n",
              "    </tr>\n",
              "    <tr>\n",
              "      <th>63</th>\n",
              "      <td>Shawshank Redemption, The (1994)</td>\n",
              "      <td>283</td>\n",
              "      <td>4.445</td>\n",
              "    </tr>\n",
              "    <tr>\n",
              "      <th>602</th>\n",
              "      <td>Rear Window (1954)</td>\n",
              "      <td>209</td>\n",
              "      <td>4.388</td>\n",
              "    </tr>\n",
              "    <tr>\n",
              "      <th>11</th>\n",
              "      <td>Usual Suspects, The (1995)</td>\n",
              "      <td>267</td>\n",
              "      <td>4.386</td>\n",
              "    </tr>\n",
              "    <tr>\n",
              "      <th>49</th>\n",
              "      <td>Star Wars (1977)</td>\n",
              "      <td>583</td>\n",
              "      <td>4.358</td>\n",
              "    </tr>\n",
              "    <tr>\n",
              "      <th>177</th>\n",
              "      <td>12 Angry Men (1957)</td>\n",
              "      <td>125</td>\n",
              "      <td>4.344</td>\n",
              "    </tr>\n",
              "  </tbody>\n",
              "</table>\n",
              "</div>"
            ],
            "text/plain": [
              "                                                 title  ...  rating mean\n",
              "407                              Close Shave, A (1995)  ...        4.491\n",
              "317                            Schindler's List (1993)  ...        4.466\n",
              "168                         Wrong Trousers, The (1993)  ...        4.466\n",
              "482                                  Casablanca (1942)  ...        4.457\n",
              "113  Wallace & Gromit: The Best of Aardman Animatio...  ...        4.448\n",
              "63                    Shawshank Redemption, The (1994)  ...        4.445\n",
              "602                                 Rear Window (1954)  ...        4.388\n",
              "11                          Usual Suspects, The (1995)  ...        4.386\n",
              "49                                    Star Wars (1977)  ...        4.358\n",
              "177                                12 Angry Men (1957)  ...        4.344\n",
              "\n",
              "[10 rows x 3 columns]"
            ]
          },
          "metadata": {
            "tags": []
          },
          "execution_count": 29
        }
      ]
    },
    {
      "cell_type": "markdown",
      "metadata": {
        "colab_type": "text",
        "id": "kW_WRQyDo4tR"
      },
      "source": [
        "Finally, the last chart shows the distribution of the number of ratings and average rating."
      ]
    },
    {
      "cell_type": "code",
      "metadata": {
        "colab_type": "code",
        "id": "z8wxFfV8o4tR",
        "colab": {}
      },
      "source": [
        "# Display the number of ratings and average rating per movie.\n",
        "alt.hconcat(\n",
        "    filtered_hist('rating count', '# ratings / movie', genre_filter),\n",
        "    filtered_hist('rating mean', 'mean movie rating', genre_filter),\n",
        "    genre_chart,\n",
        "    data=movies_ratings)"
      ],
      "execution_count": 0,
      "outputs": []
    },
    {
      "cell_type": "markdown",
      "metadata": {
        "colab_type": "text",
        "id": "WEhp-q31o4tS"
      },
      "source": [
        "# II. Preliminaries\n",
        "\n",
        "Our goal is to factorize the ratings matrix $A$ into the product of a user embedding matrix $U$ and movie embedding matrix $V$, such that $A \\approx UV^\\top$ with\n",
        "$U = \\begin{bmatrix} u_{1} \\\\ \\hline \\vdots \\\\ \\hline u_{N} \\end{bmatrix}$ and\n",
        "$V = \\begin{bmatrix} v_{1} \\\\ \\hline \\vdots \\\\ \\hline v_{M} \\end{bmatrix}$.\n",
        "\n",
        "Here\n",
        "- $N$ is the number of users,\n",
        "- $M$ is the number of movies,\n",
        "- $A_{ij}$ is the rating of the $j$th movies by the $i$th user,\n",
        "- each row $U_i$ is a $d$-dimensional vector (embedding) representing user $i$,\n",
        "- each rwo $V_j$ is a $d$-dimensional vector (embedding) representing movie $j$,\n",
        "- the prediction of the model for the $(i, j)$ pair is the dot product $\\langle U_i, V_j \\rangle$.\n",
        "\n"
      ]
    },
    {
      "cell_type": "markdown",
      "metadata": {
        "colab_type": "text",
        "id": "yMYZw_Yco4tT"
      },
      "source": [
        "## Sparse Representation of the Rating Matrix\n",
        "\n",
        "The rating matrix could be very large and, in general, most of the entries are unobserved, since a given user will only rate a small subset of movies. For effcient representation, we will use a [tf.SparseTensor](https://www.tensorflow.org/api_docs/python/tf/SparseTensor). A `SparseTensor` uses three tensors to represent the matrix: `tf.SparseTensor(indices, values, dense_shape)` represents a tensor, where a value $A_{ij} = a$ is encoded by setting `indices[k] = [i, j]` and `values[k] = a`. The last tensor `dense_shape` is used to specify the shape of the full underlying matrix.\n",
        "\n",
        "#### Toy example\n",
        "Assume we have $2$ users and $4$ movies. Our toy ratings dataframe has three ratings,\n",
        "\n",
        "user\\_id | movie\\_id | rating\n",
        "--:|--:|--:\n",
        "0 | 0 | 5.0\n",
        "0 | 1 | 3.0\n",
        "1 | 3 | 1.0\n",
        "\n",
        "The corresponding rating matrix is\n",
        "\n",
        "$$\n",
        "A =\n",
        "\\begin{bmatrix}\n",
        "5.0 & 3.0 & 0 & 0 \\\\\n",
        "0   &   0 & 0 & 1.0\n",
        "\\end{bmatrix}\n",
        "$$\n",
        "\n",
        "And the SparseTensor representation is,\n",
        "```python\n",
        "SparseTensor(\n",
        "  indices=[[0, 0], [0, 1], [1,3]],\n",
        "  values=[5.0, 3.0, 1.0],\n",
        "  dense_shape=[2, 4])\n",
        "```\n",
        "\n"
      ]
    },
    {
      "cell_type": "markdown",
      "metadata": {
        "colab_type": "text",
        "id": "vBNijwXuo4tU"
      },
      "source": [
        "### Exercise 1: Build a tf.SparseTensor representation of the Rating Matrix.\n",
        "\n",
        "In this exercise, we'll write a function that maps from our `ratings` DataFrame to a `tf.SparseTensor`.\n",
        "\n",
        "Hint: you can select the values of a given column of a Dataframe `df` using `df['column_name'].values`."
      ]
    },
    {
      "cell_type": "code",
      "metadata": {
        "colab_type": "code",
        "id": "dmVu6NVpo4tU",
        "colab": {}
      },
      "source": [
        "def build_rating_sparse_tensor(ratings_df):\n",
        "  \"\"\"\n",
        "  Args:\n",
        "    ratings_df: a pd.DataFrame with `user_id`, `movie_id` and `rating` columns.\n",
        "  Returns:\n",
        "    A tf.SparseTensor representing the ratings matrix.\n",
        "  \"\"\"\n",
        "  # ========================= Complete this section ============================\n",
        "  # indices =\n",
        "  # values =\n",
        "  # ============================================================================\n",
        "\n",
        "  return tf.SparseTensor(\n",
        "      indices=indices,\n",
        "      values=values,\n",
        "      dense_shape=[users.shape[0], movies.shape[0]])"
      ],
      "execution_count": 0,
      "outputs": []
    },
    {
      "cell_type": "code",
      "metadata": {
        "id": "omOESUUDWAoi",
        "colab_type": "code",
        "outputId": "cda7c23a-abb0-4d89-aa6e-4e0b2836e277",
        "colab": {
          "base_uri": "https://localhost:8080/",
          "height": 402
        }
      },
      "source": [
        "users"
      ],
      "execution_count": 0,
      "outputs": [
        {
          "output_type": "execute_result",
          "data": {
            "text/html": [
              "<div>\n",
              "<style scoped>\n",
              "    .dataframe tbody tr th:only-of-type {\n",
              "        vertical-align: middle;\n",
              "    }\n",
              "\n",
              "    .dataframe tbody tr th {\n",
              "        vertical-align: top;\n",
              "    }\n",
              "\n",
              "    .dataframe thead th {\n",
              "        text-align: right;\n",
              "    }\n",
              "</style>\n",
              "<table border=\"1\" class=\"dataframe\">\n",
              "  <thead>\n",
              "    <tr style=\"text-align: right;\">\n",
              "      <th></th>\n",
              "      <th>user_id</th>\n",
              "      <th>age</th>\n",
              "      <th>sex</th>\n",
              "      <th>occupation</th>\n",
              "      <th>zip_code</th>\n",
              "    </tr>\n",
              "  </thead>\n",
              "  <tbody>\n",
              "    <tr>\n",
              "      <th>0</th>\n",
              "      <td>0</td>\n",
              "      <td>24</td>\n",
              "      <td>M</td>\n",
              "      <td>technician</td>\n",
              "      <td>85711</td>\n",
              "    </tr>\n",
              "    <tr>\n",
              "      <th>1</th>\n",
              "      <td>1</td>\n",
              "      <td>53</td>\n",
              "      <td>F</td>\n",
              "      <td>other</td>\n",
              "      <td>94043</td>\n",
              "    </tr>\n",
              "    <tr>\n",
              "      <th>2</th>\n",
              "      <td>2</td>\n",
              "      <td>23</td>\n",
              "      <td>M</td>\n",
              "      <td>writer</td>\n",
              "      <td>32067</td>\n",
              "    </tr>\n",
              "    <tr>\n",
              "      <th>3</th>\n",
              "      <td>3</td>\n",
              "      <td>24</td>\n",
              "      <td>M</td>\n",
              "      <td>technician</td>\n",
              "      <td>43537</td>\n",
              "    </tr>\n",
              "    <tr>\n",
              "      <th>4</th>\n",
              "      <td>4</td>\n",
              "      <td>33</td>\n",
              "      <td>F</td>\n",
              "      <td>other</td>\n",
              "      <td>15213</td>\n",
              "    </tr>\n",
              "    <tr>\n",
              "      <th>...</th>\n",
              "      <td>...</td>\n",
              "      <td>...</td>\n",
              "      <td>...</td>\n",
              "      <td>...</td>\n",
              "      <td>...</td>\n",
              "    </tr>\n",
              "    <tr>\n",
              "      <th>938</th>\n",
              "      <td>938</td>\n",
              "      <td>26</td>\n",
              "      <td>F</td>\n",
              "      <td>student</td>\n",
              "      <td>33319</td>\n",
              "    </tr>\n",
              "    <tr>\n",
              "      <th>939</th>\n",
              "      <td>939</td>\n",
              "      <td>32</td>\n",
              "      <td>M</td>\n",
              "      <td>administrator</td>\n",
              "      <td>02215</td>\n",
              "    </tr>\n",
              "    <tr>\n",
              "      <th>940</th>\n",
              "      <td>940</td>\n",
              "      <td>20</td>\n",
              "      <td>M</td>\n",
              "      <td>student</td>\n",
              "      <td>97229</td>\n",
              "    </tr>\n",
              "    <tr>\n",
              "      <th>941</th>\n",
              "      <td>941</td>\n",
              "      <td>48</td>\n",
              "      <td>F</td>\n",
              "      <td>librarian</td>\n",
              "      <td>78209</td>\n",
              "    </tr>\n",
              "    <tr>\n",
              "      <th>942</th>\n",
              "      <td>942</td>\n",
              "      <td>22</td>\n",
              "      <td>M</td>\n",
              "      <td>student</td>\n",
              "      <td>77841</td>\n",
              "    </tr>\n",
              "  </tbody>\n",
              "</table>\n",
              "<p>943 rows × 5 columns</p>\n",
              "</div>"
            ],
            "text/plain": [
              "    user_id  age sex     occupation zip_code\n",
              "0         0   24   M     technician    85711\n",
              "1         1   53   F          other    94043\n",
              "2         2   23   M         writer    32067\n",
              "3         3   24   M     technician    43537\n",
              "4         4   33   F          other    15213\n",
              "..      ...  ...  ..            ...      ...\n",
              "938     938   26   F        student    33319\n",
              "939     939   32   M  administrator    02215\n",
              "940     940   20   M        student    97229\n",
              "941     941   48   F      librarian    78209\n",
              "942     942   22   M        student    77841\n",
              "\n",
              "[943 rows x 5 columns]"
            ]
          },
          "metadata": {
            "tags": []
          },
          "execution_count": 35
        }
      ]
    },
    {
      "cell_type": "code",
      "metadata": {
        "colab_type": "code",
        "cellView": "both",
        "id": "lwgUGTSmo4tW",
        "colab": {}
      },
      "source": [
        "#@title Solution\n",
        "def build_rating_sparse_tensor(ratings_df):\n",
        "  \"\"\"\n",
        "  Args:\n",
        "    ratings_df: a pd.DataFrame with `user_id`, `movie_id` and `rating` columns.\n",
        "  Returns:\n",
        "    a tf.SparseTensor representing the ratings matrix.\n",
        "  \"\"\"\n",
        "  indices = ratings_df[['user_id', 'movie_id']].values\n",
        "  values = ratings_df['rating'].values\n",
        "  return tf.SparseTensor(\n",
        "      indices=indices,\n",
        "      values=values,\n",
        "      dense_shape=[users.shape[0], movies.shape[0]])"
      ],
      "execution_count": 0,
      "outputs": []
    },
    {
      "cell_type": "markdown",
      "metadata": {
        "colab_type": "text",
        "id": "8k9CSOH5o4tX"
      },
      "source": [
        "## Calculating the error\n",
        "\n",
        "The model approximates the ratings matrix $A$ by a low-rank product $UV^\\top$. We need a way to measure the approximation error. We'll start by using the Mean Squared Error of observed entries only (we will revisit this later). It is defined as\n",
        "\n",
        "$$\n",
        "\\begin{align*}\n",
        "\\text{MSE}(A, UV^\\top)\n",
        "&= \\frac{1}{|\\Omega|}\\sum_{(i, j) \\in\\Omega}{( A_{ij} - (UV^\\top)_{ij})^2} \\\\\n",
        "&= \\frac{1}{|\\Omega|}\\sum_{(i, j) \\in\\Omega}{( A_{ij} - \\langle U_i, V_j\\rangle)^2}\n",
        "\\end{align*}\n",
        "$$\n",
        "where $\\Omega$ is the set of observed ratings, and $|\\Omega|$ is the cardinality of $\\Omega$.\n",
        "\n"
      ]
    },
    {
      "cell_type": "markdown",
      "metadata": {
        "colab_type": "text",
        "id": "KI1Ft-I7o4tX"
      },
      "source": [
        "### Exercise 2: Mean Squared Error\n",
        "\n",
        "Write a TensorFlow function that takes a sparse rating matrix $A$ and the two embedding matrices $U, V$ and returns the mean squared error $\\text{MSE}(A, UV^\\top)$.\n",
        "\n",
        "Hints:\n",
        "  * in this section, we only consider observed entries when calculating the loss.\n",
        "  * a `SparseTensor` `sp_x` is a tuple of three Tensors: `sp_x.indices`, `sp_x.values` and `sp_x.dense_shape`.\n",
        "  * you may find [`tf.gather_nd`](https://www.tensorflow.org/api_docs/python/tf/gather_nd) and  [`tf.losses.mean_squared_error`](https://www.tensorflow.org/api_docs/python/tf/losses/mean_squared_error) helpful."
      ]
    },
    {
      "cell_type": "code",
      "metadata": {
        "colab_type": "code",
        "id": "9GhqKwpQo4tZ",
        "colab": {}
      },
      "source": [
        "def sparse_mean_square_error(sparse_ratings, user_embeddings, movie_embeddings):\n",
        "  \"\"\"\n",
        "  Args:\n",
        "    sparse_ratings: A SparseTensor rating matrix, of dense_shape [N, M]\n",
        "    user_embeddings: A dense Tensor U of shape [N, k] where k is the embedding\n",
        "      dimension, such that U_i is the embedding of user i.\n",
        "    movie_embeddings: A dense Tensor V of shape [M, k] where k is the embedding\n",
        "      dimension, such that V_j is the embedding of movie j.\n",
        "  Returns:\n",
        "    A scalar Tensor representing the MSE between the true ratings and the\n",
        "      model's predictions.\n",
        "  \"\"\"\n",
        "  # ========================= Complete this section ============================\n",
        "  # loss =\n",
        "  # ============================================================================\n",
        "  return loss"
      ],
      "execution_count": 0,
      "outputs": []
    },
    {
      "cell_type": "code",
      "metadata": {
        "colab_type": "code",
        "cellView": "both",
        "id": "p43zJDN7o4ta",
        "colab": {}
      },
      "source": [
        "#@title Solution\n",
        "def sparse_mean_square_error(sparse_ratings, user_embeddings, movie_embeddings):\n",
        "  \"\"\"\n",
        "  Args:\n",
        "    sparse_ratings: A SparseTensor rating matrix, of dense_shape [N, M]\n",
        "    user_embeddings: A dense Tensor U of shape [N, k] where k is the embedding\n",
        "      dimension, such that U_i is the embedding of user i.\n",
        "    movie_embeddings: A dense Tensor V of shape [M, k] where k is the embedding\n",
        "      dimension, such that V_j is the embedding of movie j.\n",
        "  Returns:\n",
        "    A scalar Tensor representing the MSE between the true ratings and the\n",
        "      model's predictions.\n",
        "  \"\"\"\n",
        "  predictions = tf.gather_nd(\n",
        "      tf.matmul(user_embeddings, movie_embeddings, transpose_b=True),\n",
        "      sparse_ratings.indices)\n",
        "  loss = tf.losses.mean_squared_error(sparse_ratings.values, predictions)\n",
        "  return loss"
      ],
      "execution_count": 0,
      "outputs": []
    },
    {
      "cell_type": "markdown",
      "metadata": {
        "colab_type": "text",
        "id": "IrteGTFgo4td"
      },
      "source": [
        "Note: One approach is to compute the full prediction matrix $UV^\\top$, then gather the entries corresponding to the observed pairs. The memory cost of this approach is $O(NM)$. For the MovieLens dataset, this is fine, as the dense $N \\times M$ matrix is small enough to fit in memory ($N = 943$, $M = 1682$).\n",
        "\n",
        "Another approach (given in the alternate solution below) is to only gather the embeddings of the observed pairs, then compute their dot products. The memory cost is $O(|\\Omega| d)$ where $d$ is the embedding dimension. In our case, $|\\Omega| = 10^5$, and the embedding dimension is on the order of $10$, so the memory cost of both methods is comparable. But when the number of users or movies is much larger, the first approach becomes infeasible."
      ]
    },
    {
      "cell_type": "code",
      "metadata": {
        "id": "6Z0m3dL88Uxd",
        "colab_type": "code",
        "cellView": "both",
        "colab": {}
      },
      "source": [
        "#@title Alternate Solution\n",
        "def sparse_mean_square_error(sparse_ratings, user_embeddings, movie_embeddings):\n",
        "  \"\"\"\n",
        "  Args:\n",
        "    sparse_ratings: A SparseTensor rating matrix, of dense_shape [N, M]\n",
        "    user_embeddings: A dense Tensor U of shape [N, k] where k is the embedding\n",
        "      dimension, such that U_i is the embedding of user i.\n",
        "    movie_embeddings: A dense Tensor V of shape [M, k] where k is the embedding\n",
        "      dimension, such that V_j is the embedding of movie j.\n",
        "  Returns:\n",
        "    A scalar Tensor representing the MSE between the true ratings and the\n",
        "      model's predictions.\n",
        "  \"\"\"\n",
        "  predictions = tf.reduce_sum(\n",
        "      tf.gather(user_embeddings, sparse_ratings.indices[:, 0]) *\n",
        "      tf.gather(movie_embeddings, sparse_ratings.indices[:, 1]),\n",
        "      axis=1)\n",
        "  loss = tf.losses.mean_squared_error(sparse_ratings.values, predictions)\n",
        "  return loss"
      ],
      "execution_count": 0,
      "outputs": []
    },
    {
      "cell_type": "markdown",
      "metadata": {
        "colab_type": "text",
        "id": "X0X56mAlo4tf"
      },
      "source": [
        "### Exercise 3 (Optional): adding your own ratings to the data set"
      ]
    },
    {
      "cell_type": "markdown",
      "metadata": {
        "colab_type": "text",
        "id": "o8VazvWLo4tf"
      },
      "source": [
        "You have the option to add your own ratings to the data set. If you choose to do so, you will be able to see recommendations for yourself.\n",
        "\n",
        "Start by checking the box below. Running the next cell will authenticate you to your google Drive account, and create a spreadsheet, that contains all movie titles in column 'A'. Follow the link to the spreadsheet and take 3 minutes to rate some of the movies. Your ratings should be entered in column 'B'."
      ]
    },
    {
      "cell_type": "code",
      "metadata": {
        "colab_type": "code",
        "cellView": "form",
        "id": "ILiSj-x6o4tf",
        "colab": {}
      },
      "source": [
        "USER_RATINGS = False #@param {type:\"boolean\"}"
      ],
      "execution_count": 0,
      "outputs": []
    },
    {
      "cell_type": "code",
      "metadata": {
        "colab_type": "code",
        "cellView": "both",
        "id": "TOVDyYHgo4th",
        "colab": {}
      },
      "source": [
        "# @title Run to create a spreadsheet, then use it to enter your ratings.\n",
        "# Authenticate user.\n",
        "if USER_RATINGS:\n",
        "  auth.authenticate_user()\n",
        "  gc = gspread.authorize(GoogleCredentials.get_application_default())\n",
        "  # Create the spreadsheet and print a link to it.\n",
        "  try:\n",
        "    sh = gc.open('MovieLens-test')\n",
        "  except(gspread.SpreadsheetNotFound):\n",
        "    sh = gc.create('MovieLens-test')\n",
        "\n",
        "  worksheet = sh.sheet1\n",
        "  titles = movies['title'].values\n",
        "  cell_list = worksheet.range(1, 1, len(titles), 1)\n",
        "  for cell, title in zip(cell_list, titles):\n",
        "    cell.value = title\n",
        "  worksheet.update_cells(cell_list)\n",
        "  print(\"Link to the spreadsheet: \"\n",
        "        \"https://docs.google.com/spreadsheets/d/{}/edit\".format(sh.id))"
      ],
      "execution_count": 0,
      "outputs": []
    },
    {
      "cell_type": "markdown",
      "metadata": {
        "colab_type": "text",
        "id": "WDj7GoEPo4ti"
      },
      "source": [
        "Run the next  cell to load your ratings and add them to the main `ratings` DataFrame."
      ]
    },
    {
      "cell_type": "code",
      "metadata": {
        "colab_type": "code",
        "cellView": "both",
        "id": "Ubuf5ba3o4ti",
        "colab": {}
      },
      "source": [
        "# @title Run to load your ratings.\n",
        "# Load the ratings from the spreadsheet and create a DataFrame.\n",
        "if USER_RATINGS:\n",
        "  my_ratings = pd.DataFrame.from_records(worksheet.get_all_values()).reset_index()\n",
        "  my_ratings = my_ratings[my_ratings[1] != '']\n",
        "  my_ratings = pd.DataFrame({\n",
        "      'user_id': \"943\",\n",
        "      'movie_id': map(str, my_ratings['index']),\n",
        "      'rating': map(float, my_ratings[1]),\n",
        "  })\n",
        "  # Remove previous ratings.\n",
        "  ratings = ratings[ratings.user_id != \"943\"]\n",
        "  # Add new ratings.\n",
        "  ratings = ratings.append(my_ratings, ignore_index=True)\n",
        "  # Add new user to the users DataFrame.\n",
        "  if users.shape[0] == 943:\n",
        "    users = users.append(users.iloc[942], ignore_index=True)\n",
        "    users[\"user_id\"][943] = \"943\"\n",
        "  print(\"Added your %d ratings; you have great taste!\" % len(my_ratings))\n",
        "  ratings[ratings.user_id==\"943\"].merge(movies[['movie_id', 'title']])"
      ],
      "execution_count": 0,
      "outputs": []
    },
    {
      "cell_type": "markdown",
      "metadata": {
        "colab_type": "text",
        "id": "eSfW6SwIo4tk"
      },
      "source": [
        "# III. Training a Matrix Factorization model\n",
        "\n",
        "## CFModel (Collaborative Filtering Model) helper class\n",
        "This is a simple class to train a matrix factorization model using stochastic gradient descent.\n",
        "\n",
        "The class constructor takes\n",
        "- the user embeddings U (a `tf.Variable`).\n",
        "- the movie embeddings V, (a `tf.Variable`).\n",
        "- a loss to optimize (a `tf.Tensor`).\n",
        "- an optional list of metrics dictionaries, each mapping a string (the name of the metric) to a tensor. These are evaluated and plotted during training (e.g. training error and test error).\n",
        "\n",
        "After training, one can access the trained embeddings using the `model.embeddings` dictionary.\n",
        "\n",
        "Example usage:\n",
        "```\n",
        "U_var = ...\n",
        "V_var = ...\n",
        "loss = ...\n",
        "model = CFModel(U_var, V_var, loss)\n",
        "model.train(iterations=100, learning_rate=1.0)\n",
        "user_embeddings = model.embeddings['user_id']\n",
        "movie_embeddings = model.embeddings['movie_id']\n",
        "```\n"
      ]
    },
    {
      "cell_type": "code",
      "metadata": {
        "colab_type": "code",
        "cellView": "both",
        "id": "6NHoOwido4tk",
        "colab": {}
      },
      "source": [
        "# @title CFModel helper class (run this cell)\n",
        "class CFModel(object):\n",
        "  \"\"\"Simple class that represents a collaborative filtering model\"\"\"\n",
        "  def __init__(self, embedding_vars, loss, metrics=None):\n",
        "    \"\"\"Initializes a CFModel.\n",
        "    Args:\n",
        "      embedding_vars: A dictionary of tf.Variables.\n",
        "      loss: A float Tensor. The loss to optimize.\n",
        "      metrics: optional list of dictionaries of Tensors. The metrics in each\n",
        "        dictionary will be plotted in a separate figure during training.\n",
        "    \"\"\"\n",
        "    self._embedding_vars = embedding_vars\n",
        "    self._loss = loss\n",
        "    self._metrics = metrics\n",
        "    self._embeddings = {k: None for k in embedding_vars}\n",
        "    self._session = None\n",
        "\n",
        "  @property\n",
        "  def embeddings(self):\n",
        "    \"\"\"The embeddings dictionary.\"\"\"\n",
        "    return self._embeddings\n",
        "\n",
        "  def train(self, num_iterations=100, learning_rate=1.0, plot_results=True,\n",
        "            optimizer=tf.train.GradientDescentOptimizer):\n",
        "    \"\"\"Trains the model.\n",
        "    Args:\n",
        "      iterations: number of iterations to run.\n",
        "      learning_rate: optimizer learning rate.\n",
        "      plot_results: whether to plot the results at the end of training.\n",
        "      optimizer: the optimizer to use. Default to GradientDescentOptimizer.\n",
        "    Returns:\n",
        "      The metrics dictionary evaluated at the last iteration.\n",
        "    \"\"\"\n",
        "    with self._loss.graph.as_default():\n",
        "      opt = optimizer(learning_rate)\n",
        "      train_op = opt.minimize(self._loss)\n",
        "      local_init_op = tf.group(\n",
        "          tf.variables_initializer(opt.variables()),\n",
        "          tf.local_variables_initializer())\n",
        "      if self._session is None:\n",
        "        self._session = tf.Session()\n",
        "        with self._session.as_default():\n",
        "          self._session.run(tf.global_variables_initializer())\n",
        "          self._session.run(tf.tables_initializer())\n",
        "          tf.train.start_queue_runners()\n",
        "\n",
        "    with self._session.as_default():\n",
        "      local_init_op.run()\n",
        "      iterations = []\n",
        "      metrics = self._metrics or ({},)\n",
        "      metrics_vals = [collections.defaultdict(list) for _ in self._metrics]\n",
        "\n",
        "      # Train and append results.\n",
        "      for i in range(num_iterations + 1):\n",
        "        _, results = self._session.run((train_op, metrics))\n",
        "        if (i % 10 == 0) or i == num_iterations:\n",
        "          print(\"\\r iteration %d: \" % i + \", \".join(\n",
        "                [\"%s=%f\" % (k, v) for r in results for k, v in r.items()]),\n",
        "                end='')\n",
        "          iterations.append(i)\n",
        "          for metric_val, result in zip(metrics_vals, results):\n",
        "            for k, v in result.items():\n",
        "              metric_val[k].append(v)\n",
        "\n",
        "      for k, v in self._embedding_vars.items():\n",
        "        self._embeddings[k] = v.eval()\n",
        "\n",
        "      if plot_results:\n",
        "        # Plot the metrics.\n",
        "        num_subplots = len(metrics)+1\n",
        "        fig = plt.figure()\n",
        "        fig.set_size_inches(num_subplots*10, 8)\n",
        "        for i, metric_vals in enumerate(metrics_vals):\n",
        "          ax = fig.add_subplot(1, num_subplots, i+1)\n",
        "          for k, v in metric_vals.items():\n",
        "            ax.plot(iterations, v, label=k)\n",
        "          ax.set_xlim([1, num_iterations])\n",
        "          ax.legend()\n",
        "      return results"
      ],
      "execution_count": 0,
      "outputs": []
    },
    {
      "cell_type": "markdown",
      "metadata": {
        "colab_type": "text",
        "id": "bKis0EyHo4tn"
      },
      "source": [
        "### Exercise 4: Build a Matrix Factorization model and train it\n",
        "\n",
        "Using your `sparse_mean_square_error` function, write a function that builds a `CFModel` by creating the embedding variables and the train and test losses."
      ]
    },
    {
      "cell_type": "code",
      "metadata": {
        "colab_type": "code",
        "id": "XzaABsnno4tn",
        "colab": {}
      },
      "source": [
        "def build_model(ratings, embedding_dim=3, init_stddev=1.):\n",
        "  \"\"\"\n",
        "  Args:\n",
        "    ratings: a DataFrame of the ratings\n",
        "    embedding_dim: the dimension of the embedding vectors.\n",
        "    init_stddev: float, the standard deviation of the random initial embeddings.\n",
        "  Returns:\n",
        "    model: a CFModel.\n",
        "  \"\"\"\n",
        "  # Split the ratings DataFrame into train and test.\n",
        "  train_ratings, test_ratings = split_dataframe(ratings)\n",
        "  # SparseTensor representation of the train and test datasets.\n",
        "  # ========================= Complete this section ============================\n",
        "  # A_train =\n",
        "  # A_test =\n",
        "  # ============================================================================\n",
        "  # Initialize the embeddings using a normal distribution.\n",
        "  U = tf.Variable(tf.random_normal(\n",
        "      [A_train.dense_shape[0], embedding_dim], stddev=init_stddev))\n",
        "  V = tf.Variable(tf.random_normal(\n",
        "      [A_train.dense_shape[1], embedding_dim], stddev=init_stddev))\n",
        "  # ========================= Complete this section ============================\n",
        "  # train_loss =\n",
        "  # test_loss =\n",
        "  # ============================================================================\n",
        "  metrics = {\n",
        "      'train_error': train_loss,\n",
        "      'test_error': test_loss\n",
        "  }\n",
        "  embeddings = {\n",
        "      \"user_id\": U,\n",
        "      \"movie_id\": V\n",
        "  }\n",
        "  return CFModel(embeddings, train_loss, [metrics])"
      ],
      "execution_count": 0,
      "outputs": []
    },
    {
      "cell_type": "code",
      "metadata": {
        "colab_type": "code",
        "cellView": "both",
        "id": "M9RxIX_Oo4tp",
        "colab": {}
      },
      "source": [
        "#@title Solution\n",
        "def build_model(ratings, embedding_dim=3, init_stddev=1.):\n",
        "  \"\"\"\n",
        "  Args:\n",
        "    ratings: a DataFrame of the ratings\n",
        "    embedding_dim: the dimension of the embedding vectors.\n",
        "    init_stddev: float, the standard deviation of the random initial embeddings.\n",
        "  Returns:\n",
        "    model: a CFModel.\n",
        "  \"\"\"\n",
        "  # Split the ratings DataFrame into train and test.\n",
        "  train_ratings, test_ratings = split_dataframe(ratings)\n",
        "  # SparseTensor representation of the train and test datasets.\n",
        "  A_train = build_rating_sparse_tensor(train_ratings)\n",
        "  A_test = build_rating_sparse_tensor(test_ratings)\n",
        "  # Initialize the embeddings using a normal distribution.\n",
        "  U = tf.Variable(tf.random_normal(\n",
        "      [A_train.dense_shape[0], embedding_dim], stddev=init_stddev))\n",
        "  V = tf.Variable(tf.random_normal(\n",
        "      [A_train.dense_shape[1], embedding_dim], stddev=init_stddev))\n",
        "  train_loss = sparse_mean_square_error(A_train, U, V)\n",
        "  test_loss = sparse_mean_square_error(A_test, U, V)\n",
        "  metrics = {\n",
        "      'train_error': train_loss,\n",
        "      'test_error': test_loss\n",
        "  }\n",
        "  embeddings = {\n",
        "      \"user_id\": U,\n",
        "      \"movie_id\": V\n",
        "  }\n",
        "  return CFModel(embeddings, train_loss, [metrics])"
      ],
      "execution_count": 0,
      "outputs": []
    },
    {
      "cell_type": "markdown",
      "metadata": {
        "colab_type": "text",
        "id": "mHMTVERDo4ts"
      },
      "source": [
        "Great, now it's time to train the model!\n",
        "\n",
        "Go ahead and run the next cell, trying different parameters (embedding dimension, learning rate, iterations). The training and test errors are plotted at the end of training. You can inspect these values to validate the hyper-parameters.\n",
        "\n",
        "Note: by calling `model.train` again, the model will continue training starting from the current values of the embeddings."
      ]
    },
    {
      "cell_type": "code",
      "metadata": {
        "colab_type": "code",
        "id": "_BlRIQJYo4tt",
        "colab": {}
      },
      "source": [
        "# Build the CF model and train it.\n",
        "model = build_model(ratings, embedding_dim=30, init_stddev=0.5)\n",
        "model.train(num_iterations=1000, learning_rate=10.)"
      ],
      "execution_count": 0,
      "outputs": []
    },
    {
      "cell_type": "markdown",
      "metadata": {
        "colab_type": "text",
        "id": "-RWinHdno4tu"
      },
      "source": [
        "The movie and user embeddings are also displayed in the right figure. When the embedding dimension is greater than 3, the embeddings are projected on the first 3 dimensions. The next section will have a more detailed look at the embeddings."
      ]
    },
    {
      "cell_type": "markdown",
      "metadata": {
        "colab_type": "text",
        "id": "IO1r1A5Xo4tu"
      },
      "source": [
        "# IV. Inspecting the Embeddings\n",
        "\n",
        "In this section, we take a closer look at the learned embeddings, by\n",
        "- computing your recommendations\n",
        "- looking at the nearest neighbors of some movies,\n",
        "- looking at the norms of the movie embeddings,\n",
        "- visualizing the embedding in a projected embedding space."
      ]
    },
    {
      "cell_type": "markdown",
      "metadata": {
        "colab_type": "text",
        "id": "8Z3q8xZVo4tw"
      },
      "source": [
        "### Exercise 5: Write a function that computes the scores of the candidates\n",
        "We start by writing a function that, given a query embedding $u \\in \\mathbb R^d$ and item embeddings $V \\in \\mathbb R^{N \\times d}$, computes the item scores.\n",
        "\n",
        "As discussed in the lecture, there are different similarity measures we can use, and these can yield different results. We will compare the following:\n",
        "- dot product: the score of item j is $\\langle u, V_j \\rangle$.\n",
        "- cosine: the score of item j is $\\frac{\\langle u, V_j \\rangle}{\\|u\\|\\|V_j\\|}$.\n",
        "\n",
        "Hints:\n",
        "- you can use [`np.dot`](https://docs.scipy.org/doc/numpy/reference/generated/numpy.dot.html) to compute the product of two np.Arrays.\n",
        "- you can use [`np.linalg.norm`](https://docs.scipy.org/doc/numpy-1.14.0/reference/generated/numpy.linalg.norm.html) to compute the norm of a np.Array."
      ]
    },
    {
      "cell_type": "code",
      "metadata": {
        "colab_type": "code",
        "id": "lBnrZUspo4tx",
        "colab": {}
      },
      "source": [
        "DOT = 'dot'\n",
        "COSINE = 'cosine'\n",
        "def compute_scores(query_embedding, item_embeddings, measure=DOT):\n",
        "  \"\"\"Computes the scores of the candidates given a query.\n",
        "  Args:\n",
        "    query_embedding: a vector of shape [k], representing the query embedding.\n",
        "    item_embeddings: a matrix of shape [N, k], such that row i is the embedding\n",
        "      of item i.\n",
        "    measure: a string specifying the similarity measure to be used. Can be\n",
        "      either DOT or COSINE.\n",
        "  Returns:\n",
        "    scores: a vector of shape [N], such that scores[i] is the score of item i.\n",
        "  \"\"\"\n",
        "  # ========================= Complete this section ============================\n",
        "  # scores =\n",
        "  # ============================================================================\n",
        "  return scores"
      ],
      "execution_count": 0,
      "outputs": []
    },
    {
      "cell_type": "code",
      "metadata": {
        "colab_type": "code",
        "cellView": "form",
        "id": "PqDjkdlFo4t0",
        "colab": {}
      },
      "source": [
        "#@title Solution\n",
        "DOT = 'dot'\n",
        "COSINE = 'cosine'\n",
        "def compute_scores(query_embedding, item_embeddings, measure=DOT):\n",
        "  \"\"\"Computes the scores of the candidates given a query.\n",
        "  Args:\n",
        "    query_embedding: a vector of shape [k], representing the query embedding.\n",
        "    item_embeddings: a matrix of shape [N, k], such that row i is the embedding\n",
        "      of item i.\n",
        "    measure: a string specifying the similarity measure to be used. Can be\n",
        "      either DOT or COSINE.\n",
        "  Returns:\n",
        "    scores: a vector of shape [N], such that scores[i] is the score of item i.\n",
        "  \"\"\"\n",
        "  u = query_embedding\n",
        "  V = item_embeddings\n",
        "  if measure == COSINE:\n",
        "    V = V / np.linalg.norm(V, axis=1, keepdims=True)\n",
        "    u = u / np.linalg.norm(u)\n",
        "  scores = u.dot(V.T)\n",
        "  return scores"
      ],
      "execution_count": 0,
      "outputs": []
    },
    {
      "cell_type": "markdown",
      "metadata": {
        "colab_type": "text",
        "id": "EDpSY1REo4t1"
      },
      "source": [
        "Equipped with this function, we can compute recommendations, where the query embedding can be either a user embedding or a movie embedding."
      ]
    },
    {
      "cell_type": "code",
      "metadata": {
        "colab_type": "code",
        "cellView": "both",
        "id": "6dSF9U1fo4t2",
        "colab": {}
      },
      "source": [
        "# @title User recommendations and nearest neighbors (run this cell)\n",
        "def user_recommendations(model, measure=DOT, exclude_rated=False, k=6):\n",
        "  if USER_RATINGS:\n",
        "    scores = compute_scores(\n",
        "        model.embeddings[\"user_id\"][943], model.embeddings[\"movie_id\"], measure)\n",
        "    score_key = measure + ' score'\n",
        "    df = pd.DataFrame({\n",
        "        score_key: list(scores),\n",
        "        'movie_id': movies['movie_id'],\n",
        "        'titles': movies['title'],\n",
        "        'genres': movies['all_genres'],\n",
        "    })\n",
        "    if exclude_rated:\n",
        "      # remove movies that are already rated\n",
        "      rated_movies = ratings[ratings.user_id == \"943\"][\"movie_id\"].values\n",
        "      df = df[df.movie_id.apply(lambda movie_id: movie_id not in rated_movies)]\n",
        "    display.display(df.sort_values([score_key], ascending=False).head(k))  \n",
        "\n",
        "def movie_neighbors(model, title_substring, measure=DOT, k=6):\n",
        "  # Search for movie ids that match the given substring.\n",
        "  ids =  movies[movies['title'].str.contains(title_substring)].index.values\n",
        "  titles = movies.iloc[ids]['title'].values\n",
        "  if len(titles) == 0:\n",
        "    raise ValueError(\"Found no movies with title %s\" % title_substring)\n",
        "  print(\"Nearest neighbors of : %s.\" % titles[0])\n",
        "  if len(titles) > 1:\n",
        "    print(\"[Found more than one matching movie. Other candidates: {}]\".format(\n",
        "        \", \".join(titles[1:])))\n",
        "  movie_id = ids[0]\n",
        "  scores = compute_scores(\n",
        "      model.embeddings[\"movie_id\"][movie_id], model.embeddings[\"movie_id\"],\n",
        "      measure)\n",
        "  score_key = measure + ' score'\n",
        "  df = pd.DataFrame({\n",
        "      score_key: list(scores),\n",
        "      'titles': movies['title'],\n",
        "      'genres': movies['all_genres']\n",
        "  })\n",
        "  display.display(df.sort_values([score_key], ascending=False).head(k))"
      ],
      "execution_count": 0,
      "outputs": []
    },
    {
      "cell_type": "markdown",
      "metadata": {
        "colab_type": "text",
        "id": "iOwtUnJzo4t3"
      },
      "source": [
        "### Your recommendations\n",
        "\n",
        "If you chose to input your recommendations, you can run the next cell to generate recommendations for you."
      ]
    },
    {
      "cell_type": "code",
      "metadata": {
        "colab_type": "code",
        "id": "efvKEUOPo4t4",
        "colab": {}
      },
      "source": [
        "user_recommendations(model, measure=COSINE, k=5)"
      ],
      "execution_count": 0,
      "outputs": []
    },
    {
      "cell_type": "markdown",
      "metadata": {
        "colab_type": "text",
        "id": "msMJzGF3o4t6"
      },
      "source": [
        "How do the recommendations look?"
      ]
    },
    {
      "cell_type": "markdown",
      "metadata": {
        "colab_type": "text",
        "id": "fFaiyCtgo4t6"
      },
      "source": [
        "### Movie Nearest neighbors\n",
        "\n",
        "Let's look at the neareast neighbors for some of the movies."
      ]
    },
    {
      "cell_type": "code",
      "metadata": {
        "colab_type": "code",
        "id": "ejJHfA-so4t8",
        "colab": {}
      },
      "source": [
        "movie_neighbors(model, \"Aladdin\", DOT)\n",
        "movie_neighbors(model, \"Aladdin\", COSINE)"
      ],
      "execution_count": 0,
      "outputs": []
    },
    {
      "cell_type": "markdown",
      "metadata": {
        "colab_type": "text",
        "id": "JD3X1ua8o4uA"
      },
      "source": [
        "It seems that the quality of learned embeddings may not be very good. This will be addressed in Section V by adding several regularization techniques. First, we will further inspect the embeddings."
      ]
    },
    {
      "cell_type": "markdown",
      "metadata": {
        "colab_type": "text",
        "id": "SOxdxqpKo4uB"
      },
      "source": [
        "## Movie Embedding Norm\n",
        "\n",
        "We can also observe that the recommendations with dot-product and cosine are different: with dot-product, the model tends to recommend popular movies. This can be explained by the fact that in matrix factorization models, the norm of the embedding is often correlated with popularity (popular movies have a larger norm), which makes it more likely to recommend more popular items. We can confirm this hypothesis by sorting the movies by their embedding norm, as done in the next cell."
      ]
    },
    {
      "cell_type": "code",
      "metadata": {
        "id": "G_Kko-YxF6YE",
        "colab_type": "code",
        "cellView": "form",
        "colab": {}
      },
      "source": [
        "# @title Embedding Visualization code (run this cell)\n",
        "\n",
        "def movie_embedding_norm(models):\n",
        "  \"\"\"Visualizes the norm and number of ratings of the movie embeddings.\n",
        "  Args:\n",
        "    model: A MFModel object.\n",
        "  \"\"\"\n",
        "  if not isinstance(models, list):\n",
        "    models = [models]\n",
        "  df = pd.DataFrame({\n",
        "      'title': movies['title'],\n",
        "      'genre': movies['genre'],\n",
        "      'num_ratings': movies_ratings['rating count'],\n",
        "  })\n",
        "  charts = []\n",
        "  brush = alt.selection_interval()\n",
        "  for i, model in enumerate(models):\n",
        "    norm_key = 'norm'+str(i)\n",
        "    df[norm_key] = np.linalg.norm(model.embeddings[\"movie_id\"], axis=1)\n",
        "    nearest = alt.selection(\n",
        "        type='single', encodings=['x', 'y'], on='mouseover', nearest=True,\n",
        "        empty='none')\n",
        "    base = alt.Chart().mark_circle().encode(\n",
        "        x='num_ratings',\n",
        "        y=norm_key,\n",
        "        color=alt.condition(brush, alt.value('#4c78a8'), alt.value('lightgray'))\n",
        "    ).properties(\n",
        "        selection=nearest).add_selection(brush)\n",
        "    text = alt.Chart().mark_text(align='center', dx=5, dy=-5).encode(\n",
        "        x='num_ratings', y=norm_key,\n",
        "        text=alt.condition(nearest, 'title', alt.value('')))\n",
        "    charts.append(alt.layer(base, text))\n",
        "  return alt.hconcat(*charts, data=df)\n",
        "\n",
        "def visualize_movie_embeddings(data, x, y):\n",
        "  nearest = alt.selection(\n",
        "      type='single', encodings=['x', 'y'], on='mouseover', nearest=True,\n",
        "      empty='none')\n",
        "  base = alt.Chart().mark_circle().encode(\n",
        "      x=x,\n",
        "      y=y,\n",
        "      color=alt.condition(genre_filter, \"genre\", alt.value(\"whitesmoke\")),\n",
        "  ).properties(\n",
        "      width=600,\n",
        "      height=600,\n",
        "      selection=nearest)\n",
        "  text = alt.Chart().mark_text(align='left', dx=5, dy=-5).encode(\n",
        "      x=x,\n",
        "      y=y,\n",
        "      text=alt.condition(nearest, 'title', alt.value('')))\n",
        "  return alt.hconcat(alt.layer(base, text), genre_chart, data=data)\n",
        "\n",
        "def tsne_movie_embeddings(model):\n",
        "  \"\"\"Visualizes the movie embeddings, projected using t-SNE with Cosine measure.\n",
        "  Args:\n",
        "    model: A MFModel object.\n",
        "  \"\"\"\n",
        "  tsne = sklearn.manifold.TSNE(\n",
        "      n_components=2, perplexity=40, metric='cosine', early_exaggeration=10.0,\n",
        "      init='pca', verbose=True, n_iter=400)\n",
        "\n",
        "  print('Running t-SNE...')\n",
        "  V_proj = tsne.fit_transform(model.embeddings[\"movie_id\"])\n",
        "  movies.loc[:,'x'] = V_proj[:, 0]\n",
        "  movies.loc[:,'y'] = V_proj[:, 1]\n",
        "  return visualize_movie_embeddings(movies, 'x', 'y')"
      ],
      "execution_count": 0,
      "outputs": []
    },
    {
      "cell_type": "code",
      "metadata": {
        "colab_type": "code",
        "id": "SXP_eW-Xo4uD",
        "colab": {}
      },
      "source": [
        "movie_embedding_norm(model)"
      ],
      "execution_count": 0,
      "outputs": []
    },
    {
      "cell_type": "markdown",
      "metadata": {
        "colab_type": "text",
        "id": "5o1vQGyIo4uE"
      },
      "source": [
        "Note: Depending on how the model is initialized, you may observe that some niche movies (ones with few ratings) have a high norm, leading to spurious recommendations. This can happen if the embedding of that movie happens to be initialized with a high norm. Then, because the movie has few ratings, it is infrequently updated, and can keep its high norm. This will be alleviated by using regularization.\n",
        "\n",
        "Try changing the value of the hyper-parameter `init_stddev`. One quantity that can be helpful is that the expected norm of a $d$-dimensional vector with entries $\\sim \\mathcal N(0, \\sigma^2)$ is approximatley $\\sigma \\sqrt d$.\n",
        "\n",
        "How does this affect the embedding norm distribution, and the ranking of the top-norm movies?"
      ]
    },
    {
      "cell_type": "code",
      "metadata": {
        "id": "2I0FcjkPAoO4",
        "colab_type": "code",
        "colab": {}
      },
      "source": [
        "#@title Solution\n",
        "model_lowinit = build_model(ratings, embedding_dim=30, init_stddev=0.05)\n",
        "model_lowinit.train(num_iterations=1000, learning_rate=10.)\n",
        "movie_neighbors(model_lowinit, \"Aladdin\", DOT)\n",
        "movie_neighbors(model_lowinit, \"Aladdin\", COSINE)\n",
        "movie_embedding_norm([model, model_lowinit])"
      ],
      "execution_count": 0,
      "outputs": []
    },
    {
      "cell_type": "markdown",
      "metadata": {
        "colab_type": "text",
        "id": "fF6dMP1To4uH"
      },
      "source": [
        "## Embedding visualization\n",
        "Since it is hard to visualize embeddings in a higher-dimensional space (when the embedding dimension $k > 3$), one approach is to project the embeddings to a lower dimensional space. T-SNE (T-distributed Stochastic Neighbor Embedding) is an algorithm that projects the embeddings while attempting to preserve their pariwise distances. It can be useful for visualization, but one should use it with care. For more information on using t-SNE, see [How to Use t-SNE Effectively](https://distill.pub/2016/misread-tsne/)."
      ]
    },
    {
      "cell_type": "code",
      "metadata": {
        "colab_type": "code",
        "id": "W6bkyeDao4uH",
        "colab": {}
      },
      "source": [
        "tsne_movie_embeddings(model_lowinit)"
      ],
      "execution_count": 0,
      "outputs": []
    },
    {
      "cell_type": "markdown",
      "metadata": {
        "colab_type": "text",
        "id": "y9j2Bbf8o4uI"
      },
      "source": [
        "You can highlight the embeddings of a given genre by clicking on the genres panel (SHIFT+click to select multiple genres).\n",
        "\n",
        "We can observe that the embeddings do not seem to have any notable structure, and the embeddings of a given genre are located all over the embedding space. This confirms the poor quality of the learned embeddings. One of the main reasons, which we will address in the next section, is that we only trained the model on observed pairs, and without regularization."
      ]
    },
    {
      "cell_type": "markdown",
      "metadata": {
        "colab_type": "text",
        "id": "oPmzSUHro4uI"
      },
      "source": [
        "# V. Regularization In Matrix Factorization\n",
        "\n",
        "In the previous section, our loss was defined as the mean squared error on the observed part of the rating matrix.  As discussed in the lecture, this can be problematic as the model does not learn how to place the embeddings of irrelevant movies. This phenomenon is known as *folding*.\n",
        "\n",
        "We will add regularization terms that will address this issue. We will use two types of regularization:\n",
        "- Regularization of the model parameters. This is a common $\\ell_2$ regularization term on the embedding matrices, given by $r(U, V) =  \\frac{1}{N} \\sum_i \\|U_i\\|^2 + \\frac{1}{M}\\sum_j \\|V_j\\|^2$.\n",
        "- A global prior that pushes the prediction of any pair towards zero, called the *gravity* term. This is given by $g(U, V) = \\frac{1}{MN} \\sum_{i = 1}^N \\sum_{j = 1}^M \\langle U_i, V_j \\rangle^2$.\n",
        "\n",
        "The total loss is then given by\n",
        "$$\n",
        "\\frac{1}{|\\Omega|}\\sum_{(i, j) \\in \\Omega} (A_{ij} - \\langle U_i, V_j\\rangle)^2 + \\lambda _r r(U, V) + \\lambda_g g(U, V)\n",
        "$$\n",
        "where $\\lambda_r$ and $\\lambda_g$ are two regularization coefficients (hyper-parameters)."
      ]
    },
    {
      "cell_type": "markdown",
      "metadata": {
        "colab_type": "text",
        "id": "Jz5bqVbFo4uJ"
      },
      "source": [
        "### Exercise 6: Build a regularized Matrix Factorization model and train it\n",
        "Write a function that builds a regularized model. You are given a function `gravity(U, V)` that computes the gravity term given the two embedding matrices $U$ and $V$.\n"
      ]
    },
    {
      "cell_type": "code",
      "metadata": {
        "colab_type": "code",
        "id": "TBv8X-fYo4uK",
        "colab": {}
      },
      "source": [
        "def gravity(U, V):\n",
        "  \"\"\"Creates a gravity loss given two embedding matrices.\"\"\"\n",
        "  return 1. / (U.shape[0].value*V.shape[0].value) * tf.reduce_sum(\n",
        "      tf.matmul(U, U, transpose_a=True) * tf.matmul(V, V, transpose_a=True))\n",
        "\n",
        "def build_regularized_model(\n",
        "    ratings, embedding_dim=3, regularization_coeff=.1, gravity_coeff=1.,\n",
        "    init_stddev=0.1):\n",
        "  \"\"\"\n",
        "  Args:\n",
        "    ratings: the DataFrame of movie ratings.\n",
        "    embedding_dim: The dimension of the embedding space.\n",
        "    regularization_coeff: The regularization coefficient lambda.\n",
        "    gravity_coeff: The gravity regularization coefficient lambda_g.\n",
        "  Returns:\n",
        "    A CFModel object that uses a regularized loss.\n",
        "  \"\"\"\n",
        "  # Split the ratings DataFrame into train and test.\n",
        "  train_ratings, test_ratings = split_dataframe(ratings)\n",
        "  # SparseTensor representation of the train and test datasets.\n",
        "  A_train = build_rating_sparse_tensor(train_ratings)\n",
        "  A_test = build_rating_sparse_tensor(test_ratings)\n",
        "  U = tf.Variable(tf.random_normal(\n",
        "      [A_train.dense_shape[0], embedding_dim], stddev=init_stddev))\n",
        "  V = tf.Variable(tf.random_normal(\n",
        "      [A_train.dense_shape[1], embedding_dim], stddev=init_stddev))\n",
        "\n",
        "  # ========================= Complete this section ============================\n",
        "  # error_train =\n",
        "  # error_test =\n",
        "  # gravity_loss =\n",
        "  # regularization_loss =\n",
        "  # ============================================================================\n",
        "  total_loss = error_train + regularization_loss + gravity_loss\n",
        "  losses = {\n",
        "      'train_error': error_train,\n",
        "      'test_error': error_test,\n",
        "  }\n",
        "  loss_components = {\n",
        "      'observed_loss': error_train,\n",
        "      'regularization_loss': regularization_loss,\n",
        "      'gravity_loss': gravity_loss,\n",
        "  }\n",
        "  embeddings = {\"user_id\": U, \"movie_id\": V}\n",
        "\n",
        "  return CFModel(embeddings, total_loss, [losses, loss_components])"
      ],
      "execution_count": 0,
      "outputs": []
    },
    {
      "cell_type": "code",
      "metadata": {
        "colab_type": "code",
        "cellView": "form",
        "id": "fhkmyFz8o4uL",
        "colab": {}
      },
      "source": [
        "# @title Solution\n",
        "def gravity(U, V):\n",
        "  \"\"\"Creates a gravity loss given two embedding matrices.\"\"\"\n",
        "  return 1. / (U.shape[0].value*V.shape[0].value) * tf.reduce_sum(\n",
        "      tf.matmul(U, U, transpose_a=True) * tf.matmul(V, V, transpose_a=True))\n",
        "\n",
        "def build_regularized_model(\n",
        "    ratings, embedding_dim=3, regularization_coeff=.1, gravity_coeff=1.,\n",
        "    init_stddev=0.1):\n",
        "  \"\"\"\n",
        "  Args:\n",
        "    ratings: the DataFrame of movie ratings.\n",
        "    embedding_dim: The dimension of the embedding space.\n",
        "    regularization_coeff: The regularization coefficient lambda.\n",
        "    gravity_coeff: The gravity regularization coefficient lambda_g.\n",
        "  Returns:\n",
        "    A CFModel object that uses a regularized loss.\n",
        "  \"\"\"\n",
        "  # Split the ratings DataFrame into train and test.\n",
        "  train_ratings, test_ratings = split_dataframe(ratings)\n",
        "  # SparseTensor representation of the train and test datasets.\n",
        "  A_train = build_rating_sparse_tensor(train_ratings)\n",
        "  A_test = build_rating_sparse_tensor(test_ratings)\n",
        "  U = tf.Variable(tf.random_normal(\n",
        "      [A_train.dense_shape[0], embedding_dim], stddev=init_stddev))\n",
        "  V = tf.Variable(tf.random_normal(\n",
        "      [A_train.dense_shape[1], embedding_dim], stddev=init_stddev))\n",
        "\n",
        "  error_train = sparse_mean_square_error(A_train, U, V)\n",
        "  error_test = sparse_mean_square_error(A_test, U, V)\n",
        "  gravity_loss = gravity_coeff * gravity(U, V)\n",
        "  regularization_loss = regularization_coeff * (\n",
        "      tf.reduce_sum(U*U)/U.shape[0].value + tf.reduce_sum(V*V)/V.shape[0].value)\n",
        "  total_loss = error_train + regularization_loss + gravity_loss\n",
        "  losses = {\n",
        "      'train_error_observed': error_train,\n",
        "      'test_error_observed': error_test,\n",
        "  }\n",
        "  loss_components = {\n",
        "      'observed_loss': error_train,\n",
        "      'regularization_loss': regularization_loss,\n",
        "      'gravity_loss': gravity_loss,\n",
        "  }\n",
        "  embeddings = {\"user_id\": U, \"movie_id\": V}\n",
        "\n",
        "  return CFModel(embeddings, total_loss, [losses, loss_components])"
      ],
      "execution_count": 0,
      "outputs": []
    },
    {
      "cell_type": "markdown",
      "metadata": {
        "id": "Pls1FspbFpzl",
        "colab_type": "text"
      },
      "source": [
        "It is now time to train the regularized model! You can try different values of the regularization coefficients, and different embedding dimensions."
      ]
    },
    {
      "cell_type": "code",
      "metadata": {
        "id": "fgtnpletSjVg",
        "colab_type": "code",
        "colab": {}
      },
      "source": [
        "reg_model = build_regularized_model(\n",
        "    ratings, regularization_coeff=0.1, gravity_coeff=1.0, embedding_dim=35,\n",
        "    init_stddev=.05)\n",
        "reg_model.train(num_iterations=2000, learning_rate=20.)"
      ],
      "execution_count": 0,
      "outputs": []
    },
    {
      "cell_type": "markdown",
      "metadata": {
        "colab_type": "text",
        "id": "ChIWbjRRo4uQ"
      },
      "source": [
        "Observe that adding the regularization terms results in a higher MSE, both on the training and test set. However, as we will see, the quality of the recommendations improves. This highlights a tension between fitting the observed data and minimizing the regularization terms. Fitting the observed data often emphasizes learning high similarity (between items with many interactions), but a good embedding representation also requires learning low similarity (between items with few or no interactions)."
      ]
    },
    {
      "cell_type": "markdown",
      "metadata": {
        "colab_type": "text",
        "id": "Fqumfb5bo4uQ"
      },
      "source": [
        "### Inspect the results\n",
        "Let's see if the results with regularization look better."
      ]
    },
    {
      "cell_type": "code",
      "metadata": {
        "colab_type": "code",
        "id": "VOhUY34ao4uQ",
        "colab": {}
      },
      "source": [
        "user_recommendations(reg_model, DOT, exclude_rated=True, k=10)"
      ],
      "execution_count": 0,
      "outputs": []
    },
    {
      "cell_type": "markdown",
      "metadata": {
        "colab_type": "text",
        "id": "cnL9h2pco4uR"
      },
      "source": [
        "Hopefully, these recommendations look better. You can change the similarity measure from COSINE to DOT and observe how this affects the recommendations.\n",
        "\n",
        "Since the model is likely to recommend items that you rated highly, you have the option to exclude the items you rated, using `exclude_rated=True`.\n",
        "\n",
        "In the following cells, we display the nearest neighbors, the embedding norms, and the t-SNE projection of the movie embeddings."
      ]
    },
    {
      "cell_type": "code",
      "metadata": {
        "colab_type": "code",
        "id": "NPByZUTPo4uR",
        "colab": {}
      },
      "source": [
        "movie_neighbors(reg_model, \"Aladdin\", DOT)\n",
        "movie_neighbors(reg_model, \"Aladdin\", COSINE)"
      ],
      "execution_count": 0,
      "outputs": []
    },
    {
      "cell_type": "markdown",
      "metadata": {
        "colab_type": "text",
        "id": "iiL6mZcpo4uY"
      },
      "source": [
        "Here we compare the embedding norms for `model` and `reg_model`. Selecting a subset of the embeddings will highlight them on both charts simultaneously."
      ]
    },
    {
      "cell_type": "code",
      "metadata": {
        "id": "StMo4lDmLqpc",
        "colab_type": "code",
        "colab": {}
      },
      "source": [
        "movie_embedding_norm([model, model_lowinit, reg_model])"
      ],
      "execution_count": 0,
      "outputs": []
    },
    {
      "cell_type": "code",
      "metadata": {
        "colab_type": "code",
        "id": "9staddTOo4uZ",
        "colab": {}
      },
      "source": [
        "# Visualize the embeddings\n",
        "tsne_movie_embeddings(reg_model)"
      ],
      "execution_count": 0,
      "outputs": []
    },
    {
      "cell_type": "markdown",
      "metadata": {
        "colab_type": "text",
        "id": "moCS2-Dfo4ua"
      },
      "source": [
        "We should observe that the embeddings have a lot more structure than the unregularized case. Try selecting different genres and observe how they tend to form clusters (for example Horror, Animation and Children).\n",
        "\n",
        "### Conclusion\n",
        "This concludes this section on matrix factorization models. Note that while the scale of the problem is small enough to allow efficient training using SGD, many practical problems need to be trained using more specialized algorithms such as Alternating Least Squares (see [tf.contrib.factorization.WALSMatrixFactorization](https://www.tensorflow.org/api_docs/python/tf/contrib/factorization/WALSMatrixFactorization) for a TF implementation)."
      ]
    },
    {
      "cell_type": "markdown",
      "metadata": {
        "colab_type": "text",
        "id": "K7NJT9gbo4ub"
      },
      "source": [
        "# VI. Softmax model\n",
        "\n",
        "In this section, we will train a simple softmax model that predicts whether a given user has rated a movie.\n",
        "\n",
        "**Note**: if you are taking the self-study version of the class, make sure to read through the part of the class covering Softmax training before working on this part.\n",
        "\n",
        "The model will take as input a feature vector $x$ representing the list of movies the user has rated. We start from the ratings DataFrame, which we group by user_id."
      ]
    },
    {
      "cell_type": "code",
      "metadata": {
        "colab_type": "code",
        "id": "JJcaNiWdo4ub",
        "colab": {}
      },
      "source": [
        "rated_movies = (ratings[[\"user_id\", \"movie_id\"]]\n",
        "                .groupby(\"user_id\", as_index=False)\n",
        "                .aggregate(lambda x: list(x)))\n",
        "rated_movies.head()"
      ],
      "execution_count": 0,
      "outputs": []
    },
    {
      "cell_type": "markdown",
      "metadata": {
        "colab_type": "text",
        "id": "X14ABp0Jo4uc"
      },
      "source": [
        "We then create a function that generates an example batch, such that each example contains the following features:\n",
        "- movie_id: A tensor of strings of the movie ids that the user rated.\n",
        "- genre: A tensor of strings of the genres of those movies\n",
        "- year: A tensor of strings of the release year."
      ]
    },
    {
      "cell_type": "code",
      "metadata": {
        "colab_type": "code",
        "cellView": "both",
        "id": "N_IsDAEAo4ud",
        "colab": {}
      },
      "source": [
        "#@title Batch generation code (run this cell)\n",
        "years_dict = {\n",
        "    movie: year for movie, year in zip(movies[\"movie_id\"], movies[\"year\"])\n",
        "}\n",
        "genres_dict = {\n",
        "    movie: genres.split('-')\n",
        "    for movie, genres in zip(movies[\"movie_id\"], movies[\"all_genres\"])\n",
        "}\n",
        "\n",
        "def make_batch(ratings, batch_size):\n",
        "  \"\"\"Creates a batch of examples.\n",
        "  Args:\n",
        "    ratings: A DataFrame of ratings such that examples[\"movie_id\"] is a list of\n",
        "      movies rated by a user.\n",
        "    batch_size: The batch size.\n",
        "  \"\"\"\n",
        "  def pad(x, fill):\n",
        "    return pd.DataFrame.from_dict(x).fillna(fill).values\n",
        "\n",
        "  movie = []\n",
        "  year = []\n",
        "  genre = []\n",
        "  label = []\n",
        "  for movie_ids in ratings[\"movie_id\"].values:\n",
        "    movie.append(movie_ids)\n",
        "    genre.append([x for movie_id in movie_ids for x in genres_dict[movie_id]])\n",
        "    year.append([years_dict[movie_id] for movie_id in movie_ids])\n",
        "    label.append([int(movie_id) for movie_id in movie_ids])\n",
        "  features = {\n",
        "      \"movie_id\": pad(movie, \"\"),\n",
        "      \"year\": pad(year, \"\"),\n",
        "      \"genre\": pad(genre, \"\"),\n",
        "      \"label\": pad(label, -1)\n",
        "  }\n",
        "  batch = (\n",
        "      tf.data.Dataset.from_tensor_slices(features)\n",
        "      .shuffle(1000)\n",
        "      .repeat()\n",
        "      .batch(batch_size)\n",
        "      .make_one_shot_iterator()\n",
        "      .get_next())\n",
        "  return batch\n",
        "\n",
        "def select_random(x):\n",
        "  \"\"\"Selectes a random elements from each row of x.\"\"\"\n",
        "  def to_float(x):\n",
        "    return tf.cast(x, tf.float32)\n",
        "  def to_int(x):\n",
        "    return tf.cast(x, tf.int64)\n",
        "  batch_size = tf.shape(x)[0]\n",
        "  rn = tf.range(batch_size)\n",
        "  nnz = to_float(tf.count_nonzero(x >= 0, axis=1))\n",
        "  rnd = tf.random_uniform([batch_size])\n",
        "  ids = tf.stack([to_int(rn), to_int(nnz * rnd)], axis=1)\n",
        "  return to_int(tf.gather_nd(x, ids))\n"
      ],
      "execution_count": 0,
      "outputs": []
    },
    {
      "cell_type": "code",
      "metadata": {
        "id": "cHyGLYxb8osl",
        "colab_type": "code",
        "colab": {}
      },
      "source": [
        ""
      ],
      "execution_count": 0,
      "outputs": []
    },
    {
      "cell_type": "markdown",
      "metadata": {
        "colab_type": "text",
        "id": "Yef5q1Qlo4ue"
      },
      "source": [
        "### Loss function\n",
        "Recall that the softmax model maps the input features $x$ to a user embedding $\\psi(x) \\in \\mathbb R^d$, where $d$ is the embedding dimension. This vector is then multiplied by a movie embedding matrix $V \\in \\mathbb R^{m \\times d}$ (where $m$ is the number of movies), and the final output of the model is the softmax of the product\n",
        "$$\n",
        "\\hat p(x) = \\text{softmax}(\\psi(x) V^\\top).\n",
        "$$\n",
        "Given a target label $y$, if we denote by $p = 1_y$ a one-hot encoding of this target label, then the loss is the cross-entropy between $\\hat p(x)$ and $p$."
      ]
    },
    {
      "cell_type": "markdown",
      "metadata": {
        "colab_type": "text",
        "id": "DDnGAN_0o4ue"
      },
      "source": [
        "### Exercise 7: Write a loss function for the softmax model.\n",
        "\n",
        "In this exercise, we will write a function that takes tensors representing the user embeddings $\\psi(x)$, movie embeddings $V$, target label $y$, and return the cross-entropy loss.\n",
        "\n",
        "Hint: You can use the function [`tf.nn.sparse_softmax_cross_entropy_with_logits`](https://www.tensorflow.org/api_docs/python/tf/nn/sparse_softmax_cross_entropy_with_logits), which takes `logits` as input, where `logits` refers to the product $\\psi(x) V^\\top$."
      ]
    },
    {
      "cell_type": "code",
      "metadata": {
        "colab_type": "code",
        "id": "4OKzworlo4ue",
        "colab": {}
      },
      "source": [
        "def softmax_loss(user_embeddings, movie_embeddings, labels):\n",
        "  \"\"\"Returns the cross-entropy loss of the softmax model.\n",
        "  Args:\n",
        "    user_embeddings: A tensor of shape [batch_size, embedding_dim].\n",
        "    movie_embeddings: A tensor of shape [num_movies, embedding_dim].\n",
        "    labels: A sparse tensor of dense_shape [batch_size, 1], such that\n",
        "      labels[i] is the target label for example i.\n",
        "  Returns:\n",
        "    The mean cross-entropy loss.\n",
        "  \"\"\"\n",
        "  # ========================= Complete this section ============================\n",
        "  # logits =\n",
        "  # loss =\n",
        "  # ============================================================================\n",
        "  return loss"
      ],
      "execution_count": 0,
      "outputs": []
    },
    {
      "cell_type": "code",
      "metadata": {
        "colab_type": "code",
        "cellView": "form",
        "id": "hQNuR42eo4uf",
        "colab": {}
      },
      "source": [
        "# @title Solution\n",
        "def softmax_loss(user_embeddings, movie_embeddings, labels):\n",
        "  \"\"\"Returns the cross-entropy loss of the softmax model.\n",
        "  Args:\n",
        "    user_embeddings: A tensor of shape [batch_size, embedding_dim].\n",
        "    movie_embeddings: A tensor of shape [num_movies, embedding_dim].\n",
        "    labels: A tensor of [batch_size], such that labels[i] is the target label\n",
        "      for example i.\n",
        "  Returns:\n",
        "    The mean cross-entropy loss.\n",
        "  \"\"\"\n",
        "  # Verify that the embddings have compatible dimensions\n",
        "  user_emb_dim = user_embeddings.shape[1].value\n",
        "  movie_emb_dim = movie_embeddings.shape[1].value\n",
        "  if user_emb_dim != movie_emb_dim:\n",
        "    raise ValueError(\n",
        "        \"The user embedding dimension %d should match the movie embedding \"\n",
        "        \"dimension % d\" % (user_emb_dim, movie_emb_dim))\n",
        "\n",
        "  logits = tf.matmul(user_embeddings, movie_embeddings, transpose_b=True)\n",
        "  loss = tf.reduce_mean(tf.nn.sparse_softmax_cross_entropy_with_logits(\n",
        "      logits=logits, labels=labels))\n",
        "  return loss"
      ],
      "execution_count": 0,
      "outputs": []
    },
    {
      "cell_type": "markdown",
      "metadata": {
        "colab_type": "text",
        "id": "Y9SvjO4go4ug"
      },
      "source": [
        "### Exercise 8: Build a softmax model, train it, and inspect its embeddings.\n",
        "\n",
        "We are now ready to build a softmax CFModel. Complete the `build_softmax_model` function in the next cell. The architecture of the model is defined in the function `create_user_embeddings` and illustrated in the figure below. The input embeddings (movie_id, genre and year) are concatenated to form the input layer, then we have hidden layers with dimensions specified by the `hidden_dims` argument. Finally, the last hidden layer is multiplied by the movie embeddings to obtain the logits layer. For the target label, we will use a randomly-sampled movie_id from the list of movies the user rated.\n",
        "\n",
        "![Softmax model](https://github.com/google/eng-edu/blob/master/ml/recommendation-systems/images/softmax-model.png?raw=true)\n",
        "\n",
        "Complete the function below by creating the feature columns and embedding columns, then creating the loss tensors both for the train and test sets (using the `softmax_loss` function of the previous exercise).\n"
      ]
    },
    {
      "cell_type": "code",
      "metadata": {
        "id": "FVa794-zbE5q",
        "colab_type": "code",
        "colab": {}
      },
      "source": [
        "def build_softmax_model(rated_movies, embedding_cols, hidden_dims):\n",
        "  \"\"\"Builds a Softmax model for MovieLens.\n",
        "  Args:\n",
        "    rated_movies: DataFrame of traing examples.\n",
        "    embedding_cols: A dictionary mapping feature names (string) to embedding\n",
        "      column objects. This will be used in tf.feature_column.input_layer() to\n",
        "      create the input layer.\n",
        "    hidden_dims: int list of the dimensions of the hidden layers.\n",
        "  Returns:\n",
        "    A CFModel object.\n",
        "  \"\"\"\n",
        "  def create_network(features):\n",
        "    \"\"\"Maps input features dictionary to user embeddings.\n",
        "    Args:\n",
        "      features: A dictionary of input string tensors.\n",
        "    Returns:\n",
        "      outputs: A tensor of shape [batch_size, embedding_dim].\n",
        "    \"\"\"\n",
        "    # Create a bag-of-words embedding for each sparse feature.\n",
        "    inputs = tf.feature_column.input_layer(features, embedding_cols)\n",
        "    # Hidden layers.\n",
        "    input_dim = inputs.shape[1].value\n",
        "    for i, output_dim in enumerate(hidden_dims):\n",
        "      w = tf.get_variable(\n",
        "          \"hidden%d_w_\" % i, shape=[input_dim, output_dim],\n",
        "          initializer=tf.truncated_normal_initializer(\n",
        "              stddev=1./np.sqrt(output_dim))) / 10.\n",
        "      outputs = tf.matmul(inputs, w)\n",
        "      input_dim = output_dim\n",
        "      inputs = outputs\n",
        "    return outputs\n",
        "\n",
        "  train_rated_movies, test_rated_movies = split_dataframe(rated_movies)\n",
        "  train_batch = make_batch(train_rated_movies, 200)\n",
        "  test_batch = make_batch(test_rated_movies, 100)\n",
        "\n",
        "  with tf.variable_scope(\"model\", reuse=False):\n",
        "    # Train\n",
        "    train_user_embeddings = create_network(train_batch)\n",
        "    train_labels = select_random(train_batch[\"label\"])\n",
        "  with tf.variable_scope(\"model\", reuse=True):\n",
        "    # Test\n",
        "    test_user_embeddings = create_network(test_batch)\n",
        "    test_labels = select_random(test_batch[\"label\"])\n",
        "    movie_embeddings = tf.get_variable(\n",
        "        \"input_layer/movie_id_embedding/embedding_weights\")\n",
        "\n",
        "  # ========================= Complete this section ============================\n",
        "  # train_loss =\n",
        "  # test_loss =\n",
        "  # test_precision_at_10 =\n",
        "  # ============================================================================\n",
        "\n",
        "  metrics = (\n",
        "      {\"train_loss\": train_loss, \"test_loss\": test_loss},\n",
        "      {\"test_precision_at_10\": test_precision_at_10}\n",
        "  )\n",
        "  embeddings = {\"movie_id\": movie_embeddings}\n",
        "  return CFModel(embeddings, train_loss, metrics)"
      ],
      "execution_count": 0,
      "outputs": []
    },
    {
      "cell_type": "code",
      "metadata": {
        "colab_type": "code",
        "cellView": "form",
        "id": "zAAr73xno4uj",
        "colab": {}
      },
      "source": [
        "# @title Solution\n",
        "\n",
        "def build_softmax_model(rated_movies, embedding_cols, hidden_dims):\n",
        "  \"\"\"Builds a Softmax model for MovieLens.\n",
        "  Args:\n",
        "    rated_movies: DataFrame of traing examples.\n",
        "    embedding_cols: A dictionary mapping feature names (string) to embedding\n",
        "      column objects. This will be used in tf.feature_column.input_layer() to\n",
        "      create the input layer.\n",
        "    hidden_dims: int list of the dimensions of the hidden layers.\n",
        "  Returns:\n",
        "    A CFModel object.\n",
        "  \"\"\"\n",
        "  def create_network(features):\n",
        "    \"\"\"Maps input features dictionary to user embeddings.\n",
        "    Args:\n",
        "      features: A dictionary of input string tensors.\n",
        "    Returns:\n",
        "      outputs: A tensor of shape [batch_size, embedding_dim].\n",
        "    \"\"\"\n",
        "    # Create a bag-of-words embedding for each sparse feature.\n",
        "    inputs = tf.feature_column.input_layer(features, embedding_cols)\n",
        "    # Hidden layers.\n",
        "    input_dim = inputs.shape[1].value\n",
        "    for i, output_dim in enumerate(hidden_dims):\n",
        "      w = tf.get_variable(\n",
        "          \"hidden%d_w_\" % i, shape=[input_dim, output_dim],\n",
        "          initializer=tf.truncated_normal_initializer(\n",
        "              stddev=1./np.sqrt(output_dim))) / 10.\n",
        "      outputs = tf.matmul(inputs, w)\n",
        "      input_dim = output_dim\n",
        "      inputs = outputs\n",
        "    return outputs\n",
        "\n",
        "  train_rated_movies, test_rated_movies = split_dataframe(rated_movies)\n",
        "  train_batch = make_batch(train_rated_movies, 200)\n",
        "  test_batch = make_batch(test_rated_movies, 100)\n",
        "\n",
        "  with tf.variable_scope(\"model\", reuse=False):\n",
        "    # Train\n",
        "    train_user_embeddings = create_network(train_batch)\n",
        "    train_labels = select_random(train_batch[\"label\"])\n",
        "  with tf.variable_scope(\"model\", reuse=True):\n",
        "    # Test\n",
        "    test_user_embeddings = create_network(test_batch)\n",
        "    test_labels = select_random(test_batch[\"label\"])\n",
        "    movie_embeddings = tf.get_variable(\n",
        "        \"input_layer/movie_id_embedding/embedding_weights\")\n",
        "\n",
        "  test_loss = softmax_loss(\n",
        "      test_user_embeddings, movie_embeddings, test_labels)\n",
        "  train_loss = softmax_loss(\n",
        "      train_user_embeddings, movie_embeddings, train_labels)\n",
        "  _, test_precision_at_10 = tf.metrics.precision_at_k(\n",
        "      labels=test_labels,\n",
        "      predictions=tf.matmul(test_user_embeddings, movie_embeddings, transpose_b=True),\n",
        "      k=10)\n",
        "\n",
        "  metrics = (\n",
        "      {\"train_loss\": train_loss, \"test_loss\": test_loss},\n",
        "      {\"test_precision_at_10\": test_precision_at_10}\n",
        "  )\n",
        "  embeddings = {\"movie_id\": movie_embeddings}\n",
        "  return CFModel(embeddings, train_loss, metrics)"
      ],
      "execution_count": 0,
      "outputs": []
    },
    {
      "cell_type": "markdown",
      "metadata": {
        "colab_type": "text",
        "id": "VZB1J8l9o4ul"
      },
      "source": [
        "### Train the Softmax model\n",
        "\n",
        "We are now ready to train the softmax model. You can set the following hyperparameters:\n",
        "- learning rate\n",
        "- number of iterations. Note: you can run `softmax_model.train()` again to continue training the model from its current state.\n",
        "- input embedding dimensions (the `input_dims` argument)\n",
        "- number of hidden layers and size of each layer (the `hidden_dims` argument)\n",
        "\n",
        "Note: since our input features are string-valued (movie_id, genre, and year), we need to map them to integer ids. This is done using [`tf.feature_column.categorical_column_with_vocabulary_list`](https://www.tensorflow.org/api_docs/python/tf/feature_column/categorical_column_with_vocabulary_list), which takes a vocabulary list specifying all the values the feature can take. Then each id is mapped to an embedding vector using [`tf.feature_column.embedding_column`](https://www.tensorflow.org/api_docs/python/tf/feature_column/embedding_column).\n"
      ]
    },
    {
      "cell_type": "code",
      "metadata": {
        "colab_type": "code",
        "id": "jJsXAS_go4ul",
        "colab": {}
      },
      "source": [
        "# Create feature embedding columns\n",
        "def make_embedding_col(key, embedding_dim):\n",
        "  categorical_col = tf.feature_column.categorical_column_with_vocabulary_list(\n",
        "      key=key, vocabulary_list=list(set(movies[key].values)), num_oov_buckets=0)\n",
        "  return tf.feature_column.embedding_column(\n",
        "      categorical_column=categorical_col, dimension=embedding_dim,\n",
        "      # default initializer: trancated normal with stddev=1/sqrt(dimension)\n",
        "      combiner='mean')\n",
        "\n",
        "with tf.Graph().as_default():\n",
        "  softmax_model = build_softmax_model(\n",
        "      rated_movies,\n",
        "      embedding_cols=[\n",
        "          make_embedding_col(\"movie_id\", 35),\n",
        "          make_embedding_col(\"genre\", 3),\n",
        "          make_embedding_col(\"year\", 2),\n",
        "      ],\n",
        "      hidden_dims=[35])\n",
        "\n",
        "softmax_model.train(\n",
        "    learning_rate=8., num_iterations=3000, optimizer=tf.train.AdagradOptimizer)"
      ],
      "execution_count": 0,
      "outputs": []
    },
    {
      "cell_type": "markdown",
      "metadata": {
        "colab_type": "text",
        "id": "-sYjuHxJo4un"
      },
      "source": [
        "### Inspect the embeddings\n",
        "\n",
        "We can inspect the movie embeddings as we did for the previous models. Note that in this case, the movie embeddings are used at the same time as input embeddings (for the bag of words representation of the user history), and as softmax weights."
      ]
    },
    {
      "cell_type": "code",
      "metadata": {
        "colab_type": "code",
        "id": "mvJazlnMo4uo",
        "colab": {}
      },
      "source": [
        "movie_neighbors(softmax_model, \"Aladdin\", DOT)\n",
        "movie_neighbors(softmax_model, \"Aladdin\", COSINE)"
      ],
      "execution_count": 0,
      "outputs": []
    },
    {
      "cell_type": "code",
      "metadata": {
        "colab_type": "code",
        "id": "ReIP69-9o4ur",
        "colab": {}
      },
      "source": [
        "movie_embedding_norm([reg_model, softmax_model])"
      ],
      "execution_count": 0,
      "outputs": []
    },
    {
      "cell_type": "code",
      "metadata": {
        "colab_type": "code",
        "id": "Trq0yYrXo4us",
        "colab": {}
      },
      "source": [
        "tsne_movie_embeddings(softmax_model)"
      ],
      "execution_count": 0,
      "outputs": []
    },
    {
      "cell_type": "markdown",
      "metadata": {
        "colab_type": "text",
        "id": "fZkZJ8yco4uu"
      },
      "source": [
        "## Congratulations!\n",
        "\n",
        "You have completed this Colab notebook.\n",
        "\n",
        "If you would like to further explore these models, we encourage you to try different hyperparameters and observe how this affects the quality of the model and the structure of the embedding space. Here are some suggestions:\n",
        "- Change the embedding dimension.\n",
        "- In the softmax model: change the number of hidden layers, and the input features. For example, you can try a model with no hidden layers, and only the movie ids as inputs.\n",
        "- Using other similarity measures: In this Colab notebook, we used dot product $d(u, V_j) = \\langle u, V_j \\rangle$ and cosine $d(u, V_j) = \\frac{\\langle u, V_j \\rangle}{\\|u\\|\\|V_j\\|}$, and discussed how the norms of the embeddings affect the recommendations. You can also try other variants which apply a transformation to the norm, for example $d(u, V_j) = \\frac{\\langle u, V_j \\rangle}{\\|V_j\\|^\\alpha}$."
      ]
    }
  ]
}